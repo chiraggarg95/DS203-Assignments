{
  "nbformat": 4,
  "nbformat_minor": 0,
  "metadata": {
    "colab": {
      "name": "6_2_190100042_DS203.ipynb",
      "provenance": [],
      "collapsed_sections": []
    },
    "kernelspec": {
      "name": "python3",
      "display_name": "Python 3"
    }
  },
  "cells": [
    {
      "cell_type": "markdown",
      "metadata": {
        "id": "RzSAtYZSz-nt"
      },
      "source": [
        "# Importing Libraries"
      ]
    },
    {
      "cell_type": "code",
      "metadata": {
        "id": "jhpRlYRTVKnf",
        "outputId": "91b8e45d-08cf-4470-a39a-6afd5ff24a96",
        "colab": {
          "base_uri": "https://localhost:8080/",
          "height": 52
        }
      },
      "source": [
        "# Importing Libraries\n",
        "import pandas as pd\n",
        "import numpy as np\n",
        "import matplotlib.pyplot as plt\n",
        "import seaborn as sns\n",
        "from scipy.stats import entropy\n",
        "from scipy import stats \n",
        "import statsmodels.api as sm\n",
        "import plotly.express as px\n",
        "import scipy.stats\n",
        "from scipy.stats import chisquare"
      ],
      "execution_count": 1,
      "outputs": [
        {
          "output_type": "stream",
          "text": [
            "/usr/local/lib/python3.6/dist-packages/statsmodels/tools/_testing.py:19: FutureWarning: pandas.util.testing is deprecated. Use the functions in the public API at pandas.testing instead.\n",
            "  import pandas.util.testing as tm\n"
          ],
          "name": "stderr"
        }
      ]
    },
    {
      "cell_type": "markdown",
      "metadata": {
        "id": "53RGfZvLVKnm"
      },
      "source": [
        "# Read Dataset into Pandas Dataframe"
      ]
    },
    {
      "cell_type": "code",
      "metadata": {
        "id": "wKk7PA3YVKnm"
      },
      "source": [
        "#Reading data into pandas df\n",
        "df = pd.read_csv(\"https://raw.githubusercontent.com/chiraggarg95/DS-203-Assignments/Assignment_4/summer-products-with-rating-and-performance_2020-08.csv\")"
      ],
      "execution_count": 2,
      "outputs": []
    },
    {
      "cell_type": "markdown",
      "metadata": {
        "id": "lUtoKQpsVKns"
      },
      "source": [
        "# Display part of Dataset"
      ]
    },
    {
      "cell_type": "code",
      "metadata": {
        "id": "k2X8DIBGVKnt",
        "outputId": "a36388d1-f7aa-425a-b4cc-36b83f4734c9",
        "colab": {
          "base_uri": "https://localhost:8080/",
          "height": 686
        }
      },
      "source": [
        "#Displaying part of datasetṣ\n",
        "df.head()"
      ],
      "execution_count": 3,
      "outputs": [
        {
          "output_type": "execute_result",
          "data": {
            "text/html": [
              "<div>\n",
              "<style scoped>\n",
              "    .dataframe tbody tr th:only-of-type {\n",
              "        vertical-align: middle;\n",
              "    }\n",
              "\n",
              "    .dataframe tbody tr th {\n",
              "        vertical-align: top;\n",
              "    }\n",
              "\n",
              "    .dataframe thead th {\n",
              "        text-align: right;\n",
              "    }\n",
              "</style>\n",
              "<table border=\"1\" class=\"dataframe\">\n",
              "  <thead>\n",
              "    <tr style=\"text-align: right;\">\n",
              "      <th></th>\n",
              "      <th>title</th>\n",
              "      <th>title_orig</th>\n",
              "      <th>price</th>\n",
              "      <th>retail_price</th>\n",
              "      <th>currency_buyer</th>\n",
              "      <th>units_sold</th>\n",
              "      <th>uses_ad_boosts</th>\n",
              "      <th>rating</th>\n",
              "      <th>rating_count</th>\n",
              "      <th>rating_five_count</th>\n",
              "      <th>rating_four_count</th>\n",
              "      <th>rating_three_count</th>\n",
              "      <th>rating_two_count</th>\n",
              "      <th>rating_one_count</th>\n",
              "      <th>badges_count</th>\n",
              "      <th>badge_local_product</th>\n",
              "      <th>badge_product_quality</th>\n",
              "      <th>badge_fast_shipping</th>\n",
              "      <th>tags</th>\n",
              "      <th>product_color</th>\n",
              "      <th>product_variation_size_id</th>\n",
              "      <th>product_variation_inventory</th>\n",
              "      <th>shipping_option_name</th>\n",
              "      <th>shipping_option_price</th>\n",
              "      <th>shipping_is_express</th>\n",
              "      <th>countries_shipped_to</th>\n",
              "      <th>inventory_total</th>\n",
              "      <th>has_urgency_banner</th>\n",
              "      <th>urgency_text</th>\n",
              "      <th>origin_country</th>\n",
              "      <th>merchant_title</th>\n",
              "      <th>merchant_name</th>\n",
              "      <th>merchant_info_subtitle</th>\n",
              "      <th>merchant_rating_count</th>\n",
              "      <th>merchant_rating</th>\n",
              "      <th>merchant_id</th>\n",
              "      <th>merchant_has_profile_picture</th>\n",
              "      <th>merchant_profile_picture</th>\n",
              "      <th>product_url</th>\n",
              "      <th>product_picture</th>\n",
              "      <th>product_id</th>\n",
              "      <th>theme</th>\n",
              "      <th>crawl_month</th>\n",
              "    </tr>\n",
              "  </thead>\n",
              "  <tbody>\n",
              "    <tr>\n",
              "      <th>0</th>\n",
              "      <td>2020 Summer Vintage Flamingo Print  Pajamas Se...</td>\n",
              "      <td>2020 Summer Vintage Flamingo Print  Pajamas Se...</td>\n",
              "      <td>16.00</td>\n",
              "      <td>14</td>\n",
              "      <td>EUR</td>\n",
              "      <td>100</td>\n",
              "      <td>0</td>\n",
              "      <td>3.76</td>\n",
              "      <td>54</td>\n",
              "      <td>26.0</td>\n",
              "      <td>8.0</td>\n",
              "      <td>10.0</td>\n",
              "      <td>1.0</td>\n",
              "      <td>9.0</td>\n",
              "      <td>0</td>\n",
              "      <td>0</td>\n",
              "      <td>0</td>\n",
              "      <td>0</td>\n",
              "      <td>Summer,Fashion,womenunderwearsuit,printedpajam...</td>\n",
              "      <td>white</td>\n",
              "      <td>M</td>\n",
              "      <td>50</td>\n",
              "      <td>Livraison standard</td>\n",
              "      <td>4</td>\n",
              "      <td>0</td>\n",
              "      <td>34</td>\n",
              "      <td>50</td>\n",
              "      <td>1.0</td>\n",
              "      <td>Quantité limitée !</td>\n",
              "      <td>CN</td>\n",
              "      <td>zgrdejia</td>\n",
              "      <td>zgrdejia</td>\n",
              "      <td>(568 notes)</td>\n",
              "      <td>568</td>\n",
              "      <td>4.128521</td>\n",
              "      <td>595097d6a26f6e070cb878d1</td>\n",
              "      <td>0</td>\n",
              "      <td>NaN</td>\n",
              "      <td>https://www.wish.com/c/5e9ae51d43d6a96e303acdb0</td>\n",
              "      <td>https://contestimg.wish.com/api/webimage/5e9ae...</td>\n",
              "      <td>5e9ae51d43d6a96e303acdb0</td>\n",
              "      <td>summer</td>\n",
              "      <td>2020-08</td>\n",
              "    </tr>\n",
              "    <tr>\n",
              "      <th>1</th>\n",
              "      <td>SSHOUSE Summer Casual Sleeveless Soirée Party ...</td>\n",
              "      <td>Women's Casual Summer Sleeveless Sexy Mini Dress</td>\n",
              "      <td>8.00</td>\n",
              "      <td>22</td>\n",
              "      <td>EUR</td>\n",
              "      <td>20000</td>\n",
              "      <td>1</td>\n",
              "      <td>3.45</td>\n",
              "      <td>6135</td>\n",
              "      <td>2269.0</td>\n",
              "      <td>1027.0</td>\n",
              "      <td>1118.0</td>\n",
              "      <td>644.0</td>\n",
              "      <td>1077.0</td>\n",
              "      <td>0</td>\n",
              "      <td>0</td>\n",
              "      <td>0</td>\n",
              "      <td>0</td>\n",
              "      <td>Mini,womens dresses,Summer,Patchwork,fashion d...</td>\n",
              "      <td>green</td>\n",
              "      <td>XS</td>\n",
              "      <td>50</td>\n",
              "      <td>Livraison standard</td>\n",
              "      <td>2</td>\n",
              "      <td>0</td>\n",
              "      <td>41</td>\n",
              "      <td>50</td>\n",
              "      <td>1.0</td>\n",
              "      <td>Quantité limitée !</td>\n",
              "      <td>CN</td>\n",
              "      <td>SaraHouse</td>\n",
              "      <td>sarahouse</td>\n",
              "      <td>83 % avis positifs (17,752 notes)</td>\n",
              "      <td>17752</td>\n",
              "      <td>3.899673</td>\n",
              "      <td>56458aa03a698c35c9050988</td>\n",
              "      <td>0</td>\n",
              "      <td>NaN</td>\n",
              "      <td>https://www.wish.com/c/58940d436a0d3d5da4e95a38</td>\n",
              "      <td>https://contestimg.wish.com/api/webimage/58940...</td>\n",
              "      <td>58940d436a0d3d5da4e95a38</td>\n",
              "      <td>summer</td>\n",
              "      <td>2020-08</td>\n",
              "    </tr>\n",
              "    <tr>\n",
              "      <th>2</th>\n",
              "      <td>2020 Nouvelle Arrivée Femmes Printemps et Été ...</td>\n",
              "      <td>2020 New Arrival Women Spring and Summer Beach...</td>\n",
              "      <td>8.00</td>\n",
              "      <td>43</td>\n",
              "      <td>EUR</td>\n",
              "      <td>100</td>\n",
              "      <td>0</td>\n",
              "      <td>3.57</td>\n",
              "      <td>14</td>\n",
              "      <td>5.0</td>\n",
              "      <td>4.0</td>\n",
              "      <td>2.0</td>\n",
              "      <td>0.0</td>\n",
              "      <td>3.0</td>\n",
              "      <td>0</td>\n",
              "      <td>0</td>\n",
              "      <td>0</td>\n",
              "      <td>0</td>\n",
              "      <td>Summer,cardigan,women beachwear,chiffon,Sexy w...</td>\n",
              "      <td>leopardprint</td>\n",
              "      <td>XS</td>\n",
              "      <td>1</td>\n",
              "      <td>Livraison standard</td>\n",
              "      <td>3</td>\n",
              "      <td>0</td>\n",
              "      <td>36</td>\n",
              "      <td>50</td>\n",
              "      <td>1.0</td>\n",
              "      <td>Quantité limitée !</td>\n",
              "      <td>CN</td>\n",
              "      <td>hxt520</td>\n",
              "      <td>hxt520</td>\n",
              "      <td>86 % avis positifs (295 notes)</td>\n",
              "      <td>295</td>\n",
              "      <td>3.989831</td>\n",
              "      <td>5d464a1ffdf7bc44ee933c65</td>\n",
              "      <td>0</td>\n",
              "      <td>NaN</td>\n",
              "      <td>https://www.wish.com/c/5ea10e2c617580260d55310a</td>\n",
              "      <td>https://contestimg.wish.com/api/webimage/5ea10...</td>\n",
              "      <td>5ea10e2c617580260d55310a</td>\n",
              "      <td>summer</td>\n",
              "      <td>2020-08</td>\n",
              "    </tr>\n",
              "    <tr>\n",
              "      <th>3</th>\n",
              "      <td>Hot Summer Cool T-shirt pour les femmes Mode T...</td>\n",
              "      <td>Hot Summer Cool T Shirt for Women Fashion Tops...</td>\n",
              "      <td>8.00</td>\n",
              "      <td>8</td>\n",
              "      <td>EUR</td>\n",
              "      <td>5000</td>\n",
              "      <td>1</td>\n",
              "      <td>4.03</td>\n",
              "      <td>579</td>\n",
              "      <td>295.0</td>\n",
              "      <td>119.0</td>\n",
              "      <td>87.0</td>\n",
              "      <td>42.0</td>\n",
              "      <td>36.0</td>\n",
              "      <td>0</td>\n",
              "      <td>0</td>\n",
              "      <td>0</td>\n",
              "      <td>0</td>\n",
              "      <td>Summer,Shorts,Cotton,Cotton T Shirt,Sleeve,pri...</td>\n",
              "      <td>black</td>\n",
              "      <td>M</td>\n",
              "      <td>50</td>\n",
              "      <td>Livraison standard</td>\n",
              "      <td>2</td>\n",
              "      <td>0</td>\n",
              "      <td>41</td>\n",
              "      <td>50</td>\n",
              "      <td>NaN</td>\n",
              "      <td>NaN</td>\n",
              "      <td>CN</td>\n",
              "      <td>allenfan</td>\n",
              "      <td>allenfan</td>\n",
              "      <td>(23,832 notes)</td>\n",
              "      <td>23832</td>\n",
              "      <td>4.020435</td>\n",
              "      <td>58cfdefdacb37b556efdff7c</td>\n",
              "      <td>0</td>\n",
              "      <td>NaN</td>\n",
              "      <td>https://www.wish.com/c/5cedf17ad1d44c52c59e4aca</td>\n",
              "      <td>https://contestimg.wish.com/api/webimage/5cedf...</td>\n",
              "      <td>5cedf17ad1d44c52c59e4aca</td>\n",
              "      <td>summer</td>\n",
              "      <td>2020-08</td>\n",
              "    </tr>\n",
              "    <tr>\n",
              "      <th>4</th>\n",
              "      <td>Femmes Shorts d'été à lacets taille élastique ...</td>\n",
              "      <td>Women Summer Shorts Lace Up Elastic Waistband ...</td>\n",
              "      <td>2.72</td>\n",
              "      <td>3</td>\n",
              "      <td>EUR</td>\n",
              "      <td>100</td>\n",
              "      <td>1</td>\n",
              "      <td>3.10</td>\n",
              "      <td>20</td>\n",
              "      <td>6.0</td>\n",
              "      <td>4.0</td>\n",
              "      <td>2.0</td>\n",
              "      <td>2.0</td>\n",
              "      <td>6.0</td>\n",
              "      <td>0</td>\n",
              "      <td>0</td>\n",
              "      <td>0</td>\n",
              "      <td>0</td>\n",
              "      <td>Summer,Plus Size,Lace,Casual pants,Bottom,pant...</td>\n",
              "      <td>yellow</td>\n",
              "      <td>S</td>\n",
              "      <td>1</td>\n",
              "      <td>Livraison standard</td>\n",
              "      <td>1</td>\n",
              "      <td>0</td>\n",
              "      <td>35</td>\n",
              "      <td>50</td>\n",
              "      <td>1.0</td>\n",
              "      <td>Quantité limitée !</td>\n",
              "      <td>CN</td>\n",
              "      <td>youngpeopleshop</td>\n",
              "      <td>happyhorses</td>\n",
              "      <td>85 % avis positifs (14,482 notes)</td>\n",
              "      <td>14482</td>\n",
              "      <td>4.001588</td>\n",
              "      <td>5ab3b592c3911a095ad5dadb</td>\n",
              "      <td>0</td>\n",
              "      <td>NaN</td>\n",
              "      <td>https://www.wish.com/c/5ebf5819ebac372b070b0e70</td>\n",
              "      <td>https://contestimg.wish.com/api/webimage/5ebf5...</td>\n",
              "      <td>5ebf5819ebac372b070b0e70</td>\n",
              "      <td>summer</td>\n",
              "      <td>2020-08</td>\n",
              "    </tr>\n",
              "  </tbody>\n",
              "</table>\n",
              "</div>"
            ],
            "text/plain": [
              "                                               title  ... crawl_month\n",
              "0  2020 Summer Vintage Flamingo Print  Pajamas Se...  ...     2020-08\n",
              "1  SSHOUSE Summer Casual Sleeveless Soirée Party ...  ...     2020-08\n",
              "2  2020 Nouvelle Arrivée Femmes Printemps et Été ...  ...     2020-08\n",
              "3  Hot Summer Cool T-shirt pour les femmes Mode T...  ...     2020-08\n",
              "4  Femmes Shorts d'été à lacets taille élastique ...  ...     2020-08\n",
              "\n",
              "[5 rows x 43 columns]"
            ]
          },
          "metadata": {
            "tags": []
          },
          "execution_count": 3
        }
      ]
    },
    {
      "cell_type": "markdown",
      "metadata": {
        "id": "K1yHQLuhCZQv"
      },
      "source": [
        "#Cleaning up of Dataset\n",
        "\n",
        "### Note: This is being done on the basis of analysis performed earlier"
      ]
    },
    {
      "cell_type": "markdown",
      "metadata": {
        "id": "4Cslt_GKHaZQ"
      },
      "source": [
        "## Replacing NaN values in rating count to 0.0"
      ]
    },
    {
      "cell_type": "code",
      "metadata": {
        "id": "acg8lulDHaZR"
      },
      "source": [
        " # replacing null values by 0\n",
        "df['rating_five_count'] = df['rating_five_count'].fillna(0)\n",
        "df['rating_four_count'] = df['rating_four_count'].fillna(0)\n",
        "df['rating_three_count'] = df['rating_three_count'].fillna(0)\n",
        "df['rating_two_count'] = df['rating_two_count'].fillna(0)\n",
        "df['rating_one_count'] = df['rating_one_count'].fillna(0)"
      ],
      "execution_count": 4,
      "outputs": []
    },
    {
      "cell_type": "markdown",
      "metadata": {
        "id": "hh8J36kJ5bR_"
      },
      "source": [
        "Converting \"units_sold\" from float to int"
      ]
    },
    {
      "cell_type": "code",
      "metadata": {
        "id": "53FKxowr5jZA"
      },
      "source": [
        "df[\"units_sold\"] = df[\"units_sold\"].astype(int)"
      ],
      "execution_count": 5,
      "outputs": []
    },
    {
      "cell_type": "markdown",
      "metadata": {
        "id": "Eso-Nyhs0fUx"
      },
      "source": [
        "# Statisitcal Analysis"
      ]
    },
    {
      "cell_type": "code",
      "metadata": {
        "id": "xZGejOm2akUt",
        "outputId": "8b1e0514-0943-4269-a0cd-5b734875b133",
        "colab": {
          "base_uri": "https://localhost:8080/",
          "height": 298
        }
      },
      "source": [
        "df['units_sold'].value_counts()"
      ],
      "execution_count": 6,
      "outputs": [
        {
          "output_type": "execute_result",
          "data": {
            "text/plain": [
              "100       509\n",
              "1000      405\n",
              "5000      217\n",
              "10000     177\n",
              "20000     103\n",
              "50         76\n",
              "10         49\n",
              "50000      17\n",
              "100000      6\n",
              "8           4\n",
              "1           3\n",
              "7           2\n",
              "3           2\n",
              "2           2\n",
              "6           1\n",
              "Name: units_sold, dtype: int64"
            ]
          },
          "metadata": {
            "tags": []
          },
          "execution_count": 6
        }
      ]
    },
    {
      "cell_type": "markdown",
      "metadata": {
        "id": "YXtfqBxxdCEp"
      },
      "source": [
        "## Mean and Variance"
      ]
    },
    {
      "cell_type": "code",
      "metadata": {
        "id": "8yNVFzr30ZzR",
        "outputId": "94dd4063-1ba3-462c-85cc-e3be77e0dfab",
        "colab": {
          "base_uri": "https://localhost:8080/",
          "height": 668
        }
      },
      "source": [
        "units_sold = np.array([100, 1000, 5000, 10000, 20000])\n",
        "\n",
        "print('Mean and variance of the prices for top 6 number of units sold values by data points available:')\n",
        "print()\n",
        "\n",
        "means = []\n",
        "vars = []\n",
        "\n",
        "for u in units_sold:\n",
        "    var = df.sort_values(by='units_sold', ascending=False).groupby(['units_sold']).get_group(u)['price'].var()\n",
        "    mean = df.sort_values(by='units_sold', ascending=False).groupby(['units_sold']).get_group(u)['price'].mean()\n",
        "    pts = df['units_sold'].value_counts()[u]\n",
        "\n",
        "    means.append(mean)\n",
        "    vars.append(var)\n",
        "\n",
        "    print('Number of units sold: ' + str(u))\n",
        "    print('Data Points available: ' + str(pts))\n",
        "    print()\n",
        "    print('Mean of prices: ' + str(mean))\n",
        "    print('Variance of prices: ' + str(var))\n",
        "    print()\n",
        "    print()"
      ],
      "execution_count": 7,
      "outputs": [
        {
          "output_type": "stream",
          "text": [
            "Mean and variance of the prices for top 6 number of units sold values by data points available:\n",
            "\n",
            "Number of units sold: 100\n",
            "Data Points available: 509\n",
            "\n",
            "Mean of prices: 8.082082514734772\n",
            "Variance of prices: 19.886048804201483\n",
            "\n",
            "\n",
            "Number of units sold: 1000\n",
            "Data Points available: 405\n",
            "\n",
            "Mean of prices: 8.586666666666668\n",
            "Variance of prices: 13.904377722772283\n",
            "\n",
            "\n",
            "Number of units sold: 5000\n",
            "Data Points available: 217\n",
            "\n",
            "Mean of prices: 8.483087557603689\n",
            "Variance of prices: 11.580815885816705\n",
            "\n",
            "\n",
            "Number of units sold: 10000\n",
            "Data Points available: 177\n",
            "\n",
            "Mean of prices: 8.313559322033896\n",
            "Variance of prices: 8.873871918335906\n",
            "\n",
            "\n",
            "Number of units sold: 20000\n",
            "Data Points available: 103\n",
            "\n",
            "Mean of prices: 8.729611650485436\n",
            "Variance of prices: 12.605401808490392\n",
            "\n",
            "\n"
          ],
          "name": "stdout"
        }
      ]
    },
    {
      "cell_type": "code",
      "metadata": {
        "id": "7SDtOknIZtW2"
      },
      "source": [
        "means = np.array(means)\n",
        "vars = np.array(vars)"
      ],
      "execution_count": 8,
      "outputs": []
    },
    {
      "cell_type": "code",
      "metadata": {
        "id": "FBKKlUvaZyIm",
        "outputId": "3e42635a-e78a-410d-c8c8-057c97425968",
        "colab": {
          "base_uri": "https://localhost:8080/",
          "height": 52
        }
      },
      "source": [
        "print(means.shape)\n",
        "print(vars.shape)"
      ],
      "execution_count": 9,
      "outputs": [
        {
          "output_type": "stream",
          "text": [
            "(5,)\n",
            "(5,)\n"
          ],
          "name": "stdout"
        }
      ]
    },
    {
      "cell_type": "markdown",
      "metadata": {
        "id": "eUcXViZtdF3A"
      },
      "source": [
        "## QQ-Plots"
      ]
    },
    {
      "cell_type": "code",
      "metadata": {
        "id": "XOpO4Abq1eAx",
        "outputId": "281cbbc6-3206-4612-aaeb-00c1e45c53d5",
        "colab": {
          "base_uri": "https://localhost:8080/",
          "height": 1000
        }
      },
      "source": [
        "for u in units_sold:\n",
        "    sm.qqplot(df.sort_values(by='units_sold', ascending=False).groupby(['units_sold']).get_group(u)['price'], line='s')\n",
        "    plt.title('Units Sold: ' + str(u))\n",
        "    plt.show()"
      ],
      "execution_count": 10,
      "outputs": [
        {
          "output_type": "display_data",
          "data": {
            "image/png": "[encoded data removed]",
            "text/plain": [
              "<Figure size 432x288 with 1 Axes>"
            ]
          },
          "metadata": {
            "tags": [],
            "needs_background": "light"
          }
        },
        {
          "output_type": "display_data",
          "data": {
            "image/png": "[encoded data removed]",
            "text/plain": [
              "<Figure size 432x288 with 1 Axes>"
            ]
          },
          "metadata": {
            "tags": [],
            "needs_background": "light"
          }
        },
        {
          "output_type": "display_data",
          "data": {
            "image/png": "[encoded data removed]",
            "text/plain": [
              "<Figure size 432x288 with 1 Axes>"
            ]
          },
          "metadata": {
            "tags": [],
            "needs_background": "light"
          }
        },
        {
          "output_type": "display_data",
          "data": {
            "image/png": "[encoded data removed]",
            "text/plain": [
              "<Figure size 432x288 with 1 Axes>"
            ]
          },
          "metadata": {
            "tags": [],
            "needs_background": "light"
          }
        },
        {
          "output_type": "display_data",
          "data": {
            "image/png": "[encoded data removed]",
            "text/plain": [
              "<Figure size 432x288 with 1 Axes>"
            ]
          },
          "metadata": {
            "tags": [],
            "needs_background": "light"
          }
        }
      ]
    },
    {
      "cell_type": "markdown",
      "metadata": {
        "id": "EI2k04cZZYLi"
      },
      "source": [
        "## Log Likelihood wrt Gaussian Distribution\n"
      ]
    },
    {
      "cell_type": "code",
      "metadata": {
        "id": "qRybmGyoZXJV",
        "outputId": "9ee1b0b2-e69b-467b-ce33-e5dd91f57c41",
        "colab": {
          "base_uri": "https://localhost:8080/",
          "height": 281
        }
      },
      "source": [
        "for i in range (0, 5):\n",
        "    u = units_sold[i]\n",
        "    mean = means[i]\n",
        "    var = vars[i]\n",
        "    print('Units Sold: ' + str(u))\n",
        "    print('Log Likelihood: ' + str(np.sum(np.log(scipy.stats.norm.pdf(df.groupby(['units_sold']).get_group(u)['price'], mean, np.sqrt(var))))))\n",
        "    print()"
      ],
      "execution_count": 11,
      "outputs": [
        {
          "output_type": "stream",
          "text": [
            "Units Sold: 100\n",
            "Log Likelihood: -1482.6994014830411\n",
            "\n",
            "Units Sold: 1000\n",
            "Log Likelihood: -1107.1913622117847\n",
            "\n",
            "Units Sold: 5000\n",
            "Log Likelihood: -573.1641286898423\n",
            "\n",
            "Units Sold: 10000\n",
            "Log Likelihood: -443.8574633020444\n",
            "\n",
            "Units Sold: 20000\n",
            "Log Likelihood: -276.158128927898\n",
            "\n"
          ],
          "name": "stdout"
        }
      ]
    },
    {
      "cell_type": "markdown",
      "metadata": {
        "id": "Q9bZ59Z_39Uw"
      },
      "source": [
        "#### The qq-plots and the Log Likelihood values correspond each other well. The closeness of the qq-plot to the straight line indicates that the distribution is more Normal. Also, a lower log likelihood value (MAGNITUDE WISE) indicates that the distribution is more normal.\n"
      ]
    },
    {
      "cell_type": "markdown",
      "metadata": {
        "id": "nffxUZUGgFkJ"
      },
      "source": [
        "## 95% Confidence Interval"
      ]
    },
    {
      "cell_type": "code",
      "metadata": {
        "id": "U87XteGWdPb6"
      },
      "source": [
        "def mean_confidence_interval(data, confidence=0.95):\n",
        "    a = 1.0 * np.array(data)\n",
        "    n = len(a)\n",
        "    m, se = np.mean(a), scipy.stats.sem(a)\n",
        "    h = se * scipy.stats.t.ppf((1 + confidence) / 2., n-1)\n",
        "    return m, m-h, m+h"
      ],
      "execution_count": 12,
      "outputs": []
    },
    {
      "cell_type": "code",
      "metadata": {
        "id": "7lWXk6MXgKIh",
        "outputId": "146d0ba5-de8d-492b-9e5f-dec1652eada2",
        "colab": {
          "base_uri": "https://localhost:8080/",
          "height": 281
        }
      },
      "source": [
        "for u in units_sold:\n",
        "    conf_int = mean_confidence_interval(df.sort_values(by='units_sold', ascending=False).groupby(['units_sold']).get_group(u)['price'])\n",
        "    print('Units Sold: ' + str(u))\n",
        "    print('Confidence Interval: (' + str(conf_int[1]) + ', ' + str(conf_int[2]) + ')')\n",
        "    print()"
      ],
      "execution_count": 13,
      "outputs": [
        {
          "output_type": "stream",
          "text": [
            "Units Sold: 100\n",
            "Confidence Interval: (7.693753898716479, 8.47041113075307)\n",
            "\n",
            "Units Sold: 1000\n",
            "Confidence Interval: (8.222416828641824, 8.950916504691508)\n",
            "\n",
            "Units Sold: 5000\n",
            "Confidence Interval: (8.02775575740011, 8.938419357807264)\n",
            "\n",
            "Units Sold: 10000\n",
            "Confidence Interval: (7.871668844434072, 8.755449799633723)\n",
            "\n",
            "Units Sold: 20000\n",
            "Confidence Interval: (8.035721215150812, 9.423502085820061)\n",
            "\n"
          ],
          "name": "stdout"
        }
      ]
    },
    {
      "cell_type": "markdown",
      "metadata": {
        "id": "DLgSbmPZv5DK"
      },
      "source": [
        "## Welch's t-test"
      ]
    },
    {
      "cell_type": "code",
      "metadata": {
        "id": "hOkYVOXpvHO3",
        "outputId": "d8151547-f474-4ff2-ea99-3b753f6554d1",
        "colab": {
          "base_uri": "https://localhost:8080/",
          "height": 245
        }
      },
      "source": [
        "df[df['units_sold'].isin(units_sold)].groupby(['units_sold']).mean()"
      ],
      "execution_count": 14,
      "outputs": [
        {
          "output_type": "execute_result",
          "data": {
            "text/html": [
              "<div>\n",
              "<style scoped>\n",
              "    .dataframe tbody tr th:only-of-type {\n",
              "        vertical-align: middle;\n",
              "    }\n",
              "\n",
              "    .dataframe tbody tr th {\n",
              "        vertical-align: top;\n",
              "    }\n",
              "\n",
              "    .dataframe thead th {\n",
              "        text-align: right;\n",
              "    }\n",
              "</style>\n",
              "<table border=\"1\" class=\"dataframe\">\n",
              "  <thead>\n",
              "    <tr style=\"text-align: right;\">\n",
              "      <th></th>\n",
              "      <th>price</th>\n",
              "      <th>retail_price</th>\n",
              "      <th>uses_ad_boosts</th>\n",
              "      <th>rating</th>\n",
              "      <th>rating_count</th>\n",
              "      <th>rating_five_count</th>\n",
              "      <th>rating_four_count</th>\n",
              "      <th>rating_three_count</th>\n",
              "      <th>rating_two_count</th>\n",
              "      <th>rating_one_count</th>\n",
              "      <th>badges_count</th>\n",
              "      <th>badge_local_product</th>\n",
              "      <th>badge_product_quality</th>\n",
              "      <th>badge_fast_shipping</th>\n",
              "      <th>product_variation_inventory</th>\n",
              "      <th>shipping_option_price</th>\n",
              "      <th>shipping_is_express</th>\n",
              "      <th>countries_shipped_to</th>\n",
              "      <th>inventory_total</th>\n",
              "      <th>has_urgency_banner</th>\n",
              "      <th>merchant_rating_count</th>\n",
              "      <th>merchant_rating</th>\n",
              "      <th>merchant_has_profile_picture</th>\n",
              "    </tr>\n",
              "    <tr>\n",
              "      <th>units_sold</th>\n",
              "      <th></th>\n",
              "      <th></th>\n",
              "      <th></th>\n",
              "      <th></th>\n",
              "      <th></th>\n",
              "      <th></th>\n",
              "      <th></th>\n",
              "      <th></th>\n",
              "      <th></th>\n",
              "      <th></th>\n",
              "      <th></th>\n",
              "      <th></th>\n",
              "      <th></th>\n",
              "      <th></th>\n",
              "      <th></th>\n",
              "      <th></th>\n",
              "      <th></th>\n",
              "      <th></th>\n",
              "      <th></th>\n",
              "      <th></th>\n",
              "      <th></th>\n",
              "      <th></th>\n",
              "      <th></th>\n",
              "    </tr>\n",
              "  </thead>\n",
              "  <tbody>\n",
              "    <tr>\n",
              "      <th>100</th>\n",
              "      <td>8.082083</td>\n",
              "      <td>22.701375</td>\n",
              "      <td>0.479371</td>\n",
              "      <td>3.725246</td>\n",
              "      <td>33.351670</td>\n",
              "      <td>15.237721</td>\n",
              "      <td>6.404715</td>\n",
              "      <td>4.726916</td>\n",
              "      <td>2.412574</td>\n",
              "      <td>4.569745</td>\n",
              "      <td>0.094303</td>\n",
              "      <td>0.017682</td>\n",
              "      <td>0.051081</td>\n",
              "      <td>0.025540</td>\n",
              "      <td>28.956778</td>\n",
              "      <td>2.251473</td>\n",
              "      <td>0.003929</td>\n",
              "      <td>40.404715</td>\n",
              "      <td>49.734774</td>\n",
              "      <td>1.0</td>\n",
              "      <td>14746.937132</td>\n",
              "      <td>3.998240</td>\n",
              "      <td>0.104126</td>\n",
              "    </tr>\n",
              "    <tr>\n",
              "      <th>1000</th>\n",
              "      <td>8.586667</td>\n",
              "      <td>24.777778</td>\n",
              "      <td>0.461728</td>\n",
              "      <td>3.804765</td>\n",
              "      <td>280.187654</td>\n",
              "      <td>134.019753</td>\n",
              "      <td>53.780247</td>\n",
              "      <td>39.711111</td>\n",
              "      <td>19.271605</td>\n",
              "      <td>33.404938</td>\n",
              "      <td>0.118519</td>\n",
              "      <td>0.024691</td>\n",
              "      <td>0.083951</td>\n",
              "      <td>0.009877</td>\n",
              "      <td>34.367901</td>\n",
              "      <td>2.407407</td>\n",
              "      <td>0.002469</td>\n",
              "      <td>41.535802</td>\n",
              "      <td>49.975309</td>\n",
              "      <td>1.0</td>\n",
              "      <td>18053.303704</td>\n",
              "      <td>4.041770</td>\n",
              "      <td>0.175309</td>\n",
              "    </tr>\n",
              "    <tr>\n",
              "      <th>5000</th>\n",
              "      <td>8.483088</td>\n",
              "      <td>20.433180</td>\n",
              "      <td>0.382488</td>\n",
              "      <td>3.820092</td>\n",
              "      <td>872.447005</td>\n",
              "      <td>416.861751</td>\n",
              "      <td>166.470046</td>\n",
              "      <td>126.009217</td>\n",
              "      <td>61.566820</td>\n",
              "      <td>101.539171</td>\n",
              "      <td>0.105991</td>\n",
              "      <td>0.018433</td>\n",
              "      <td>0.087558</td>\n",
              "      <td>0.000000</td>\n",
              "      <td>35.875576</td>\n",
              "      <td>2.405530</td>\n",
              "      <td>0.000000</td>\n",
              "      <td>39.967742</td>\n",
              "      <td>50.000000</td>\n",
              "      <td>1.0</td>\n",
              "      <td>31417.612903</td>\n",
              "      <td>4.067306</td>\n",
              "      <td>0.124424</td>\n",
              "    </tr>\n",
              "    <tr>\n",
              "      <th>10000</th>\n",
              "      <td>8.313559</td>\n",
              "      <td>20.655367</td>\n",
              "      <td>0.412429</td>\n",
              "      <td>3.896836</td>\n",
              "      <td>1869.937853</td>\n",
              "      <td>931.548023</td>\n",
              "      <td>369.581921</td>\n",
              "      <td>262.293785</td>\n",
              "      <td>121.310734</td>\n",
              "      <td>185.203390</td>\n",
              "      <td>0.158192</td>\n",
              "      <td>0.022599</td>\n",
              "      <td>0.129944</td>\n",
              "      <td>0.005650</td>\n",
              "      <td>41.016949</td>\n",
              "      <td>2.384181</td>\n",
              "      <td>0.005650</td>\n",
              "      <td>40.124294</td>\n",
              "      <td>50.000000</td>\n",
              "      <td>1.0</td>\n",
              "      <td>49582.553672</td>\n",
              "      <td>4.086179</td>\n",
              "      <td>0.203390</td>\n",
              "    </tr>\n",
              "    <tr>\n",
              "      <th>20000</th>\n",
              "      <td>8.729612</td>\n",
              "      <td>26.932039</td>\n",
              "      <td>0.475728</td>\n",
              "      <td>3.867961</td>\n",
              "      <td>4581.155340</td>\n",
              "      <td>2197.572816</td>\n",
              "      <td>905.291262</td>\n",
              "      <td>682.864078</td>\n",
              "      <td>322.242718</td>\n",
              "      <td>473.184466</td>\n",
              "      <td>0.145631</td>\n",
              "      <td>0.019417</td>\n",
              "      <td>0.116505</td>\n",
              "      <td>0.009709</td>\n",
              "      <td>40.466019</td>\n",
              "      <td>2.407767</td>\n",
              "      <td>0.000000</td>\n",
              "      <td>38.466019</td>\n",
              "      <td>49.524272</td>\n",
              "      <td>1.0</td>\n",
              "      <td>63210.679612</td>\n",
              "      <td>4.108646</td>\n",
              "      <td>0.242718</td>\n",
              "    </tr>\n",
              "  </tbody>\n",
              "</table>\n",
              "</div>"
            ],
            "text/plain": [
              "               price  ...  merchant_has_profile_picture\n",
              "units_sold            ...                              \n",
              "100         8.082083  ...                      0.104126\n",
              "1000        8.586667  ...                      0.175309\n",
              "5000        8.483088  ...                      0.124424\n",
              "10000       8.313559  ...                      0.203390\n",
              "20000       8.729612  ...                      0.242718\n",
              "\n",
              "[5 rows x 23 columns]"
            ]
          },
          "metadata": {
            "tags": []
          },
          "execution_count": 14
        }
      ]
    },
    {
      "cell_type": "markdown",
      "metadata": {
        "id": "rgpECiwmxRKx"
      },
      "source": [
        "#### 1000 and 5000 units_sold categories have the closest mean prices"
      ]
    },
    {
      "cell_type": "markdown",
      "metadata": {
        "id": "Qih_hyB7sIfT"
      },
      "source": [
        "### Shapiro test for checking whether the distribution is normal or not"
      ]
    },
    {
      "cell_type": "code",
      "metadata": {
        "id": "yxJG1IOowB5v",
        "outputId": "39d40c4e-d1ec-4b1a-9754-1d7843da4dd3",
        "colab": {
          "base_uri": "https://localhost:8080/",
          "height": 34
        }
      },
      "source": [
        "stats.shapiro(df[df['units_sold']==1000]['price'])"
      ],
      "execution_count": 15,
      "outputs": [
        {
          "output_type": "execute_result",
          "data": {
            "text/plain": [
              "(0.9668696522712708, 6.135557129027802e-08)"
            ]
          },
          "metadata": {
            "tags": []
          },
          "execution_count": 15
        }
      ]
    },
    {
      "cell_type": "code",
      "metadata": {
        "id": "yTT5G13ews20",
        "outputId": "22ab3616-fb96-4791-ff97-11fa9f7c7e90",
        "colab": {
          "base_uri": "https://localhost:8080/",
          "height": 34
        }
      },
      "source": [
        "stats.shapiro(df[df['units_sold']==5000]['price'])"
      ],
      "execution_count": 16,
      "outputs": [
        {
          "output_type": "execute_result",
          "data": {
            "text/plain": [
              "(0.9595999121665955, 8.003187758731656e-06)"
            ]
          },
          "metadata": {
            "tags": []
          },
          "execution_count": 16
        }
      ]
    },
    {
      "cell_type": "markdown",
      "metadata": {
        "id": "QF5Gpo_AsQbY"
      },
      "source": [
        "#### Since both the p-values are less than 0.05, none of the distributions are normal"
      ]
    },
    {
      "cell_type": "markdown",
      "metadata": {
        "id": "Mn1kBJ_5s77E"
      },
      "source": [
        "### Performing the welch t-test on both the distributions"
      ]
    },
    {
      "cell_type": "code",
      "metadata": {
        "id": "XSPtbM-YxInA",
        "outputId": "2eb7deea-6044-43c8-aa7c-874bd1936ee7",
        "colab": {
          "base_uri": "https://localhost:8080/",
          "height": 87
        }
      },
      "source": [
        "def welch_ttest(x, y): \n",
        "    ## Welch-Satterthwaite Degrees of Freedom ##\n",
        "    dof = (x.var()/x.size + y.var()/y.size)**2 / ((x.var()/x.size)**2 / (x.size-1) + (y.var()/y.size)**2 / (y.size-1))\n",
        "   \n",
        "    t, p = stats.ttest_ind(x, y, equal_var = False)\n",
        "    \n",
        "    print(\"\\n\",\n",
        "          f\"Welch's t-test= \" + str(t), \"\\n\",\n",
        "          f\"p-value = \" + str(p), \"\\n\")\n",
        "\n",
        "welch_ttest(df[df['units_sold']==1000]['price'], df[df['units_sold']==5000]['price'])"
      ],
      "execution_count": 17,
      "outputs": [
        {
          "output_type": "stream",
          "text": [
            "\n",
            " Welch's t-test= 0.34976257301603103 \n",
            " p-value = 0.7266710608857467 \n",
            "\n"
          ],
          "name": "stdout"
        }
      ]
    },
    {
      "cell_type": "markdown",
      "metadata": {
        "id": "xieMHgglx9iO"
      },
      "source": [
        "#### Since the p-value is greater than 0.05, the null hypothesis is not rejected. This means that, means of the 2 distributions are same."
      ]
    },
    {
      "cell_type": "markdown",
      "metadata": {
        "id": "ypejTfAv2pvf"
      },
      "source": [
        "## Wilcoxon signed rank test"
      ]
    },
    {
      "cell_type": "code",
      "metadata": {
        "id": "x6o0rpmCxtKy"
      },
      "source": [
        "x = len(df[df['units_sold']==1000]['price'])\n",
        "y = len(df[df['units_sold']==5000]['price'])"
      ],
      "execution_count": 18,
      "outputs": []
    },
    {
      "cell_type": "code",
      "metadata": {
        "id": "ah4aFoy-xYdL",
        "outputId": "d6ddda1f-6edd-4728-ab63-7e30461bfae9",
        "colab": {
          "base_uri": "https://localhost:8080/",
          "height": 34
        }
      },
      "source": [
        "stats.wilcoxon(df[df['units_sold']==1000]['price'][0:min(x, y)], df[df['units_sold']==5000]['price'][0:min(x, y)])"
      ],
      "execution_count": 19,
      "outputs": [
        {
          "output_type": "execute_result",
          "data": {
            "text/plain": [
              "WilcoxonResult(statistic=9725.5, pvalue=0.3871109151290314)"
            ]
          },
          "metadata": {
            "tags": []
          },
          "execution_count": 19
        }
      ]
    },
    {
      "cell_type": "markdown",
      "metadata": {
        "id": "QDm6YsrTt5lt"
      },
      "source": [
        "#### Since the p-value is greater than 0.05, the null hypothesis is not rejected. This means that, medians of the 2 distributions are same."
      ]
    },
    {
      "cell_type": "markdown",
      "metadata": {
        "id": "9l5yTpJStOBR"
      },
      "source": [
        "## Welch's Paired t-Test"
      ]
    },
    {
      "cell_type": "code",
      "metadata": {
        "id": "cw1v1QkKtNMb",
        "outputId": "bdbf2d6e-487a-4a45-96df-1c650f26c15c",
        "colab": {
          "base_uri": "https://localhost:8080/",
          "height": 87
        }
      },
      "source": [
        "def welch_ttest_paired(x, y): \n",
        "    ## Welch-Satterthwaite Degrees of Freedom ##\n",
        "    dof = (x.var()/x.size + y.var()/y.size)**2 / ((x.var()/x.size)**2 / (x.size-1) + (y.var()/y.size)**2 / (y.size-1))\n",
        "   \n",
        "    t, p = stats.ttest_rel(x, y)\n",
        "    \n",
        "    print(\"\\n\",\n",
        "          f\"Welch's t-test= \" + str(t), \"\\n\",\n",
        "          f\"p-value = \" + str(p), \"\\n\")\n",
        "\n",
        "welch_ttest_paired(df[df['units_sold']==1000]['price'][0:min(x, y)], df[df['units_sold']==5000]['price'][0:min(x, y)])"
      ],
      "execution_count": 20,
      "outputs": [
        {
          "output_type": "stream",
          "text": [
            "\n",
            " Welch's t-test= 0.9674463422216838 \n",
            " p-value = 0.3344029258315039 \n",
            "\n"
          ],
          "name": "stdout"
        }
      ]
    },
    {
      "cell_type": "markdown",
      "metadata": {
        "id": "c7ZFpDtQv2rw"
      },
      "source": [
        "#### Since the p-value is greater than 0.05 , we accept the null hypothesis i.e. the paired distribution have same mean"
      ]
    },
    {
      "cell_type": "markdown",
      "metadata": {
        "id": "AFxGB-SjvfLb"
      },
      "source": [
        "## Coorelation among mean 'price', 'retail_price', 'rating', 'merchant_rating' and 'units_sold'\n"
      ]
    },
    {
      "cell_type": "code",
      "metadata": {
        "id": "wdrMfVM2g-jb",
        "outputId": "8bcf0348-a5da-4591-dcd8-056ae7b43583",
        "colab": {
          "base_uri": "https://localhost:8080/",
          "height": 491
        }
      },
      "source": [
        "df_1 = df.groupby(['units_sold']).mean()[['price', 'retail_price', 'rating', 'merchant_rating']].reset_index()\n",
        "# df_1 = df[['price', 'retail_price', 'rating', 'merchant_rating']]\n",
        "df_1"
      ],
      "execution_count": 21,
      "outputs": [
        {
          "output_type": "execute_result",
          "data": {
            "text/html": [
              "<div>\n",
              "<style scoped>\n",
              "    .dataframe tbody tr th:only-of-type {\n",
              "        vertical-align: middle;\n",
              "    }\n",
              "\n",
              "    .dataframe tbody tr th {\n",
              "        vertical-align: top;\n",
              "    }\n",
              "\n",
              "    .dataframe thead th {\n",
              "        text-align: right;\n",
              "    }\n",
              "</style>\n",
              "<table border=\"1\" class=\"dataframe\">\n",
              "  <thead>\n",
              "    <tr style=\"text-align: right;\">\n",
              "      <th></th>\n",
              "      <th>units_sold</th>\n",
              "      <th>price</th>\n",
              "      <th>retail_price</th>\n",
              "      <th>rating</th>\n",
              "      <th>merchant_rating</th>\n",
              "    </tr>\n",
              "  </thead>\n",
              "  <tbody>\n",
              "    <tr>\n",
              "      <th>0</th>\n",
              "      <td>1</td>\n",
              "      <td>9.240000</td>\n",
              "      <td>17.666667</td>\n",
              "      <td>5.000000</td>\n",
              "      <td>3.853679</td>\n",
              "    </tr>\n",
              "    <tr>\n",
              "      <th>1</th>\n",
              "      <td>2</td>\n",
              "      <td>13.500000</td>\n",
              "      <td>13.000000</td>\n",
              "      <td>3.500000</td>\n",
              "      <td>4.151046</td>\n",
              "    </tr>\n",
              "    <tr>\n",
              "      <th>2</th>\n",
              "      <td>3</td>\n",
              "      <td>9.905000</td>\n",
              "      <td>22.500000</td>\n",
              "      <td>5.000000</td>\n",
              "      <td>4.121399</td>\n",
              "    </tr>\n",
              "    <tr>\n",
              "      <th>3</th>\n",
              "      <td>6</td>\n",
              "      <td>6.000000</td>\n",
              "      <td>17.000000</td>\n",
              "      <td>5.000000</td>\n",
              "      <td>4.049640</td>\n",
              "    </tr>\n",
              "    <tr>\n",
              "      <th>4</th>\n",
              "      <td>7</td>\n",
              "      <td>8.000000</td>\n",
              "      <td>32.000000</td>\n",
              "      <td>5.000000</td>\n",
              "      <td>4.150543</td>\n",
              "    </tr>\n",
              "    <tr>\n",
              "      <th>5</th>\n",
              "      <td>8</td>\n",
              "      <td>7.750000</td>\n",
              "      <td>58.750000</td>\n",
              "      <td>5.000000</td>\n",
              "      <td>3.924989</td>\n",
              "    </tr>\n",
              "    <tr>\n",
              "      <th>6</th>\n",
              "      <td>10</td>\n",
              "      <td>8.443878</td>\n",
              "      <td>33.000000</td>\n",
              "      <td>4.182653</td>\n",
              "      <td>3.884710</td>\n",
              "    </tr>\n",
              "    <tr>\n",
              "      <th>7</th>\n",
              "      <td>50</td>\n",
              "      <td>7.853553</td>\n",
              "      <td>19.657895</td>\n",
              "      <td>3.878421</td>\n",
              "      <td>3.960837</td>\n",
              "    </tr>\n",
              "    <tr>\n",
              "      <th>8</th>\n",
              "      <td>100</td>\n",
              "      <td>8.082083</td>\n",
              "      <td>22.701375</td>\n",
              "      <td>3.725246</td>\n",
              "      <td>3.998240</td>\n",
              "    </tr>\n",
              "    <tr>\n",
              "      <th>9</th>\n",
              "      <td>1000</td>\n",
              "      <td>8.586667</td>\n",
              "      <td>24.777778</td>\n",
              "      <td>3.804765</td>\n",
              "      <td>4.041770</td>\n",
              "    </tr>\n",
              "    <tr>\n",
              "      <th>10</th>\n",
              "      <td>5000</td>\n",
              "      <td>8.483088</td>\n",
              "      <td>20.433180</td>\n",
              "      <td>3.820092</td>\n",
              "      <td>4.067306</td>\n",
              "    </tr>\n",
              "    <tr>\n",
              "      <th>11</th>\n",
              "      <td>10000</td>\n",
              "      <td>8.313559</td>\n",
              "      <td>20.655367</td>\n",
              "      <td>3.896836</td>\n",
              "      <td>4.086179</td>\n",
              "    </tr>\n",
              "    <tr>\n",
              "      <th>12</th>\n",
              "      <td>20000</td>\n",
              "      <td>8.729612</td>\n",
              "      <td>26.932039</td>\n",
              "      <td>3.867961</td>\n",
              "      <td>4.108646</td>\n",
              "    </tr>\n",
              "    <tr>\n",
              "      <th>13</th>\n",
              "      <td>50000</td>\n",
              "      <td>6.962353</td>\n",
              "      <td>27.882353</td>\n",
              "      <td>3.903529</td>\n",
              "      <td>4.122323</td>\n",
              "    </tr>\n",
              "    <tr>\n",
              "      <th>14</th>\n",
              "      <td>100000</td>\n",
              "      <td>6.073333</td>\n",
              "      <td>25.666667</td>\n",
              "      <td>3.836667</td>\n",
              "      <td>4.032919</td>\n",
              "    </tr>\n",
              "  </tbody>\n",
              "</table>\n",
              "</div>"
            ],
            "text/plain": [
              "    units_sold      price  retail_price    rating  merchant_rating\n",
              "0            1   9.240000     17.666667  5.000000         3.853679\n",
              "1            2  13.500000     13.000000  3.500000         4.151046\n",
              "2            3   9.905000     22.500000  5.000000         4.121399\n",
              "3            6   6.000000     17.000000  5.000000         4.049640\n",
              "4            7   8.000000     32.000000  5.000000         4.150543\n",
              "5            8   7.750000     58.750000  5.000000         3.924989\n",
              "6           10   8.443878     33.000000  4.182653         3.884710\n",
              "7           50   7.853553     19.657895  3.878421         3.960837\n",
              "8          100   8.082083     22.701375  3.725246         3.998240\n",
              "9         1000   8.586667     24.777778  3.804765         4.041770\n",
              "10        5000   8.483088     20.433180  3.820092         4.067306\n",
              "11       10000   8.313559     20.655367  3.896836         4.086179\n",
              "12       20000   8.729612     26.932039  3.867961         4.108646\n",
              "13       50000   6.962353     27.882353  3.903529         4.122323\n",
              "14      100000   6.073333     25.666667  3.836667         4.032919"
            ]
          },
          "metadata": {
            "tags": []
          },
          "execution_count": 21
        }
      ]
    },
    {
      "cell_type": "code",
      "metadata": {
        "id": "dYW-_TothvzO",
        "outputId": "6da376ae-ef4a-4de7-eb31-cdbdc6798e53",
        "colab": {
          "base_uri": "https://localhost:8080/",
          "height": 195
        }
      },
      "source": [
        "df_1_corr = df_1.corr()\n",
        "df_1_corr"
      ],
      "execution_count": 22,
      "outputs": [
        {
          "output_type": "execute_result",
          "data": {
            "text/html": [
              "<div>\n",
              "<style scoped>\n",
              "    .dataframe tbody tr th:only-of-type {\n",
              "        vertical-align: middle;\n",
              "    }\n",
              "\n",
              "    .dataframe tbody tr th {\n",
              "        vertical-align: top;\n",
              "    }\n",
              "\n",
              "    .dataframe thead th {\n",
              "        text-align: right;\n",
              "    }\n",
              "</style>\n",
              "<table border=\"1\" class=\"dataframe\">\n",
              "  <thead>\n",
              "    <tr style=\"text-align: right;\">\n",
              "      <th></th>\n",
              "      <th>units_sold</th>\n",
              "      <th>price</th>\n",
              "      <th>retail_price</th>\n",
              "      <th>rating</th>\n",
              "      <th>merchant_rating</th>\n",
              "    </tr>\n",
              "  </thead>\n",
              "  <tbody>\n",
              "    <tr>\n",
              "      <th>units_sold</th>\n",
              "      <td>1.000000</td>\n",
              "      <td>-0.436201</td>\n",
              "      <td>0.021265</td>\n",
              "      <td>-0.303535</td>\n",
              "      <td>0.161897</td>\n",
              "    </tr>\n",
              "    <tr>\n",
              "      <th>price</th>\n",
              "      <td>-0.436201</td>\n",
              "      <td>1.000000</td>\n",
              "      <td>-0.294865</td>\n",
              "      <td>-0.212473</td>\n",
              "      <td>0.217908</td>\n",
              "    </tr>\n",
              "    <tr>\n",
              "      <th>retail_price</th>\n",
              "      <td>0.021265</td>\n",
              "      <td>-0.294865</td>\n",
              "      <td>1.000000</td>\n",
              "      <td>0.351418</td>\n",
              "      <td>-0.283022</td>\n",
              "    </tr>\n",
              "    <tr>\n",
              "      <th>rating</th>\n",
              "      <td>-0.303535</td>\n",
              "      <td>-0.212473</td>\n",
              "      <td>0.351418</td>\n",
              "      <td>1.000000</td>\n",
              "      <td>-0.230896</td>\n",
              "    </tr>\n",
              "    <tr>\n",
              "      <th>merchant_rating</th>\n",
              "      <td>0.161897</td>\n",
              "      <td>0.217908</td>\n",
              "      <td>-0.283022</td>\n",
              "      <td>-0.230896</td>\n",
              "      <td>1.000000</td>\n",
              "    </tr>\n",
              "  </tbody>\n",
              "</table>\n",
              "</div>"
            ],
            "text/plain": [
              "                 units_sold     price  retail_price    rating  merchant_rating\n",
              "units_sold         1.000000 -0.436201      0.021265 -0.303535         0.161897\n",
              "price             -0.436201  1.000000     -0.294865 -0.212473         0.217908\n",
              "retail_price       0.021265 -0.294865      1.000000  0.351418        -0.283022\n",
              "rating            -0.303535 -0.212473      0.351418  1.000000        -0.230896\n",
              "merchant_rating    0.161897  0.217908     -0.283022 -0.230896         1.000000"
            ]
          },
          "metadata": {
            "tags": []
          },
          "execution_count": 22
        }
      ]
    },
    {
      "cell_type": "code",
      "metadata": {
        "id": "-cBzNkB7vGeM",
        "outputId": "6b27bd23-a566-4e28-afca-bd9128a0c9ba",
        "colab": {
          "base_uri": "https://localhost:8080/",
          "height": 360
        }
      },
      "source": [
        "sns.heatmap(df_1_corr, annot=True, cmap=\"YlGnBu\")"
      ],
      "execution_count": 23,
      "outputs": [
        {
          "output_type": "execute_result",
          "data": {
            "text/plain": [
              "<matplotlib.axes._subplots.AxesSubplot at 0x7fcfe81585c0>"
            ]
          },
          "metadata": {
            "tags": []
          },
          "execution_count": 23
        },
        {
          "output_type": "display_data",
          "data": {
            "image/png": "[encoded data removed]",
            "text/plain": [
              "<Figure size 432x288 with 2 Axes>"
            ]
          },
          "metadata": {
            "tags": [],
            "needs_background": "light"
          }
        }
      ]
    },
    {
      "cell_type": "markdown",
      "metadata": {
        "id": "Vcmn5yjo8lUb"
      },
      "source": [
        "## Chi-squared test on Discrete variables"
      ]
    },
    {
      "cell_type": "code",
      "metadata": {
        "id": "kMBhQwwLKULM",
        "outputId": "b8558020-bd0d-4103-9912-2bc122aadb93",
        "colab": {
          "base_uri": "https://localhost:8080/",
          "height": 34
        }
      },
      "source": [
        "chisquare(df['uses_ad_boosts'])"
      ],
      "execution_count": 24,
      "outputs": [
        {
          "output_type": "execute_result",
          "data": {
            "text/plain": [
              "Power_divergenceResult(statistic=892.0, pvalue=1.0)"
            ]
          },
          "metadata": {
            "tags": []
          },
          "execution_count": 24
        }
      ]
    },
    {
      "cell_type": "code",
      "metadata": {
        "id": "MaPmk7Swxhf1",
        "outputId": "517aea40-290a-4cd2-bfd4-d3ad54fe7c57",
        "colab": {
          "base_uri": "https://localhost:8080/",
          "height": 34
        }
      },
      "source": [
        "chisquare(df['shipping_option_price'])"
      ],
      "execution_count": 25,
      "outputs": [
        {
          "output_type": "execute_result",
          "data": {
            "text/plain": [
              "Power_divergenceResult(statistic=703.3754404987801, pvalue=1.0)"
            ]
          },
          "metadata": {
            "tags": []
          },
          "execution_count": 25
        }
      ]
    },
    {
      "cell_type": "markdown",
      "metadata": {
        "id": "rRaqpJM82iaJ"
      },
      "source": [
        "#### The results of the chi squared tests on the two discrete variables show that they are not correlated when it comes to price"
      ]
    }
  ]
}