{
  "nbformat": 4,
  "nbformat_minor": 0,
  "metadata": {
    "colab": {
      "name": "8_3_DS203_190100042.ipynb",
      "provenance": []
    },
    "kernelspec": {
      "name": "python3",
      "display_name": "Python 3"
    }
  },
  "cells": [
    {
      "cell_type": "markdown",
      "metadata": {
        "id": "mSP0w6PAN1bx"
      },
      "source": [
        "# Importing Libraries"
      ]
    },
    {
      "cell_type": "code",
      "metadata": {
        "id": "3lHJsehpDE5J",
        "outputId": "0f50df4d-a482-452c-9aeb-38cc2e5f18a0",
        "colab": {
          "base_uri": "https://localhost:8080/"
        }
      },
      "source": [
        "import numpy as np\n",
        "import pandas as pd\n",
        "import seaborn as sns\n",
        "from sklearn.preprocessing import StandardScaler\n",
        "from sklearn.linear_model import RidgeClassifier\n",
        "from sklearn.model_selection import train_test_split\n",
        "from sklearn.ensemble import RandomForestClassifier\n",
        "from sklearn.neural_network import MLPClassifier\n",
        "import scipy.stats\n",
        "from sklearn.preprocessing import StandardScaler\n",
        "from sklearn import preprocessing\n",
        "from sklearn.preprocessing import MinMaxScaler\n",
        "from sklearn.model_selection import train_test_split\n",
        "from sklearn.model_selection import cross_val_score, GridSearchCV, RandomizedSearchCV\n",
        "from sklearn.ensemble import RandomForestRegressor\n",
        "from sklearn import metrics\n",
        "from sklearn.linear_model import Lasso,Ridge\n",
        "from sklearn.model_selection import RepeatedKFold\n",
        "from sklearn.model_selection import KFold, cross_val_score\n",
        "from sklearn.model_selection import cross_validate\n",
        "import os\n",
        "import requests\n",
        "import csv\n",
        "import pandas as pd\n",
        "import matplotlib.pyplot as plt\n",
        "import numpy as np\n",
        "import statsmodels.api as sm\n",
        "import scipy.stats\n",
        "import seaborn as sns"
      ],
      "execution_count": 1,
      "outputs": [
        {
          "output_type": "stream",
          "text": [
            "/usr/local/lib/python3.6/dist-packages/statsmodels/tools/_testing.py:19: FutureWarning: pandas.util.testing is deprecated. Use the functions in the public API at pandas.testing instead.\n",
            "  import pandas.util.testing as tm\n"
          ],
          "name": "stderr"
        }
      ]
    },
    {
      "cell_type": "markdown",
      "metadata": {
        "id": "SrxWRmp4N4xg"
      },
      "source": [
        "# Loading Dataset"
      ]
    },
    {
      "cell_type": "code",
      "metadata": {
        "id": "d2N7oW9QECoy",
        "outputId": "2c8138a4-f092-4552-be82-986c3060594e",
        "colab": {
          "base_uri": "https://localhost:8080/",
          "height": 605
        }
      },
      "source": [
        "df = pd.read_csv('https://raw.githubusercontent.com/chiraggarg95/Assignment-Datasets/main/SeoulBikeData.csv', encoding = \"ISO-8859-1\")\n",
        "df"
      ],
      "execution_count": 2,
      "outputs": [
        {
          "output_type": "execute_result",
          "data": {
            "text/html": [
              "<div>\n",
              "<style scoped>\n",
              "    .dataframe tbody tr th:only-of-type {\n",
              "        vertical-align: middle;\n",
              "    }\n",
              "\n",
              "    .dataframe tbody tr th {\n",
              "        vertical-align: top;\n",
              "    }\n",
              "\n",
              "    .dataframe thead th {\n",
              "        text-align: right;\n",
              "    }\n",
              "</style>\n",
              "<table border=\"1\" class=\"dataframe\">\n",
              "  <thead>\n",
              "    <tr style=\"text-align: right;\">\n",
              "      <th></th>\n",
              "      <th>Date</th>\n",
              "      <th>Rented Bike Count</th>\n",
              "      <th>Hour</th>\n",
              "      <th>Temperature(°C)</th>\n",
              "      <th>Humidity(%)</th>\n",
              "      <th>Wind speed (m/s)</th>\n",
              "      <th>Visibility (10m)</th>\n",
              "      <th>Dew point temperature(°C)</th>\n",
              "      <th>Solar Radiation (MJ/m2)</th>\n",
              "      <th>Rainfall(mm)</th>\n",
              "      <th>Snowfall (cm)</th>\n",
              "      <th>Seasons</th>\n",
              "      <th>Holiday</th>\n",
              "      <th>Functioning Day</th>\n",
              "    </tr>\n",
              "  </thead>\n",
              "  <tbody>\n",
              "    <tr>\n",
              "      <th>0</th>\n",
              "      <td>01/12/2017</td>\n",
              "      <td>254</td>\n",
              "      <td>0</td>\n",
              "      <td>-5.2</td>\n",
              "      <td>37</td>\n",
              "      <td>2.2</td>\n",
              "      <td>2000</td>\n",
              "      <td>-17.6</td>\n",
              "      <td>0.0</td>\n",
              "      <td>0.0</td>\n",
              "      <td>0.0</td>\n",
              "      <td>Winter</td>\n",
              "      <td>No Holiday</td>\n",
              "      <td>Yes</td>\n",
              "    </tr>\n",
              "    <tr>\n",
              "      <th>1</th>\n",
              "      <td>01/12/2017</td>\n",
              "      <td>204</td>\n",
              "      <td>1</td>\n",
              "      <td>-5.5</td>\n",
              "      <td>38</td>\n",
              "      <td>0.8</td>\n",
              "      <td>2000</td>\n",
              "      <td>-17.6</td>\n",
              "      <td>0.0</td>\n",
              "      <td>0.0</td>\n",
              "      <td>0.0</td>\n",
              "      <td>Winter</td>\n",
              "      <td>No Holiday</td>\n",
              "      <td>Yes</td>\n",
              "    </tr>\n",
              "    <tr>\n",
              "      <th>2</th>\n",
              "      <td>01/12/2017</td>\n",
              "      <td>173</td>\n",
              "      <td>2</td>\n",
              "      <td>-6.0</td>\n",
              "      <td>39</td>\n",
              "      <td>1.0</td>\n",
              "      <td>2000</td>\n",
              "      <td>-17.7</td>\n",
              "      <td>0.0</td>\n",
              "      <td>0.0</td>\n",
              "      <td>0.0</td>\n",
              "      <td>Winter</td>\n",
              "      <td>No Holiday</td>\n",
              "      <td>Yes</td>\n",
              "    </tr>\n",
              "    <tr>\n",
              "      <th>3</th>\n",
              "      <td>01/12/2017</td>\n",
              "      <td>107</td>\n",
              "      <td>3</td>\n",
              "      <td>-6.2</td>\n",
              "      <td>40</td>\n",
              "      <td>0.9</td>\n",
              "      <td>2000</td>\n",
              "      <td>-17.6</td>\n",
              "      <td>0.0</td>\n",
              "      <td>0.0</td>\n",
              "      <td>0.0</td>\n",
              "      <td>Winter</td>\n",
              "      <td>No Holiday</td>\n",
              "      <td>Yes</td>\n",
              "    </tr>\n",
              "    <tr>\n",
              "      <th>4</th>\n",
              "      <td>01/12/2017</td>\n",
              "      <td>78</td>\n",
              "      <td>4</td>\n",
              "      <td>-6.0</td>\n",
              "      <td>36</td>\n",
              "      <td>2.3</td>\n",
              "      <td>2000</td>\n",
              "      <td>-18.6</td>\n",
              "      <td>0.0</td>\n",
              "      <td>0.0</td>\n",
              "      <td>0.0</td>\n",
              "      <td>Winter</td>\n",
              "      <td>No Holiday</td>\n",
              "      <td>Yes</td>\n",
              "    </tr>\n",
              "    <tr>\n",
              "      <th>...</th>\n",
              "      <td>...</td>\n",
              "      <td>...</td>\n",
              "      <td>...</td>\n",
              "      <td>...</td>\n",
              "      <td>...</td>\n",
              "      <td>...</td>\n",
              "      <td>...</td>\n",
              "      <td>...</td>\n",
              "      <td>...</td>\n",
              "      <td>...</td>\n",
              "      <td>...</td>\n",
              "      <td>...</td>\n",
              "      <td>...</td>\n",
              "      <td>...</td>\n",
              "    </tr>\n",
              "    <tr>\n",
              "      <th>8755</th>\n",
              "      <td>30/11/2018</td>\n",
              "      <td>1003</td>\n",
              "      <td>19</td>\n",
              "      <td>4.2</td>\n",
              "      <td>34</td>\n",
              "      <td>2.6</td>\n",
              "      <td>1894</td>\n",
              "      <td>-10.3</td>\n",
              "      <td>0.0</td>\n",
              "      <td>0.0</td>\n",
              "      <td>0.0</td>\n",
              "      <td>Autumn</td>\n",
              "      <td>No Holiday</td>\n",
              "      <td>Yes</td>\n",
              "    </tr>\n",
              "    <tr>\n",
              "      <th>8756</th>\n",
              "      <td>30/11/2018</td>\n",
              "      <td>764</td>\n",
              "      <td>20</td>\n",
              "      <td>3.4</td>\n",
              "      <td>37</td>\n",
              "      <td>2.3</td>\n",
              "      <td>2000</td>\n",
              "      <td>-9.9</td>\n",
              "      <td>0.0</td>\n",
              "      <td>0.0</td>\n",
              "      <td>0.0</td>\n",
              "      <td>Autumn</td>\n",
              "      <td>No Holiday</td>\n",
              "      <td>Yes</td>\n",
              "    </tr>\n",
              "    <tr>\n",
              "      <th>8757</th>\n",
              "      <td>30/11/2018</td>\n",
              "      <td>694</td>\n",
              "      <td>21</td>\n",
              "      <td>2.6</td>\n",
              "      <td>39</td>\n",
              "      <td>0.3</td>\n",
              "      <td>1968</td>\n",
              "      <td>-9.9</td>\n",
              "      <td>0.0</td>\n",
              "      <td>0.0</td>\n",
              "      <td>0.0</td>\n",
              "      <td>Autumn</td>\n",
              "      <td>No Holiday</td>\n",
              "      <td>Yes</td>\n",
              "    </tr>\n",
              "    <tr>\n",
              "      <th>8758</th>\n",
              "      <td>30/11/2018</td>\n",
              "      <td>712</td>\n",
              "      <td>22</td>\n",
              "      <td>2.1</td>\n",
              "      <td>41</td>\n",
              "      <td>1.0</td>\n",
              "      <td>1859</td>\n",
              "      <td>-9.8</td>\n",
              "      <td>0.0</td>\n",
              "      <td>0.0</td>\n",
              "      <td>0.0</td>\n",
              "      <td>Autumn</td>\n",
              "      <td>No Holiday</td>\n",
              "      <td>Yes</td>\n",
              "    </tr>\n",
              "    <tr>\n",
              "      <th>8759</th>\n",
              "      <td>30/11/2018</td>\n",
              "      <td>584</td>\n",
              "      <td>23</td>\n",
              "      <td>1.9</td>\n",
              "      <td>43</td>\n",
              "      <td>1.3</td>\n",
              "      <td>1909</td>\n",
              "      <td>-9.3</td>\n",
              "      <td>0.0</td>\n",
              "      <td>0.0</td>\n",
              "      <td>0.0</td>\n",
              "      <td>Autumn</td>\n",
              "      <td>No Holiday</td>\n",
              "      <td>Yes</td>\n",
              "    </tr>\n",
              "  </tbody>\n",
              "</table>\n",
              "<p>8760 rows × 14 columns</p>\n",
              "</div>"
            ],
            "text/plain": [
              "            Date  Rented Bike Count  Hour  ...  Seasons     Holiday  Functioning Day\n",
              "0     01/12/2017                254     0  ...   Winter  No Holiday              Yes\n",
              "1     01/12/2017                204     1  ...   Winter  No Holiday              Yes\n",
              "2     01/12/2017                173     2  ...   Winter  No Holiday              Yes\n",
              "3     01/12/2017                107     3  ...   Winter  No Holiday              Yes\n",
              "4     01/12/2017                 78     4  ...   Winter  No Holiday              Yes\n",
              "...          ...                ...   ...  ...      ...         ...              ...\n",
              "8755  30/11/2018               1003    19  ...   Autumn  No Holiday              Yes\n",
              "8756  30/11/2018                764    20  ...   Autumn  No Holiday              Yes\n",
              "8757  30/11/2018                694    21  ...   Autumn  No Holiday              Yes\n",
              "8758  30/11/2018                712    22  ...   Autumn  No Holiday              Yes\n",
              "8759  30/11/2018                584    23  ...   Autumn  No Holiday              Yes\n",
              "\n",
              "[8760 rows x 14 columns]"
            ]
          },
          "metadata": {
            "tags": []
          },
          "execution_count": 2
        }
      ]
    },
    {
      "cell_type": "markdown",
      "metadata": {
        "id": "gX3OYaOYI3go"
      },
      "source": [
        "# Analysing Dataset"
      ]
    },
    {
      "cell_type": "code",
      "metadata": {
        "id": "0Uq6X7FpI5EM",
        "outputId": "31a33953-3913-40f4-bb47-36a92ff8a526",
        "colab": {
          "base_uri": "https://localhost:8080/"
        }
      },
      "source": [
        "df.shape"
      ],
      "execution_count": 3,
      "outputs": [
        {
          "output_type": "execute_result",
          "data": {
            "text/plain": [
              "(8760, 14)"
            ]
          },
          "metadata": {
            "tags": []
          },
          "execution_count": 3
        }
      ]
    },
    {
      "cell_type": "code",
      "metadata": {
        "id": "q6rhiCN4I6zM",
        "outputId": "082895f7-f0d9-4530-d636-2c6027240c71",
        "colab": {
          "base_uri": "https://localhost:8080/"
        }
      },
      "source": [
        "df.drop_duplicates().shape"
      ],
      "execution_count": 4,
      "outputs": [
        {
          "output_type": "execute_result",
          "data": {
            "text/plain": [
              "(8760, 14)"
            ]
          },
          "metadata": {
            "tags": []
          },
          "execution_count": 4
        }
      ]
    },
    {
      "cell_type": "code",
      "metadata": {
        "id": "TzIQNZMRI9WX",
        "outputId": "e89a8bf1-4ed7-4001-9bbe-c8d53994db95",
        "colab": {
          "base_uri": "https://localhost:8080/"
        }
      },
      "source": [
        "df.isna().sum()"
      ],
      "execution_count": 5,
      "outputs": [
        {
          "output_type": "execute_result",
          "data": {
            "text/plain": [
              "Date                         0\n",
              "Rented Bike Count            0\n",
              "Hour                         0\n",
              "Temperature(°C)              0\n",
              "Humidity(%)                  0\n",
              "Wind speed (m/s)             0\n",
              "Visibility (10m)             0\n",
              "Dew point temperature(°C)    0\n",
              "Solar Radiation (MJ/m2)      0\n",
              "Rainfall(mm)                 0\n",
              "Snowfall (cm)                0\n",
              "Seasons                      0\n",
              "Holiday                      0\n",
              "Functioning Day              0\n",
              "dtype: int64"
            ]
          },
          "metadata": {
            "tags": []
          },
          "execution_count": 5
        }
      ]
    },
    {
      "cell_type": "code",
      "metadata": {
        "id": "uEUSfvq1JAg7",
        "outputId": "31a5de33-1611-474f-a2d4-bdf6beee4dd6",
        "colab": {
          "base_uri": "https://localhost:8080/"
        }
      },
      "source": [
        "for columns in df.columns:\n",
        "  print(f\"{columns}: {len(pd.unique(df[columns]))}\")"
      ],
      "execution_count": 6,
      "outputs": [
        {
          "output_type": "stream",
          "text": [
            "Date: 365\n",
            "Rented Bike Count: 2166\n",
            "Hour: 24\n",
            "Temperature(°C): 546\n",
            "Humidity(%): 90\n",
            "Wind speed (m/s): 65\n",
            "Visibility (10m): 1789\n",
            "Dew point temperature(°C): 556\n",
            "Solar Radiation (MJ/m2): 345\n",
            "Rainfall(mm): 61\n",
            "Snowfall (cm): 51\n",
            "Seasons: 4\n",
            "Holiday: 2\n",
            "Functioning Day: 2\n"
          ],
          "name": "stdout"
        }
      ]
    },
    {
      "cell_type": "code",
      "metadata": {
        "id": "gBvdlxLYJQHa",
        "outputId": "8691dced-0ad5-4d3c-83fe-6e10fda6f36b",
        "colab": {
          "base_uri": "https://localhost:8080/",
          "height": 630
        }
      },
      "source": [
        "plt.figure(figsize=(10, 8))\n",
        "sns.heatmap(df.corr(), annot=True)"
      ],
      "execution_count": 7,
      "outputs": [
        {
          "output_type": "execute_result",
          "data": {
            "text/plain": [
              "<matplotlib.axes._subplots.AxesSubplot at 0x7f7049255630>"
            ]
          },
          "metadata": {
            "tags": []
          },
          "execution_count": 7
        },
        {
          "output_type": "display_data",
          "data": {
            "image/png": "[encoded data removed]",
            "text/plain": [
              "<Figure size 720x576 with 2 Axes>"
            ]
          },
          "metadata": {
            "tags": [],
            "needs_background": "light"
          }
        }
      ]
    },
    {
      "cell_type": "markdown",
      "metadata": {
        "id": "_reC0P9lUQjz"
      },
      "source": [
        "# Details of prediction\n",
        "\n",
        "Variable to be predicted: Rented Bike Count :: Continuous variable\n",
        "\n",
        "Supervised Learning Problem\n",
        "\n",
        "Root Mean Square Error (RMSE) will be used as a measure of performance\n",
        "\n",
        "All variables except Date and Dew Temperature (due to irrelevance and high correlation) will be relevant for prediction. "
      ]
    },
    {
      "cell_type": "markdown",
      "metadata": {
        "id": "tyvvGK8bMgPc"
      },
      "source": [
        "# Normalising and One Hot Encoding"
      ]
    },
    {
      "cell_type": "code",
      "metadata": {
        "id": "9oZbA83XNmyj",
        "outputId": "03cc6a80-fa82-48cb-88cc-2cdf6948d95b",
        "colab": {
          "base_uri": "https://localhost:8080/"
        }
      },
      "source": [
        "list(df.columns)"
      ],
      "execution_count": 8,
      "outputs": [
        {
          "output_type": "execute_result",
          "data": {
            "text/plain": [
              "['Date',\n",
              " 'Rented Bike Count',\n",
              " 'Hour',\n",
              " 'Temperature(°C)',\n",
              " 'Humidity(%)',\n",
              " 'Wind speed (m/s)',\n",
              " 'Visibility (10m)',\n",
              " 'Dew point temperature(°C)',\n",
              " 'Solar Radiation (MJ/m2)',\n",
              " 'Rainfall(mm)',\n",
              " 'Snowfall (cm)',\n",
              " 'Seasons',\n",
              " 'Holiday',\n",
              " 'Functioning Day']"
            ]
          },
          "metadata": {
            "tags": []
          },
          "execution_count": 8
        }
      ]
    },
    {
      "cell_type": "code",
      "metadata": {
        "id": "ZoYDzNqdL5SA",
        "outputId": "89b13329-9370-4ff0-bb80-aeafaaabfd3a",
        "colab": {
          "base_uri": "https://localhost:8080/",
          "height": 605
        }
      },
      "source": [
        "scaler = StandardScaler()\n",
        "\n",
        "df.loc[:, ['Hour',\n",
        " 'Temperature(°C)',\n",
        " 'Humidity(%)',\n",
        " 'Wind speed (m/s)',\n",
        " 'Visibility (10m)',\n",
        " 'Solar Radiation (MJ/m2)',\n",
        " 'Rainfall(mm)',\n",
        " 'Snowfall (cm)',]] = scaler.fit_transform(df.loc[:, ['Hour',\n",
        " 'Temperature(°C)',\n",
        " 'Humidity(%)',\n",
        " 'Wind speed (m/s)',\n",
        " 'Visibility (10m)',\n",
        " 'Solar Radiation (MJ/m2)',\n",
        " 'Rainfall(mm)',\n",
        " 'Snowfall (cm)',]])\n",
        "df"
      ],
      "execution_count": 9,
      "outputs": [
        {
          "output_type": "execute_result",
          "data": {
            "text/html": [
              "<div>\n",
              "<style scoped>\n",
              "    .dataframe tbody tr th:only-of-type {\n",
              "        vertical-align: middle;\n",
              "    }\n",
              "\n",
              "    .dataframe tbody tr th {\n",
              "        vertical-align: top;\n",
              "    }\n",
              "\n",
              "    .dataframe thead th {\n",
              "        text-align: right;\n",
              "    }\n",
              "</style>\n",
              "<table border=\"1\" class=\"dataframe\">\n",
              "  <thead>\n",
              "    <tr style=\"text-align: right;\">\n",
              "      <th></th>\n",
              "      <th>Date</th>\n",
              "      <th>Rented Bike Count</th>\n",
              "      <th>Hour</th>\n",
              "      <th>Temperature(°C)</th>\n",
              "      <th>Humidity(%)</th>\n",
              "      <th>Wind speed (m/s)</th>\n",
              "      <th>Visibility (10m)</th>\n",
              "      <th>Dew point temperature(°C)</th>\n",
              "      <th>Solar Radiation (MJ/m2)</th>\n",
              "      <th>Rainfall(mm)</th>\n",
              "      <th>Snowfall (cm)</th>\n",
              "      <th>Seasons</th>\n",
              "      <th>Holiday</th>\n",
              "      <th>Functioning Day</th>\n",
              "    </tr>\n",
              "  </thead>\n",
              "  <tbody>\n",
              "    <tr>\n",
              "      <th>0</th>\n",
              "      <td>01/12/2017</td>\n",
              "      <td>254</td>\n",
              "      <td>-1.661325</td>\n",
              "      <td>-1.513957</td>\n",
              "      <td>-1.042483</td>\n",
              "      <td>0.458476</td>\n",
              "      <td>0.925871</td>\n",
              "      <td>-17.6</td>\n",
              "      <td>-0.655132</td>\n",
              "      <td>-0.1318</td>\n",
              "      <td>-0.171891</td>\n",
              "      <td>Winter</td>\n",
              "      <td>No Holiday</td>\n",
              "      <td>Yes</td>\n",
              "    </tr>\n",
              "    <tr>\n",
              "      <th>1</th>\n",
              "      <td>01/12/2017</td>\n",
              "      <td>204</td>\n",
              "      <td>-1.516862</td>\n",
              "      <td>-1.539074</td>\n",
              "      <td>-0.993370</td>\n",
              "      <td>-0.892561</td>\n",
              "      <td>0.925871</td>\n",
              "      <td>-17.6</td>\n",
              "      <td>-0.655132</td>\n",
              "      <td>-0.1318</td>\n",
              "      <td>-0.171891</td>\n",
              "      <td>Winter</td>\n",
              "      <td>No Holiday</td>\n",
              "      <td>Yes</td>\n",
              "    </tr>\n",
              "    <tr>\n",
              "      <th>2</th>\n",
              "      <td>01/12/2017</td>\n",
              "      <td>173</td>\n",
              "      <td>-1.372399</td>\n",
              "      <td>-1.580936</td>\n",
              "      <td>-0.944257</td>\n",
              "      <td>-0.699556</td>\n",
              "      <td>0.925871</td>\n",
              "      <td>-17.7</td>\n",
              "      <td>-0.655132</td>\n",
              "      <td>-0.1318</td>\n",
              "      <td>-0.171891</td>\n",
              "      <td>Winter</td>\n",
              "      <td>No Holiday</td>\n",
              "      <td>Yes</td>\n",
              "    </tr>\n",
              "    <tr>\n",
              "      <th>3</th>\n",
              "      <td>01/12/2017</td>\n",
              "      <td>107</td>\n",
              "      <td>-1.227936</td>\n",
              "      <td>-1.597680</td>\n",
              "      <td>-0.895144</td>\n",
              "      <td>-0.796059</td>\n",
              "      <td>0.925871</td>\n",
              "      <td>-17.6</td>\n",
              "      <td>-0.655132</td>\n",
              "      <td>-0.1318</td>\n",
              "      <td>-0.171891</td>\n",
              "      <td>Winter</td>\n",
              "      <td>No Holiday</td>\n",
              "      <td>Yes</td>\n",
              "    </tr>\n",
              "    <tr>\n",
              "      <th>4</th>\n",
              "      <td>01/12/2017</td>\n",
              "      <td>78</td>\n",
              "      <td>-1.083473</td>\n",
              "      <td>-1.580936</td>\n",
              "      <td>-1.091596</td>\n",
              "      <td>0.554978</td>\n",
              "      <td>0.925871</td>\n",
              "      <td>-18.6</td>\n",
              "      <td>-0.655132</td>\n",
              "      <td>-0.1318</td>\n",
              "      <td>-0.171891</td>\n",
              "      <td>Winter</td>\n",
              "      <td>No Holiday</td>\n",
              "      <td>Yes</td>\n",
              "    </tr>\n",
              "    <tr>\n",
              "      <th>...</th>\n",
              "      <td>...</td>\n",
              "      <td>...</td>\n",
              "      <td>...</td>\n",
              "      <td>...</td>\n",
              "      <td>...</td>\n",
              "      <td>...</td>\n",
              "      <td>...</td>\n",
              "      <td>...</td>\n",
              "      <td>...</td>\n",
              "      <td>...</td>\n",
              "      <td>...</td>\n",
              "      <td>...</td>\n",
              "      <td>...</td>\n",
              "      <td>...</td>\n",
              "    </tr>\n",
              "    <tr>\n",
              "      <th>8755</th>\n",
              "      <td>30/11/2018</td>\n",
              "      <td>1003</td>\n",
              "      <td>1.083473</td>\n",
              "      <td>-0.726961</td>\n",
              "      <td>-1.189822</td>\n",
              "      <td>0.844486</td>\n",
              "      <td>0.751605</td>\n",
              "      <td>-10.3</td>\n",
              "      <td>-0.655132</td>\n",
              "      <td>-0.1318</td>\n",
              "      <td>-0.171891</td>\n",
              "      <td>Autumn</td>\n",
              "      <td>No Holiday</td>\n",
              "      <td>Yes</td>\n",
              "    </tr>\n",
              "    <tr>\n",
              "      <th>8756</th>\n",
              "      <td>30/11/2018</td>\n",
              "      <td>764</td>\n",
              "      <td>1.227936</td>\n",
              "      <td>-0.793939</td>\n",
              "      <td>-1.042483</td>\n",
              "      <td>0.554978</td>\n",
              "      <td>0.925871</td>\n",
              "      <td>-9.9</td>\n",
              "      <td>-0.655132</td>\n",
              "      <td>-0.1318</td>\n",
              "      <td>-0.171891</td>\n",
              "      <td>Autumn</td>\n",
              "      <td>No Holiday</td>\n",
              "      <td>Yes</td>\n",
              "    </tr>\n",
              "    <tr>\n",
              "      <th>8757</th>\n",
              "      <td>30/11/2018</td>\n",
              "      <td>694</td>\n",
              "      <td>1.372399</td>\n",
              "      <td>-0.860918</td>\n",
              "      <td>-0.944257</td>\n",
              "      <td>-1.375075</td>\n",
              "      <td>0.873263</td>\n",
              "      <td>-9.9</td>\n",
              "      <td>-0.655132</td>\n",
              "      <td>-0.1318</td>\n",
              "      <td>-0.171891</td>\n",
              "      <td>Autumn</td>\n",
              "      <td>No Holiday</td>\n",
              "      <td>Yes</td>\n",
              "    </tr>\n",
              "    <tr>\n",
              "      <th>8758</th>\n",
              "      <td>30/11/2018</td>\n",
              "      <td>712</td>\n",
              "      <td>1.516862</td>\n",
              "      <td>-0.902779</td>\n",
              "      <td>-0.846031</td>\n",
              "      <td>-0.699556</td>\n",
              "      <td>0.694064</td>\n",
              "      <td>-9.8</td>\n",
              "      <td>-0.655132</td>\n",
              "      <td>-0.1318</td>\n",
              "      <td>-0.171891</td>\n",
              "      <td>Autumn</td>\n",
              "      <td>No Holiday</td>\n",
              "      <td>Yes</td>\n",
              "    </tr>\n",
              "    <tr>\n",
              "      <th>8759</th>\n",
              "      <td>30/11/2018</td>\n",
              "      <td>584</td>\n",
              "      <td>1.661325</td>\n",
              "      <td>-0.919524</td>\n",
              "      <td>-0.747806</td>\n",
              "      <td>-0.410048</td>\n",
              "      <td>0.776265</td>\n",
              "      <td>-9.3</td>\n",
              "      <td>-0.655132</td>\n",
              "      <td>-0.1318</td>\n",
              "      <td>-0.171891</td>\n",
              "      <td>Autumn</td>\n",
              "      <td>No Holiday</td>\n",
              "      <td>Yes</td>\n",
              "    </tr>\n",
              "  </tbody>\n",
              "</table>\n",
              "<p>8760 rows × 14 columns</p>\n",
              "</div>"
            ],
            "text/plain": [
              "            Date  Rented Bike Count  ...     Holiday  Functioning Day\n",
              "0     01/12/2017                254  ...  No Holiday              Yes\n",
              "1     01/12/2017                204  ...  No Holiday              Yes\n",
              "2     01/12/2017                173  ...  No Holiday              Yes\n",
              "3     01/12/2017                107  ...  No Holiday              Yes\n",
              "4     01/12/2017                 78  ...  No Holiday              Yes\n",
              "...          ...                ...  ...         ...              ...\n",
              "8755  30/11/2018               1003  ...  No Holiday              Yes\n",
              "8756  30/11/2018                764  ...  No Holiday              Yes\n",
              "8757  30/11/2018                694  ...  No Holiday              Yes\n",
              "8758  30/11/2018                712  ...  No Holiday              Yes\n",
              "8759  30/11/2018                584  ...  No Holiday              Yes\n",
              "\n",
              "[8760 rows x 14 columns]"
            ]
          },
          "metadata": {
            "tags": []
          },
          "execution_count": 9
        }
      ]
    },
    {
      "cell_type": "code",
      "metadata": {
        "id": "ABQnpm5RPjsN",
        "outputId": "8580f9e2-631c-4ef6-cbcf-85d6e0aa43ef",
        "colab": {
          "base_uri": "https://localhost:8080/"
        }
      },
      "source": [
        "df_ohe = pd.get_dummies(df, columns=['Seasons',\n",
        " 'Holiday',\n",
        " 'Functioning Day'])\n",
        "df_ohe.shape"
      ],
      "execution_count": 10,
      "outputs": [
        {
          "output_type": "execute_result",
          "data": {
            "text/plain": [
              "(8760, 19)"
            ]
          },
          "metadata": {
            "tags": []
          },
          "execution_count": 10
        }
      ]
    },
    {
      "cell_type": "markdown",
      "metadata": {
        "id": "AsbGjUyyQ0iB"
      },
      "source": [
        "# Generating train test and validation datasets"
      ]
    },
    {
      "cell_type": "code",
      "metadata": {
        "id": "9BkyGXjvP6BN"
      },
      "source": [
        "Y = df_ohe['Rented Bike Count']\n",
        "X = df_ohe.drop(columns=['Rented Bike Count', 'Date', 'Dew point temperature(°C)'])"
      ],
      "execution_count": 11,
      "outputs": []
    },
    {
      "cell_type": "code",
      "metadata": {
        "id": "BUeQo436QbAC",
        "outputId": "016d1a06-4014-4110-e890-56355f123bc7",
        "colab": {
          "base_uri": "https://localhost:8080/"
        }
      },
      "source": [
        "print(X.shape)\n",
        "print(Y.shape)"
      ],
      "execution_count": 12,
      "outputs": [
        {
          "output_type": "stream",
          "text": [
            "(8760, 16)\n",
            "(8760,)\n"
          ],
          "name": "stdout"
        }
      ]
    },
    {
      "cell_type": "code",
      "metadata": {
        "id": "-KGKjWFiQh3L"
      },
      "source": [
        "x_train, x_test, y_train, y_test = train_test_split(X, Y, test_size=0.15, random_state=1)"
      ],
      "execution_count": 13,
      "outputs": []
    },
    {
      "cell_type": "markdown",
      "metadata": {
        "id": "hM5XJ8CoQ5uZ"
      },
      "source": [
        "# Random Forest Regression Model"
      ]
    },
    {
      "cell_type": "code",
      "metadata": {
        "id": "7-MNgD7cQsQ7"
      },
      "source": [
        "def randForReg(X, Y):\n",
        "    x_train, x_test, y_train, y_test = train_test_split(X, Y, test_size=0.15, random_state=1)\n",
        "    cv = RepeatedKFold(n_splits=5, n_repeats=1)\n",
        "    gsc = RandomizedSearchCV(\n",
        "        estimator=RandomForestRegressor(),\n",
        "        param_distributions={\n",
        "            'max_depth': range(3,7),\n",
        "            'n_estimators': (10, 50, 100, 500,1000),\n",
        "            'min_samples_leaf': (1, 2, 4),\n",
        "        },\n",
        "        cv=cv, scoring='neg_mean_squared_error', n_iter = 15, verbose=0,n_jobs=-1)\n",
        "    \n",
        "    grid_result = gsc.fit(x_train, y_train)\n",
        "    print(grid_result)\n",
        "    best_params = grid_result.best_params_\n",
        "    \n",
        "    rfr = RandomForestRegressor(max_depth=best_params[\"max_depth\"], n_estimators=best_params[\"n_estimators\"],min_samples_leaf = best_params[\"min_samples_leaf\"], random_state=False, verbose=False)\n",
        "\n",
        "    rfr.fit(x_train, y_train)\n",
        "\n",
        "    pred = rfr.predict(x_test)\n",
        "    scr = metrics.mean_squared_error(y_test, pred, squared = False)\n",
        "\n",
        "\n",
        "    return scr"
      ],
      "execution_count": 14,
      "outputs": []
    },
    {
      "cell_type": "code",
      "metadata": {
        "id": "E23ngIHTRc7X",
        "outputId": "cf332007-4f0d-43b1-8611-fd1369039e78",
        "colab": {
          "base_uri": "https://localhost:8080/"
        }
      },
      "source": [
        "randForReg(X,Y)"
      ],
      "execution_count": 15,
      "outputs": [
        {
          "output_type": "stream",
          "text": [
            "RandomizedSearchCV(cv=RepeatedKFold(n_repeats=1, n_splits=5, random_state=None),\n",
            "                   error_score=nan,\n",
            "                   estimator=RandomForestRegressor(bootstrap=True,\n",
            "                                                   ccp_alpha=0.0,\n",
            "                                                   criterion='mse',\n",
            "                                                   max_depth=None,\n",
            "                                                   max_features='auto',\n",
            "                                                   max_leaf_nodes=None,\n",
            "                                                   max_samples=None,\n",
            "                                                   min_impurity_decrease=0.0,\n",
            "                                                   min_impurity_split=None,\n",
            "                                                   min_samples_leaf=1,\n",
            "                                                   min_samples_split=2,\n",
            "                                                   min_weight_fractio...\n",
            "                                                   n_estimators=100,\n",
            "                                                   n_jobs=None, oob_score=False,\n",
            "                                                   random_state=None, verbose=0,\n",
            "                                                   warm_start=False),\n",
            "                   iid='deprecated', n_iter=15, n_jobs=-1,\n",
            "                   param_distributions={'max_depth': range(3, 7),\n",
            "                                        'min_samples_leaf': (1, 2, 4),\n",
            "                                        'n_estimators': (10, 50, 100, 500,\n",
            "                                                         1000)},\n",
            "                   pre_dispatch='2*n_jobs', random_state=None, refit=True,\n",
            "                   return_train_score=False, scoring='neg_mean_squared_error',\n",
            "                   verbose=0)\n"
          ],
          "name": "stdout"
        },
        {
          "output_type": "execute_result",
          "data": {
            "text/plain": [
              "301.5732993701007"
            ]
          },
          "metadata": {
            "tags": []
          },
          "execution_count": 15
        }
      ]
    },
    {
      "cell_type": "markdown",
      "metadata": {
        "id": "oM6s4NkVR3l_"
      },
      "source": [
        "# Lasso Regression Model"
      ]
    },
    {
      "cell_type": "code",
      "metadata": {
        "id": "fspzllvCRzGk"
      },
      "source": [
        "def lasso_Reg(X,Y):\n",
        "  \n",
        "  cv = RepeatedKFold(n_splits=5, n_repeats=1, random_state=265)\n",
        "  x_train, x_test, y_train, y_test = train_test_split(X, Y, test_size=0.15, random_state=1)\n",
        "  grid = RandomizedSearchCV(estimator=Ridge(), \n",
        "              param_distributions={\n",
        "            'alpha': (0.01, 0.1 ,0.2,0.25,0.3,0.4,0.5, 1, 2, 5,10,20,50),\n",
        "            \"max_iter\": np.arange(1000,2001,50),\n",
        "            \"fit_intercept\":(True, False)\n",
        "        }, scoring='r2', cv = cv,n_iter = 1000, verbose=0,n_jobs=-1)\n",
        "  grid_result = grid.fit(x_train, y_train)\n",
        "  best_params = grid_result.best_params_\n",
        "  \n",
        "  # Print the best score and params\n",
        "  print('Best Score Acheived: ', grid_result.best_score_)\n",
        "  print('Best set of parameters: ', grid_result.best_params_)\n",
        "\n",
        "  # Train the model\n",
        "  lasso = Ridge(alpha=best_params[\"alpha\"], fit_intercept= best_params[\"fit_intercept\"],max_iter = best_params[\"max_iter\"])\n",
        "  lasso.fit(x_train,y_train)\n",
        "\n",
        "  #Make predictions\n",
        "  pred = lasso.predict(x_test)\n",
        "  scr = metrics.r2_score(y_test, pred)\n",
        "\n",
        "\n",
        "  return scr"
      ],
      "execution_count": 16,
      "outputs": []
    },
    {
      "cell_type": "code",
      "metadata": {
        "id": "rq_7Lhm-Stal",
        "outputId": "e776403c-cf8a-4568-fd81-c2f19d9e1ad8",
        "colab": {
          "base_uri": "https://localhost:8080/"
        }
      },
      "source": [
        "lasso_Reg(X,Y)"
      ],
      "execution_count": 17,
      "outputs": [
        {
          "output_type": "stream",
          "text": [
            "/usr/local/lib/python3.6/dist-packages/sklearn/model_selection/_search.py:281: UserWarning: The total space of parameters 546 is smaller than n_iter=1000. Running 546 iterations. For exhaustive searches, use GridSearchCV.\n",
            "  % (grid_size, self.n_iter, grid_size), UserWarning)\n"
          ],
          "name": "stderr"
        },
        {
          "output_type": "stream",
          "text": [
            "Best Score Acheived:  0.5487301679943943\n",
            "Best set of parameters:  {'max_iter': 1000, 'fit_intercept': False, 'alpha': 2}\n"
          ],
          "name": "stdout"
        },
        {
          "output_type": "execute_result",
          "data": {
            "text/plain": [
              "0.543746431429637"
            ]
          },
          "metadata": {
            "tags": []
          },
          "execution_count": 17
        }
      ]
    },
    {
      "cell_type": "markdown",
      "metadata": {
        "id": "imoS_lVZUn0h"
      },
      "source": [
        "# Conclusion\n",
        "\n",
        "#### From the above models we see that both Lasso Regression and Random Forest Regression are good upto some extent for prediction"
      ]
    }
  ]
}