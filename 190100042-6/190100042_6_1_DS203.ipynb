{
  "nbformat": 4,
  "nbformat_minor": 0,
  "metadata": {
    "colab": {
      "name": "6_1_190100042_DS203.ipynb",
      "provenance": [],
      "collapsed_sections": []
    },
    "kernelspec": {
      "name": "python3",
      "display_name": "Python 3"
    }
  },
  "cells": [
    {
      "cell_type": "markdown",
      "metadata": {
        "id": "yW5b8pkjbvLj"
      },
      "source": [
        "# Importing Libraries"
      ]
    },
    {
      "cell_type": "code",
      "metadata": {
        "id": "jhpRlYRTVKnf",
        "outputId": "ac95113e-7da3-4ca3-a43d-7a89abb3d84b",
        "colab": {
          "base_uri": "https://localhost:8080/",
          "height": 52
        }
      },
      "source": [
        "# Importing Libraries\n",
        "import pandas as pd\n",
        "import numpy as np\n",
        "import matplotlib.pyplot as plt\n",
        "import seaborn as sns\n",
        "from scipy.stats import entropy\n",
        "from scipy import stats \n",
        "import statsmodels.api as sm\n",
        "import random as rd\n",
        "import plotly.express as px\n",
        "import scipy.stats"
      ],
      "execution_count": 1,
      "outputs": [
        {
          "output_type": "stream",
          "text": [
            "/usr/local/lib/python3.6/dist-packages/statsmodels/tools/_testing.py:19: FutureWarning: pandas.util.testing is deprecated. Use the functions in the public API at pandas.testing instead.\n",
            "  import pandas.util.testing as tm\n"
          ],
          "name": "stderr"
        }
      ]
    },
    {
      "cell_type": "markdown",
      "metadata": {
        "id": "cr4xb9kmb3JR"
      },
      "source": [
        "# Reading Data into Pandas Dataframe"
      ]
    },
    {
      "cell_type": "code",
      "metadata": {
        "id": "wKk7PA3YVKnm"
      },
      "source": [
        "#Reading data into pandas df\n",
        "df = pd.read_csv(\"https://raw.githubusercontent.com/chiraggarg95/DS-203-Assignments/Assignment_4/master.csv\")"
      ],
      "execution_count": 2,
      "outputs": []
    },
    {
      "cell_type": "markdown",
      "metadata": {
        "id": "caC1mfkcb6x5"
      },
      "source": [
        "# Displaying part of Dataset"
      ]
    },
    {
      "cell_type": "code",
      "metadata": {
        "id": "k2X8DIBGVKnt",
        "outputId": "edec5695-8d77-4ab5-86bd-1003344bb155",
        "colab": {
          "base_uri": "https://localhost:8080/",
          "height": 195
        }
      },
      "source": [
        "#Displaying part of dataset\n",
        "df.head()"
      ],
      "execution_count": 3,
      "outputs": [
        {
          "output_type": "execute_result",
          "data": {
            "text/html": [
              "<div>\n",
              "<style scoped>\n",
              "    .dataframe tbody tr th:only-of-type {\n",
              "        vertical-align: middle;\n",
              "    }\n",
              "\n",
              "    .dataframe tbody tr th {\n",
              "        vertical-align: top;\n",
              "    }\n",
              "\n",
              "    .dataframe thead th {\n",
              "        text-align: right;\n",
              "    }\n",
              "</style>\n",
              "<table border=\"1\" class=\"dataframe\">\n",
              "  <thead>\n",
              "    <tr style=\"text-align: right;\">\n",
              "      <th></th>\n",
              "      <th>country</th>\n",
              "      <th>year</th>\n",
              "      <th>sex</th>\n",
              "      <th>age</th>\n",
              "      <th>suicides_no</th>\n",
              "      <th>population</th>\n",
              "      <th>suicides/100k pop</th>\n",
              "      <th>country-year</th>\n",
              "      <th>HDI for year</th>\n",
              "      <th>gdp_for_year ($)</th>\n",
              "      <th>gdp_per_capita ($)</th>\n",
              "      <th>generation</th>\n",
              "    </tr>\n",
              "  </thead>\n",
              "  <tbody>\n",
              "    <tr>\n",
              "      <th>0</th>\n",
              "      <td>Albania</td>\n",
              "      <td>1987</td>\n",
              "      <td>male</td>\n",
              "      <td>15-24 years</td>\n",
              "      <td>21</td>\n",
              "      <td>312900</td>\n",
              "      <td>6.71</td>\n",
              "      <td>Albania1987</td>\n",
              "      <td>NaN</td>\n",
              "      <td>2,156,624,900</td>\n",
              "      <td>796</td>\n",
              "      <td>Generation X</td>\n",
              "    </tr>\n",
              "    <tr>\n",
              "      <th>1</th>\n",
              "      <td>Albania</td>\n",
              "      <td>1987</td>\n",
              "      <td>male</td>\n",
              "      <td>35-54 years</td>\n",
              "      <td>16</td>\n",
              "      <td>308000</td>\n",
              "      <td>5.19</td>\n",
              "      <td>Albania1987</td>\n",
              "      <td>NaN</td>\n",
              "      <td>2,156,624,900</td>\n",
              "      <td>796</td>\n",
              "      <td>Silent</td>\n",
              "    </tr>\n",
              "    <tr>\n",
              "      <th>2</th>\n",
              "      <td>Albania</td>\n",
              "      <td>1987</td>\n",
              "      <td>female</td>\n",
              "      <td>15-24 years</td>\n",
              "      <td>14</td>\n",
              "      <td>289700</td>\n",
              "      <td>4.83</td>\n",
              "      <td>Albania1987</td>\n",
              "      <td>NaN</td>\n",
              "      <td>2,156,624,900</td>\n",
              "      <td>796</td>\n",
              "      <td>Generation X</td>\n",
              "    </tr>\n",
              "    <tr>\n",
              "      <th>3</th>\n",
              "      <td>Albania</td>\n",
              "      <td>1987</td>\n",
              "      <td>male</td>\n",
              "      <td>75+ years</td>\n",
              "      <td>1</td>\n",
              "      <td>21800</td>\n",
              "      <td>4.59</td>\n",
              "      <td>Albania1987</td>\n",
              "      <td>NaN</td>\n",
              "      <td>2,156,624,900</td>\n",
              "      <td>796</td>\n",
              "      <td>G.I. Generation</td>\n",
              "    </tr>\n",
              "    <tr>\n",
              "      <th>4</th>\n",
              "      <td>Albania</td>\n",
              "      <td>1987</td>\n",
              "      <td>male</td>\n",
              "      <td>25-34 years</td>\n",
              "      <td>9</td>\n",
              "      <td>274300</td>\n",
              "      <td>3.28</td>\n",
              "      <td>Albania1987</td>\n",
              "      <td>NaN</td>\n",
              "      <td>2,156,624,900</td>\n",
              "      <td>796</td>\n",
              "      <td>Boomers</td>\n",
              "    </tr>\n",
              "  </tbody>\n",
              "</table>\n",
              "</div>"
            ],
            "text/plain": [
              "   country  year  ... gdp_per_capita ($)       generation\n",
              "0  Albania  1987  ...                796     Generation X\n",
              "1  Albania  1987  ...                796           Silent\n",
              "2  Albania  1987  ...                796     Generation X\n",
              "3  Albania  1987  ...                796  G.I. Generation\n",
              "4  Albania  1987  ...                796          Boomers\n",
              "\n",
              "[5 rows x 12 columns]"
            ]
          },
          "metadata": {
            "tags": []
          },
          "execution_count": 3
        }
      ]
    },
    {
      "cell_type": "markdown",
      "metadata": {
        "id": "I-yv1t8wcRSg"
      },
      "source": [
        "# Statistical Analysis"
      ]
    },
    {
      "cell_type": "markdown",
      "metadata": {
        "id": "Y0DkSrvAdw6Z"
      },
      "source": [
        "## Data driven point estimate of Mean and Varaince"
      ]
    },
    {
      "cell_type": "code",
      "metadata": {
        "id": "uTNTQLqhr6dG",
        "outputId": "f6087d1b-97f5-4d5e-cfe5-9a3597aa0f3d",
        "colab": {
          "base_uri": "https://localhost:8080/",
          "height": 210
        }
      },
      "source": [
        "#finding out common years\n",
        "df_1 = df[df[\"population\"]>=10000000].sort_values(by=\"population\", ascending=False).groupby(\"country\")['year'].unique()\n",
        "df_1 "
      ],
      "execution_count": 4,
      "outputs": [
        {
          "output_type": "execute_result",
          "data": {
            "text/plain": [
              "country\n",
              "Brazil                [2015, 2014, 2013, 2012, 2011, 2010, 2009, 200...\n",
              "Germany               [2006, 2005, 2007, 2004, 2008, 2003, 2009, 200...\n",
              "Japan                 [1989, 1988, 1990, 1987, 1991, 1986, 1992, 199...\n",
              "Mexico                [2015, 2014, 2013, 2012, 2011, 2010, 2009, 200...\n",
              "Philippines            [2011, 2009, 2010, 2008, 2007, 2006, 2003, 2002]\n",
              "Russian Federation    [2001, 2003, 2002, 2004, 2000, 2005, 2006, 200...\n",
              "Thailand              [2015, 2014, 2016, 2013, 2006, 2012, 2011, 201...\n",
              "Turkey                                                     [2015, 2014]\n",
              "United States         [2006, 2007, 2005, 2004, 2008, 2003, 2002, 200...\n",
              "Name: year, dtype: object"
            ]
          },
          "metadata": {
            "tags": []
          },
          "execution_count": 4
        }
      ]
    },
    {
      "cell_type": "code",
      "metadata": {
        "id": "5oRjOW6ZER8n"
      },
      "source": [
        "com_yrs = list(set(df_1[0]) & set(df_1[1]) & set(df_1[2]) & set(df_1[3]) & set(df_1[8]) & set(df_1[5]))"
      ],
      "execution_count": 5,
      "outputs": []
    },
    {
      "cell_type": "code",
      "metadata": {
        "id": "QDszJn0jfwyH",
        "outputId": "0fefe2ab-4e67-4f2b-899c-0ab84c205b73",
        "colab": {
          "base_uri": "https://localhost:8080/",
          "height": 34
        }
      },
      "source": [
        "#Finding top 6 most populous countries\n",
        "top_6_pop_count = df[df[\"population\"]>=10000000].sort_values(by=\"population\", ascending=False)[\"country\"].unique()[0:6]\n",
        "print(top_6_pop_count)"
      ],
      "execution_count": 6,
      "outputs": [
        {
          "output_type": "stream",
          "text": [
            "['United States' 'Brazil' 'Russian Federation' 'Japan' 'Mexico' 'Germany']\n"
          ],
          "name": "stdout"
        }
      ]
    },
    {
      "cell_type": "code",
      "metadata": {
        "id": "77JGOD17HHgH"
      },
      "source": [
        "df_trimmed = df[(df['country'].isin(top_6_pop_count) & df['year'].isin(com_yrs))]"
      ],
      "execution_count": 7,
      "outputs": []
    },
    {
      "cell_type": "code",
      "metadata": {
        "id": "H13kF_U0Hrry"
      },
      "source": [
        "df_trimmed_mean = df_trimmed.groupby(['country', 'year']).sum()[['suicides/100k pop']].reset_index().groupby('country').mean()[['suicides/100k pop']].reset_index()\n",
        "df_trimmed_var = df_trimmed.groupby(['country', 'year']).sum()[['suicides/100k pop']].reset_index().groupby('country').var()[['suicides/100k pop']].reset_index()"
      ],
      "execution_count": 8,
      "outputs": []
    },
    {
      "cell_type": "code",
      "metadata": {
        "id": "Zj8FLev4JwVe",
        "outputId": "0884a24f-931d-41f7-b104-af128367bf47",
        "colab": {
          "base_uri": "https://localhost:8080/",
          "height": 474
        }
      },
      "source": [
        "means = []\n",
        "vars = []\n",
        "print('The data driven point estimate of mean and variance for 6 most populous countries is as follows: ')\n",
        "print()\n",
        "for count in top_6_pop_count:\n",
        "    print(count)\n",
        "    mean = float(df_trimmed_mean[df_trimmed_mean['country']==count]['suicides/100k pop'])\n",
        "    means.append(mean)\n",
        "    var = float(df_trimmed_var[df_trimmed_mean['country']==count]['suicides/100k pop'])\n",
        "    vars.append(var)\n",
        "    print('Mean: ' + str(float(df_trimmed_mean[df_trimmed_mean['country']==count]['suicides/100k pop'])))\n",
        "    print('Variance: ' + str(float(df_trimmed_var[df_trimmed_var['country']==count]['suicides/100k pop'])))\n",
        "    print()"
      ],
      "execution_count": 9,
      "outputs": [
        {
          "output_type": "stream",
          "text": [
            "The data driven point estimate of mean and variance for 6 most populous countries is as follows: \n",
            "\n",
            "United States\n",
            "Mean: 161.64576923076922\n",
            "Variance: 173.76732938461544\n",
            "\n",
            "Brazil\n",
            "Mean: 71.49538461538464\n",
            "Variance: 10.067193846153842\n",
            "\n",
            "Russian Federation\n",
            "Mean: 419.47346153846144\n",
            "Variance: 9370.390391538462\n",
            "\n",
            "Japan\n",
            "Mean: 252.22230769230762\n",
            "Variance: 616.6464984615374\n",
            "\n",
            "Mexico\n",
            "Mean: 59.052692307692304\n",
            "Variance: 28.52646846153839\n",
            "\n",
            "Germany\n",
            "Mean: 186.71884615384613\n",
            "Variance: 1482.1605146153825\n",
            "\n"
          ],
          "name": "stdout"
        }
      ]
    },
    {
      "cell_type": "code",
      "metadata": {
        "id": "2j5J2xZfy2ao"
      },
      "source": [
        "means = np.array(means)\n",
        "vars = np.array(vars)"
      ],
      "execution_count": 10,
      "outputs": []
    },
    {
      "cell_type": "code",
      "metadata": {
        "id": "MnpVlB8ozCtU",
        "outputId": "2d1ec1ca-8786-4a11-c9f1-43bc9f4a5abc",
        "colab": {
          "base_uri": "https://localhost:8080/",
          "height": 52
        }
      },
      "source": [
        "print(means.shape)\n",
        "print(vars.shape)"
      ],
      "execution_count": 11,
      "outputs": [
        {
          "output_type": "stream",
          "text": [
            "(6,)\n",
            "(6,)\n"
          ],
          "name": "stdout"
        }
      ]
    },
    {
      "cell_type": "markdown",
      "metadata": {
        "id": "KXhxB909eQhK"
      },
      "source": [
        "## QQ-Plot"
      ]
    },
    {
      "cell_type": "code",
      "metadata": {
        "id": "dMPBeJW9gs5d",
        "outputId": "43e2ce49-5b3b-4a4c-b5cb-86194bfc7be1",
        "colab": {
          "base_uri": "https://localhost:8080/",
          "height": 1000
        }
      },
      "source": [
        "for count in top_6_pop_count:\n",
        "    sm.qqplot(df_trimmed[df_trimmed[\"country\"]==count].groupby([\"country\", \"year\"]).sum().reset_index()['suicides/100k pop'], line='s')\n",
        "    plt.title(count)\n",
        "    plt.show()"
      ],
      "execution_count": 12,
      "outputs": [
        {
          "output_type": "display_data",
          "data": {
            "image/png": "[encoded data removed]",
            "text/plain": [
              "<Figure size 432x288 with 1 Axes>"
            ]
          },
          "metadata": {
            "tags": [],
            "needs_background": "light"
          }
        },
        {
          "output_type": "display_data",
          "data": {
            "image/png": "[encoded data removed]",
            "text/plain": [
              "<Figure size 432x288 with 1 Axes>"
            ]
          },
          "metadata": {
            "tags": [],
            "needs_background": "light"
          }
        },
        {
          "output_type": "display_data",
          "data": {
            "image/png": "[encoded data removed]",
            "text/plain": [
              "<Figure size 432x288 with 1 Axes>"
            ]
          },
          "metadata": {
            "tags": [],
            "needs_background": "light"
          }
        },
        {
          "output_type": "display_data",
          "data": {
            "image/png": "[encoded data removed]",
            "text/plain": [
              "<Figure size 432x288 with 1 Axes>"
            ]
          },
          "metadata": {
            "tags": [],
            "needs_background": "light"
          }
        },
        {
          "output_type": "display_data",
          "data": {
            "image/png": "[encoded data removed]",
            "text/plain": [
              "<Figure size 432x288 with 1 Axes>"
            ]
          },
          "metadata": {
            "tags": [],
            "needs_background": "light"
          }
        },
        {
          "output_type": "display_data",
          "data": {
            "image/png": "[encoded data removed]",
            "text/plain": [
              "<Figure size 432x288 with 1 Axes>"
            ]
          },
          "metadata": {
            "tags": [],
            "needs_background": "light"
          }
        }
      ]
    },
    {
      "cell_type": "markdown",
      "metadata": {
        "id": "qHHhO7ICebcE"
      },
      "source": [
        "## Log Likelihood wrt Gaussian Distribution"
      ]
    },
    {
      "cell_type": "code",
      "metadata": {
        "id": "GSC2F_cJzcr2",
        "outputId": "a74134f7-2642-4eb0-c984-68b96a8b80c3",
        "colab": {
          "base_uri": "https://localhost:8080/",
          "height": 404
        }
      },
      "source": [
        "for i in range (0, 6):\n",
        "    count = top_6_pop_count[i]\n",
        "    mean = means[i]\n",
        "    var = vars[i]\n",
        "    print(count + ': ')\n",
        "    print(np.sum(np.log(scipy.stats.norm.pdf(df_trimmed_var[df_trimmed_var['country']==count]['suicides/100k pop'], mean, np.sqrt(var)))))\n",
        "    print()"
      ],
      "execution_count": 13,
      "outputs": [
        {
          "output_type": "stream",
          "text": [
            "United States: \n",
            "-3.920581508227112\n",
            "\n",
            "Brazil: \n",
            "-189.48541836724593\n",
            "\n",
            "Russian Federation: \n",
            "-inf\n",
            "\n",
            "Japan: \n",
            "-111.81433058151585\n",
            "\n",
            "Mexico: \n",
            "-18.927437512568133\n",
            "\n",
            "Germany: \n",
            "-570.6921625679903\n",
            "\n"
          ],
          "name": "stdout"
        },
        {
          "output_type": "stream",
          "text": [
            "/usr/local/lib/python3.6/dist-packages/ipykernel_launcher.py:6: RuntimeWarning:\n",
            "\n",
            "divide by zero encountered in log\n",
            "\n"
          ],
          "name": "stderr"
        }
      ]
    },
    {
      "cell_type": "markdown",
      "metadata": {
        "id": "N74XnUe73QRb"
      },
      "source": [
        "#### The qq-plots and the Log Likelihood values correspond each other well. The closeness of the qq-plot to the straight line indicates that the distribution is more Normal. Also, a lower log likelihood value (MAGNITUDE WISE) indicates that the distribution is more normal.\n"
      ]
    },
    {
      "cell_type": "markdown",
      "metadata": {
        "id": "nqqCOZIren0D"
      },
      "source": [
        "## 95% Confidence Interval"
      ]
    },
    {
      "cell_type": "code",
      "metadata": {
        "id": "uy8dodVtub6K"
      },
      "source": [
        "def mean_confidence_interval(data, confidence=0.95):\n",
        "    a = 1.0 * np.array(data)\n",
        "    n = len(a)\n",
        "    m, se = np.mean(a), scipy.stats.sem(a)\n",
        "    h = se * scipy.stats.t.ppf((1 + confidence) / 2., n-1)\n",
        "    return m, m-h, m+h"
      ],
      "execution_count": 14,
      "outputs": []
    },
    {
      "cell_type": "code",
      "metadata": {
        "id": "lf03KA_lT3Os"
      },
      "source": [
        "df_yrly_suic = df_trimmed.groupby(['country', 'year']).sum().reset_index()"
      ],
      "execution_count": 15,
      "outputs": []
    },
    {
      "cell_type": "code",
      "metadata": {
        "id": "bXDA7GrvUCd9",
        "outputId": "cca2133a-a40b-44a4-c204-7c16e9849c3a",
        "colab": {
          "base_uri": "https://localhost:8080/",
          "height": 228
        }
      },
      "source": [
        "for count in top_6_pop_count:\n",
        "    conf_int = mean_confidence_interval(df_yrly_suic[df_yrly_suic['country']==count]['suicides/100k pop'])\n",
        "    print(count)\n",
        "    print('Confidence Interval: (' + str(conf_int[1]) + ', ' + str(conf_int[2]) + ')')"
      ],
      "execution_count": 16,
      "outputs": [
        {
          "output_type": "stream",
          "text": [
            "United States\n",
            "Confidence Interval: (156.3214104177292, 166.97012804380924)\n",
            "Brazil\n",
            "Confidence Interval: (70.2138289715225, 72.77694025924674)\n",
            "Russian Federation\n",
            "Confidence Interval: (380.37478163525196, 458.572141441671)\n",
            "Japan\n",
            "Confidence Interval: (242.1922972105258, 262.2523181740896)\n",
            "Mexico\n",
            "Confidence Interval: (56.89540863299442, 61.20997598239019)\n",
            "Germany\n",
            "Confidence Interval: (171.16882902894542, 202.26886327874684)\n"
          ],
          "name": "stdout"
        }
      ]
    },
    {
      "cell_type": "markdown",
      "metadata": {
        "id": "2zXre15SFxOc"
      },
      "source": [
        "## Welch's t-test"
      ]
    },
    {
      "cell_type": "code",
      "metadata": {
        "id": "_DQFYdeQMtMS",
        "outputId": "e274bd30-85a1-4221-b699-943eca66fb66",
        "colab": {
          "base_uri": "https://localhost:8080/",
          "height": 254
        }
      },
      "source": [
        "df_trimmed.groupby(['country', 'year']).sum().reset_index().groupby('country').mean()[['suicides_no']]"
      ],
      "execution_count": 17,
      "outputs": [
        {
          "output_type": "execute_result",
          "data": {
            "text/html": [
              "<div>\n",
              "<style scoped>\n",
              "    .dataframe tbody tr th:only-of-type {\n",
              "        vertical-align: middle;\n",
              "    }\n",
              "\n",
              "    .dataframe tbody tr th {\n",
              "        vertical-align: top;\n",
              "    }\n",
              "\n",
              "    .dataframe thead th {\n",
              "        text-align: right;\n",
              "    }\n",
              "</style>\n",
              "<table border=\"1\" class=\"dataframe\">\n",
              "  <thead>\n",
              "    <tr style=\"text-align: right;\">\n",
              "      <th></th>\n",
              "      <th>suicides_no</th>\n",
              "    </tr>\n",
              "    <tr>\n",
              "      <th>country</th>\n",
              "      <th></th>\n",
              "    </tr>\n",
              "  </thead>\n",
              "  <tbody>\n",
              "    <tr>\n",
              "      <th>Brazil</th>\n",
              "      <td>7865.884615</td>\n",
              "    </tr>\n",
              "    <tr>\n",
              "      <th>Germany</th>\n",
              "      <td>11202.384615</td>\n",
              "    </tr>\n",
              "    <tr>\n",
              "      <th>Japan</th>\n",
              "      <td>26569.576923</td>\n",
              "    </tr>\n",
              "    <tr>\n",
              "      <th>Mexico</th>\n",
              "      <td>3946.615385</td>\n",
              "    </tr>\n",
              "    <tr>\n",
              "      <th>Russian Federation</th>\n",
              "      <td>45070.038462</td>\n",
              "    </tr>\n",
              "    <tr>\n",
              "      <th>United States</th>\n",
              "      <td>33934.076923</td>\n",
              "    </tr>\n",
              "  </tbody>\n",
              "</table>\n",
              "</div>"
            ],
            "text/plain": [
              "                     suicides_no\n",
              "country                         \n",
              "Brazil               7865.884615\n",
              "Germany             11202.384615\n",
              "Japan               26569.576923\n",
              "Mexico               3946.615385\n",
              "Russian Federation  45070.038462\n",
              "United States       33934.076923"
            ]
          },
          "metadata": {
            "tags": []
          },
          "execution_count": 17
        }
      ]
    },
    {
      "cell_type": "markdown",
      "metadata": {
        "id": "SGa4xwOpqaaP"
      },
      "source": [
        "#### Brazil and Mexico have the closest mean suicide rates"
      ]
    },
    {
      "cell_type": "code",
      "metadata": {
        "id": "DfseDM0ITqcM"
      },
      "source": [
        "df_trimmed_yrly_suic = df_trimmed.groupby(['country', 'year']).sum()[['suicides_no']].reset_index()\n",
        "df_yrly_suic_brazil = df_trimmed_yrly_suic[df_trimmed_yrly_suic['country']=='Brazil']\n",
        "df_yrly_suic_mexico = df_trimmed_yrly_suic[df_trimmed_yrly_suic['country']=='Mexico']"
      ],
      "execution_count": 18,
      "outputs": []
    },
    {
      "cell_type": "markdown",
      "metadata": {
        "id": "Qih_hyB7sIfT"
      },
      "source": [
        "### Shapiro test for checking whether the distribution is normal or not"
      ]
    },
    {
      "cell_type": "code",
      "metadata": {
        "id": "pwMYKLdRh-Ha",
        "outputId": "18a02f2b-d28c-4ed2-a2b1-dfb439fcd9b7",
        "colab": {
          "base_uri": "https://localhost:8080/",
          "height": 34
        }
      },
      "source": [
        "stats.shapiro(df_yrly_suic_brazil['suicides_no'])"
      ],
      "execution_count": 19,
      "outputs": [
        {
          "output_type": "execute_result",
          "data": {
            "text/plain": [
              "(0.965345025062561, 0.5074295401573181)"
            ]
          },
          "metadata": {
            "tags": []
          },
          "execution_count": 19
        }
      ]
    },
    {
      "cell_type": "code",
      "metadata": {
        "id": "5gT5nYyMiJcq",
        "outputId": "308b98b7-dad9-4bd7-8f0c-d6de50efe435",
        "colab": {
          "base_uri": "https://localhost:8080/",
          "height": 34
        }
      },
      "source": [
        "stats.shapiro(df_yrly_suic_mexico['suicides_no'])"
      ],
      "execution_count": 20,
      "outputs": [
        {
          "output_type": "execute_result",
          "data": {
            "text/plain": [
              "(0.9677057266235352, 0.5648210644721985)"
            ]
          },
          "metadata": {
            "tags": []
          },
          "execution_count": 20
        }
      ]
    },
    {
      "cell_type": "markdown",
      "metadata": {
        "id": "QF5Gpo_AsQbY"
      },
      "source": [
        "#### Since both the p-values are greater than 0.05, both the distribution are normal"
      ]
    },
    {
      "cell_type": "markdown",
      "metadata": {
        "id": "Mn1kBJ_5s77E"
      },
      "source": [
        "### Performing the welch t-test on both the distributions"
      ]
    },
    {
      "cell_type": "code",
      "metadata": {
        "id": "rgUMvAJxiZaJ",
        "outputId": "b20805d8-42de-425a-e9b3-e8ffeff97799",
        "colab": {
          "base_uri": "https://localhost:8080/",
          "height": 87
        }
      },
      "source": [
        "def welch_ttest(x, y): \n",
        "    ## Welch-Satterthwaite Degrees of Freedom ##\n",
        "    dof = (x.var()/x.size + y.var()/y.size)**2 / ((x.var()/x.size)**2 / (x.size-1) + (y.var()/y.size)**2 / (y.size-1))\n",
        "   \n",
        "    t, p = stats.ttest_ind(x, y, equal_var=False)\n",
        "    \n",
        "    print(\"\\n\",\n",
        "          f\"Welch's t-test= \" + str(t), \"\\n\",\n",
        "          f\"p-value = \" + str(p), \"\\n\",\n",
        "          f\"Welch-Satterthwaite Degrees of Freedom= \" + str(dof))\n",
        "\n",
        "welch_ttest(df_yrly_suic_brazil['suicides_no'], df_yrly_suic_mexico['suicides_no'])"
      ],
      "execution_count": 21,
      "outputs": [
        {
          "output_type": "stream",
          "text": [
            "\n",
            " Welch's t-test= 8.972876661673427 \n",
            " p-value = 1.7002867225421086e-11 \n",
            " Welch-Satterthwaite Degrees of Freedom= 43.979131893319455\n"
          ],
          "name": "stdout"
        }
      ]
    },
    {
      "cell_type": "markdown",
      "metadata": {
        "id": "zmyQCNLUtqbY"
      },
      "source": [
        "#### Since the p-value is less than 0.05, the null hypothesis is rejected. This means that, means of the 2 distributions are different."
      ]
    },
    {
      "cell_type": "markdown",
      "metadata": {
        "id": "-vA4FXtfF4Xh"
      },
      "source": [
        "## Wilcoxon signed-rank test"
      ]
    },
    {
      "cell_type": "code",
      "metadata": {
        "id": "bYGl58qenxM3",
        "outputId": "20bc8c89-b210-46bd-e4d3-a4d06d5fde92",
        "colab": {
          "base_uri": "https://localhost:8080/",
          "height": 34
        }
      },
      "source": [
        "stats.wilcoxon(df_yrly_suic_brazil['suicides_no'], df_yrly_suic_mexico['suicides_no'])"
      ],
      "execution_count": 22,
      "outputs": [
        {
          "output_type": "execute_result",
          "data": {
            "text/plain": [
              "WilcoxonResult(statistic=0.0, pvalue=8.29809930635731e-06)"
            ]
          },
          "metadata": {
            "tags": []
          },
          "execution_count": 22
        }
      ]
    },
    {
      "cell_type": "markdown",
      "metadata": {
        "id": "QDm6YsrTt5lt"
      },
      "source": [
        "#### Since the p-value is less than 0.05, the null hypothesis is rejected. This means that, medians of the 2 distributions are different."
      ]
    },
    {
      "cell_type": "markdown",
      "metadata": {
        "id": "9l5yTpJStOBR"
      },
      "source": [
        "## Welch's Paired t-Test"
      ]
    },
    {
      "cell_type": "code",
      "metadata": {
        "id": "cw1v1QkKtNMb",
        "outputId": "91d9b6de-0a46-4713-e7f6-45be50496774",
        "colab": {
          "base_uri": "https://localhost:8080/",
          "height": 87
        }
      },
      "source": [
        "def welch_ttest_paired(x, y): \n",
        "    ## Welch-Satterthwaite Degrees of Freedom ##\n",
        "    dof = (x.var()/x.size + y.var()/y.size)**2 / ((x.var()/x.size)**2 / (x.size-1) + (y.var()/y.size)**2 / (y.size-1))\n",
        "   \n",
        "    t, p = stats.ttest_rel(x, y)\n",
        "    \n",
        "    print(\"\\n\",\n",
        "          f\"Welch's t-test= \" + str(t), \"\\n\",\n",
        "          f\"p-value = \" + str(p), \"\\n\")\n",
        "\n",
        "welch_ttest_paired(df_yrly_suic_brazil['suicides_no'], df_yrly_suic_mexico['suicides_no'])"
      ],
      "execution_count": 23,
      "outputs": [
        {
          "output_type": "stream",
          "text": [
            "\n",
            " Welch's t-test= 31.74293972535655 \n",
            " p-value = 1.0082674697214755e-21 \n",
            "\n"
          ],
          "name": "stdout"
        }
      ]
    },
    {
      "cell_type": "markdown",
      "metadata": {
        "id": "c7ZFpDtQv2rw"
      },
      "source": [
        "#### Since the p-value is less than 0.05 , we reject the null hypothesis i.e. the paired distribution doesn't have same mean"
      ]
    },
    {
      "cell_type": "markdown",
      "metadata": {
        "id": "otfhi6R7FUqp"
      },
      "source": [
        "## Coorelation of yearly suicide rate with HDI and GDP per capita"
      ]
    },
    {
      "cell_type": "code",
      "metadata": {
        "id": "DwQ3220rJz0z",
        "outputId": "39333a49-c18f-42ee-843f-e1736a69a448",
        "colab": {
          "base_uri": "https://localhost:8080/",
          "height": 166
        }
      },
      "source": [
        "df_1 = df.groupby(['country', 'year']).agg({'suicides_no':'sum', 'HDI for year': 'mean', 'gdp_per_capita ($)': 'mean'}).reset_index()\n",
        "df_1_corr = df_1.corr()\n",
        "df_1_corr"
      ],
      "execution_count": 24,
      "outputs": [
        {
          "output_type": "execute_result",
          "data": {
            "text/html": [
              "<div>\n",
              "<style scoped>\n",
              "    .dataframe tbody tr th:only-of-type {\n",
              "        vertical-align: middle;\n",
              "    }\n",
              "\n",
              "    .dataframe tbody tr th {\n",
              "        vertical-align: top;\n",
              "    }\n",
              "\n",
              "    .dataframe thead th {\n",
              "        text-align: right;\n",
              "    }\n",
              "</style>\n",
              "<table border=\"1\" class=\"dataframe\">\n",
              "  <thead>\n",
              "    <tr style=\"text-align: right;\">\n",
              "      <th></th>\n",
              "      <th>year</th>\n",
              "      <th>suicides_no</th>\n",
              "      <th>HDI for year</th>\n",
              "      <th>gdp_per_capita ($)</th>\n",
              "    </tr>\n",
              "  </thead>\n",
              "  <tbody>\n",
              "    <tr>\n",
              "      <th>year</th>\n",
              "      <td>1.000000</td>\n",
              "      <td>-0.007759</td>\n",
              "      <td>0.366786</td>\n",
              "      <td>0.339188</td>\n",
              "    </tr>\n",
              "    <tr>\n",
              "      <th>suicides_no</th>\n",
              "      <td>-0.007759</td>\n",
              "      <td>1.000000</td>\n",
              "      <td>0.222438</td>\n",
              "      <td>0.093461</td>\n",
              "    </tr>\n",
              "    <tr>\n",
              "      <th>HDI for year</th>\n",
              "      <td>0.366786</td>\n",
              "      <td>0.222438</td>\n",
              "      <td>1.000000</td>\n",
              "      <td>0.771228</td>\n",
              "    </tr>\n",
              "    <tr>\n",
              "      <th>gdp_per_capita ($)</th>\n",
              "      <td>0.339188</td>\n",
              "      <td>0.093461</td>\n",
              "      <td>0.771228</td>\n",
              "      <td>1.000000</td>\n",
              "    </tr>\n",
              "  </tbody>\n",
              "</table>\n",
              "</div>"
            ],
            "text/plain": [
              "                        year  suicides_no  HDI for year  gdp_per_capita ($)\n",
              "year                1.000000    -0.007759      0.366786            0.339188\n",
              "suicides_no        -0.007759     1.000000      0.222438            0.093461\n",
              "HDI for year        0.366786     0.222438      1.000000            0.771228\n",
              "gdp_per_capita ($)  0.339188     0.093461      0.771228            1.000000"
            ]
          },
          "metadata": {
            "tags": []
          },
          "execution_count": 24
        }
      ]
    },
    {
      "cell_type": "code",
      "metadata": {
        "id": "pko4K8NNJ8lm",
        "outputId": "7106d02b-56f1-4a62-9221-8231caf86055",
        "colab": {
          "base_uri": "https://localhost:8080/",
          "height": 370
        }
      },
      "source": [
        "sns.heatmap(df_1_corr, annot=True, cmap=\"YlGnBu\")"
      ],
      "execution_count": 25,
      "outputs": [
        {
          "output_type": "execute_result",
          "data": {
            "text/plain": [
              "<matplotlib.axes._subplots.AxesSubplot at 0x7fbe9dffd080>"
            ]
          },
          "metadata": {
            "tags": []
          },
          "execution_count": 25
        },
        {
          "output_type": "display_data",
          "data": {
            "image/png": "[encoded data removed]",
            "text/plain": [
              "<Figure size 432x288 with 2 Axes>"
            ]
          },
          "metadata": {
            "tags": [],
            "needs_background": "light"
          }
        }
      ]
    },
    {
      "cell_type": "markdown",
      "metadata": {
        "id": "kM8ayD7a1dbE"
      },
      "source": [
        "#### This shows that HDI and GDP per capita are positively correlated to each other to a good extent"
      ]
    }
  ]
}