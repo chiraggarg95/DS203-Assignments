{
  "nbformat": 4,
  "nbformat_minor": 0,
  "metadata": {
    "colab": {
      "name": "8_4_DS203_190100042.ipynb",
      "provenance": [],
      "toc_visible": true
    },
    "kernelspec": {
      "name": "python3",
      "display_name": "Python 3"
    }
  },
  "cells": [
    {
      "cell_type": "markdown",
      "metadata": {
        "id": "mSP0w6PAN1bx"
      },
      "source": [
        "# Importing Libraries"
      ]
    },
    {
      "cell_type": "code",
      "metadata": {
        "id": "3lHJsehpDE5J",
        "outputId": "2c9a73a5-9eec-469f-a7b8-337349df753d",
        "colab": {
          "base_uri": "https://localhost:8080/"
        }
      },
      "source": [
        "import numpy as np\n",
        "import pandas as pd\n",
        "import seaborn as sns\n",
        "from sklearn.preprocessing import StandardScaler\n",
        "from sklearn.linear_model import RidgeClassifier\n",
        "from sklearn.model_selection import train_test_split\n",
        "from sklearn.ensemble import RandomForestClassifier\n",
        "from sklearn.neural_network import MLPClassifier\n",
        "import scipy.stats\n",
        "from sklearn.preprocessing import StandardScaler\n",
        "from sklearn import preprocessing\n",
        "from sklearn.preprocessing import MinMaxScaler\n",
        "from sklearn.model_selection import train_test_split\n",
        "from sklearn.model_selection import cross_val_score, GridSearchCV, RandomizedSearchCV\n",
        "from sklearn.ensemble import RandomForestRegressor\n",
        "from sklearn import metrics\n",
        "from sklearn.linear_model import Lasso,Ridge\n",
        "from sklearn.model_selection import RepeatedKFold\n",
        "from sklearn.model_selection import KFold, cross_val_score\n",
        "from sklearn.model_selection import cross_validate\n",
        "import os\n",
        "import requests\n",
        "import csv\n",
        "import pandas as pd\n",
        "import matplotlib.pyplot as plt\n",
        "import numpy as np\n",
        "import statsmodels.api as sm\n",
        "import scipy.stats\n",
        "import seaborn as sns"
      ],
      "execution_count": 1,
      "outputs": [
        {
          "output_type": "stream",
          "text": [
            "/usr/local/lib/python3.6/dist-packages/statsmodels/tools/_testing.py:19: FutureWarning: pandas.util.testing is deprecated. Use the functions in the public API at pandas.testing instead.\n",
            "  import pandas.util.testing as tm\n"
          ],
          "name": "stderr"
        }
      ]
    },
    {
      "cell_type": "markdown",
      "metadata": {
        "id": "SrxWRmp4N4xg"
      },
      "source": [
        "# Loading Dataset"
      ]
    },
    {
      "cell_type": "code",
      "metadata": {
        "id": "d2N7oW9QECoy",
        "outputId": "7acbac35-7169-4a5e-8dfd-19c139a7a3e4",
        "colab": {
          "base_uri": "https://localhost:8080/",
          "height": 404
        }
      },
      "source": [
        "df = pd.read_csv('https://raw.githubusercontent.com/chiraggarg95/Assignment-Datasets/main/crx.csv', names=['A1', 'A2', 'A3', 'A4', 'A5', 'A6', 'A7', 'A8', 'A9', 'A10', 'A11', 'A12', 'A13', 'A14', 'A15', 'A16'])\n",
        "df"
      ],
      "execution_count": 2,
      "outputs": [
        {
          "output_type": "execute_result",
          "data": {
            "text/html": [
              "<div>\n",
              "<style scoped>\n",
              "    .dataframe tbody tr th:only-of-type {\n",
              "        vertical-align: middle;\n",
              "    }\n",
              "\n",
              "    .dataframe tbody tr th {\n",
              "        vertical-align: top;\n",
              "    }\n",
              "\n",
              "    .dataframe thead th {\n",
              "        text-align: right;\n",
              "    }\n",
              "</style>\n",
              "<table border=\"1\" class=\"dataframe\">\n",
              "  <thead>\n",
              "    <tr style=\"text-align: right;\">\n",
              "      <th></th>\n",
              "      <th>A1</th>\n",
              "      <th>A2</th>\n",
              "      <th>A3</th>\n",
              "      <th>A4</th>\n",
              "      <th>A5</th>\n",
              "      <th>A6</th>\n",
              "      <th>A7</th>\n",
              "      <th>A8</th>\n",
              "      <th>A9</th>\n",
              "      <th>A10</th>\n",
              "      <th>A11</th>\n",
              "      <th>A12</th>\n",
              "      <th>A13</th>\n",
              "      <th>A14</th>\n",
              "      <th>A15</th>\n",
              "      <th>A16</th>\n",
              "    </tr>\n",
              "  </thead>\n",
              "  <tbody>\n",
              "    <tr>\n",
              "      <th>0</th>\n",
              "      <td>b</td>\n",
              "      <td>30.83</td>\n",
              "      <td>0.000</td>\n",
              "      <td>u</td>\n",
              "      <td>g</td>\n",
              "      <td>w</td>\n",
              "      <td>v</td>\n",
              "      <td>1.25</td>\n",
              "      <td>t</td>\n",
              "      <td>t</td>\n",
              "      <td>1</td>\n",
              "      <td>f</td>\n",
              "      <td>g</td>\n",
              "      <td>00202</td>\n",
              "      <td>0</td>\n",
              "      <td>+</td>\n",
              "    </tr>\n",
              "    <tr>\n",
              "      <th>1</th>\n",
              "      <td>a</td>\n",
              "      <td>58.67</td>\n",
              "      <td>4.460</td>\n",
              "      <td>u</td>\n",
              "      <td>g</td>\n",
              "      <td>q</td>\n",
              "      <td>h</td>\n",
              "      <td>3.04</td>\n",
              "      <td>t</td>\n",
              "      <td>t</td>\n",
              "      <td>6</td>\n",
              "      <td>f</td>\n",
              "      <td>g</td>\n",
              "      <td>00043</td>\n",
              "      <td>560</td>\n",
              "      <td>+</td>\n",
              "    </tr>\n",
              "    <tr>\n",
              "      <th>2</th>\n",
              "      <td>a</td>\n",
              "      <td>24.50</td>\n",
              "      <td>0.500</td>\n",
              "      <td>u</td>\n",
              "      <td>g</td>\n",
              "      <td>q</td>\n",
              "      <td>h</td>\n",
              "      <td>1.50</td>\n",
              "      <td>t</td>\n",
              "      <td>f</td>\n",
              "      <td>0</td>\n",
              "      <td>f</td>\n",
              "      <td>g</td>\n",
              "      <td>00280</td>\n",
              "      <td>824</td>\n",
              "      <td>+</td>\n",
              "    </tr>\n",
              "    <tr>\n",
              "      <th>3</th>\n",
              "      <td>b</td>\n",
              "      <td>27.83</td>\n",
              "      <td>1.540</td>\n",
              "      <td>u</td>\n",
              "      <td>g</td>\n",
              "      <td>w</td>\n",
              "      <td>v</td>\n",
              "      <td>3.75</td>\n",
              "      <td>t</td>\n",
              "      <td>t</td>\n",
              "      <td>5</td>\n",
              "      <td>t</td>\n",
              "      <td>g</td>\n",
              "      <td>00100</td>\n",
              "      <td>3</td>\n",
              "      <td>+</td>\n",
              "    </tr>\n",
              "    <tr>\n",
              "      <th>4</th>\n",
              "      <td>b</td>\n",
              "      <td>20.17</td>\n",
              "      <td>5.625</td>\n",
              "      <td>u</td>\n",
              "      <td>g</td>\n",
              "      <td>w</td>\n",
              "      <td>v</td>\n",
              "      <td>1.71</td>\n",
              "      <td>t</td>\n",
              "      <td>f</td>\n",
              "      <td>0</td>\n",
              "      <td>f</td>\n",
              "      <td>s</td>\n",
              "      <td>00120</td>\n",
              "      <td>0</td>\n",
              "      <td>+</td>\n",
              "    </tr>\n",
              "    <tr>\n",
              "      <th>...</th>\n",
              "      <td>...</td>\n",
              "      <td>...</td>\n",
              "      <td>...</td>\n",
              "      <td>...</td>\n",
              "      <td>...</td>\n",
              "      <td>...</td>\n",
              "      <td>...</td>\n",
              "      <td>...</td>\n",
              "      <td>...</td>\n",
              "      <td>...</td>\n",
              "      <td>...</td>\n",
              "      <td>...</td>\n",
              "      <td>...</td>\n",
              "      <td>...</td>\n",
              "      <td>...</td>\n",
              "      <td>...</td>\n",
              "    </tr>\n",
              "    <tr>\n",
              "      <th>685</th>\n",
              "      <td>b</td>\n",
              "      <td>21.08</td>\n",
              "      <td>10.085</td>\n",
              "      <td>y</td>\n",
              "      <td>p</td>\n",
              "      <td>e</td>\n",
              "      <td>h</td>\n",
              "      <td>1.25</td>\n",
              "      <td>f</td>\n",
              "      <td>f</td>\n",
              "      <td>0</td>\n",
              "      <td>f</td>\n",
              "      <td>g</td>\n",
              "      <td>00260</td>\n",
              "      <td>0</td>\n",
              "      <td>-</td>\n",
              "    </tr>\n",
              "    <tr>\n",
              "      <th>686</th>\n",
              "      <td>a</td>\n",
              "      <td>22.67</td>\n",
              "      <td>0.750</td>\n",
              "      <td>u</td>\n",
              "      <td>g</td>\n",
              "      <td>c</td>\n",
              "      <td>v</td>\n",
              "      <td>2.00</td>\n",
              "      <td>f</td>\n",
              "      <td>t</td>\n",
              "      <td>2</td>\n",
              "      <td>t</td>\n",
              "      <td>g</td>\n",
              "      <td>00200</td>\n",
              "      <td>394</td>\n",
              "      <td>-</td>\n",
              "    </tr>\n",
              "    <tr>\n",
              "      <th>687</th>\n",
              "      <td>a</td>\n",
              "      <td>25.25</td>\n",
              "      <td>13.500</td>\n",
              "      <td>y</td>\n",
              "      <td>p</td>\n",
              "      <td>ff</td>\n",
              "      <td>ff</td>\n",
              "      <td>2.00</td>\n",
              "      <td>f</td>\n",
              "      <td>t</td>\n",
              "      <td>1</td>\n",
              "      <td>t</td>\n",
              "      <td>g</td>\n",
              "      <td>00200</td>\n",
              "      <td>1</td>\n",
              "      <td>-</td>\n",
              "    </tr>\n",
              "    <tr>\n",
              "      <th>688</th>\n",
              "      <td>b</td>\n",
              "      <td>17.92</td>\n",
              "      <td>0.205</td>\n",
              "      <td>u</td>\n",
              "      <td>g</td>\n",
              "      <td>aa</td>\n",
              "      <td>v</td>\n",
              "      <td>0.04</td>\n",
              "      <td>f</td>\n",
              "      <td>f</td>\n",
              "      <td>0</td>\n",
              "      <td>f</td>\n",
              "      <td>g</td>\n",
              "      <td>00280</td>\n",
              "      <td>750</td>\n",
              "      <td>-</td>\n",
              "    </tr>\n",
              "    <tr>\n",
              "      <th>689</th>\n",
              "      <td>b</td>\n",
              "      <td>35.00</td>\n",
              "      <td>3.375</td>\n",
              "      <td>u</td>\n",
              "      <td>g</td>\n",
              "      <td>c</td>\n",
              "      <td>h</td>\n",
              "      <td>8.29</td>\n",
              "      <td>f</td>\n",
              "      <td>f</td>\n",
              "      <td>0</td>\n",
              "      <td>t</td>\n",
              "      <td>g</td>\n",
              "      <td>00000</td>\n",
              "      <td>0</td>\n",
              "      <td>-</td>\n",
              "    </tr>\n",
              "  </tbody>\n",
              "</table>\n",
              "<p>690 rows × 16 columns</p>\n",
              "</div>"
            ],
            "text/plain": [
              "    A1     A2      A3 A4 A5  A6  A7    A8 A9 A10  A11 A12 A13    A14  A15 A16\n",
              "0    b  30.83   0.000  u  g   w   v  1.25  t   t    1   f   g  00202    0   +\n",
              "1    a  58.67   4.460  u  g   q   h  3.04  t   t    6   f   g  00043  560   +\n",
              "2    a  24.50   0.500  u  g   q   h  1.50  t   f    0   f   g  00280  824   +\n",
              "3    b  27.83   1.540  u  g   w   v  3.75  t   t    5   t   g  00100    3   +\n",
              "4    b  20.17   5.625  u  g   w   v  1.71  t   f    0   f   s  00120    0   +\n",
              "..  ..    ...     ... .. ..  ..  ..   ... ..  ..  ...  ..  ..    ...  ...  ..\n",
              "685  b  21.08  10.085  y  p   e   h  1.25  f   f    0   f   g  00260    0   -\n",
              "686  a  22.67   0.750  u  g   c   v  2.00  f   t    2   t   g  00200  394   -\n",
              "687  a  25.25  13.500  y  p  ff  ff  2.00  f   t    1   t   g  00200    1   -\n",
              "688  b  17.92   0.205  u  g  aa   v  0.04  f   f    0   f   g  00280  750   -\n",
              "689  b  35.00   3.375  u  g   c   h  8.29  f   f    0   t   g  00000    0   -\n",
              "\n",
              "[690 rows x 16 columns]"
            ]
          },
          "metadata": {
            "tags": []
          },
          "execution_count": 2
        }
      ]
    },
    {
      "cell_type": "markdown",
      "metadata": {
        "id": "qJ8B3a1RN8X_"
      },
      "source": [
        "# Identifying Null Values "
      ]
    },
    {
      "cell_type": "code",
      "metadata": {
        "id": "V9Mh3MdQFt7E",
        "outputId": "50623692-49f2-4471-9c97-77ce715a8ae1",
        "colab": {
          "base_uri": "https://localhost:8080/"
        }
      },
      "source": [
        "for col in df.columns:\n",
        "    print(col, end=' ')\n",
        "    print(dict(df[col].value_counts()))"
      ],
      "execution_count": 3,
      "outputs": [
        {
          "output_type": "stream",
          "text": [
            "A1 {'b': 468, 'a': 210, '?': 12}\n",
            "A2 {'?': 12, '22.67': 9, '20.42': 7, '19.17': 6, '20.67': 6, '23.58': 6, '24.50': 6, '25.00': 6, '22.50': 6, '18.83': 6, '33.17': 5, '23.25': 5, '23.00': 5, '27.83': 5, '27.67': 5, '23.08': 5, '41.17': 4, '32.33': 4, '24.58': 4, '24.75': 4, '23.50': 4, '34.17': 4, '27.25': 4, '22.08': 4, '29.50': 4, '20.00': 4, '26.67': 4, '28.58': 4, '20.75': 4, '35.17': 4, '25.17': 4, '26.17': 4, '22.92': 4, '25.67': 4, '28.25': 3, '25.25': 3, '29.83': 3, '33.58': 3, '17.08': 3, '23.75': 3, '20.17': 3, '28.17': 3, '23.42': 3, '22.17': 3, '18.08': 3, '23.92': 3, '19.50': 3, '21.08': 3, '20.08': 3, '19.67': 3, '29.58': 3, '40.58': 3, '21.17': 3, '39.92': 3, '22.75': 3, '39.17': 3, '24.08': 3, '34.08': 3, '34.83': 3, '28.67': 3, '36.67': 3, '26.75': 3, '23.17': 3, '40.92': 3, '21.83': 3, '37.50': 3, '34.00': 3, '30.17': 3, '20.83': 3, '21.92': 3, '25.75': 3, '36.17': 3, '22.25': 3, '18.58': 3, '19.42': 3, '33.67': 3, '21.50': 3, '19.58': 3, '22.58': 3, '17.92': 3, '37.33': 3, '20.50': 3, '16.33': 3, '27.58': 3, '48.17': 3, '36.75': 3, '28.75': 3, '18.17': 3, '31.25': 3, '32.25': 3, '23.33': 2, '48.75': 2, '47.67': 2, '51.83': 2, '37.75': 2, '38.25': 2, '19.00': 2, '41.00': 2, '34.92': 2, '16.00': 2, '39.50': 2, '33.25': 2, '41.33': 2, '25.42': 2, '36.33': 2, '21.75': 2, '17.58': 2, '42.00': 2, '32.67': 2, '30.67': 2, '21.25': 2, '34.42': 2, '32.75': 2, '48.58': 2, '25.08': 2, '40.83': 2, '28.92': 2, '35.75': 2, '22.00': 2, '32.00': 2, '24.83': 2, '29.42': 2, '29.25': 2, '30.58': 2, '24.42': 2, '17.67': 2, '15.83': 2, '16.92': 2, '42.75': 2, '41.58': 2, '39.58': 2, '33.75': 2, '28.50': 2, '38.58': 2, '27.42': 2, '28.00': 2, '21.67': 2, '18.25': 2, '32.42': 2, '26.92': 2, '18.92': 2, '31.92': 2, '27.00': 2, '44.33': 2, '16.08': 2, '43.25': 2, '43.17': 2, '45.00': 2, '22.42': 2, '38.92': 2, '31.08': 2, '57.08': 2, '21.00': 2, '25.58': 2, '42.83': 2, '64.08': 2, '22.83': 2, '18.42': 2, '32.08': 2, '16.50': 2, '16.25': 2, '31.67': 2, '35.25': 2, '31.83': 2, '25.33': 2, '39.08': 2, '21.33': 2, '29.67': 2, '44.25': 2, '33.08': 2, '48.08': 2, '34.25': 2, '47.42': 2, '35.00': 2, '24.33': 2, '40.33': 2, '19.33': 2, '34.75': 2, '27.75': 2, '52.50': 2, '18.50': 1, '60.58': 1, '69.17': 1, '24.92': 1, '20.25': 1, '21.58': 1, '28.08': 1, '49.17': 1, '15.75': 1, '49.58': 1, '58.58': 1, '59.67': 1, '44.00': 1, '37.17': 1, '50.25': 1, '34.67': 1, '26.83': 1, '30.08': 1, '47.75': 1, '56.42': 1, '56.83': 1, '47.17': 1, '56.75': 1, '31.42': 1, '51.92': 1, '63.33': 1, '60.92': 1, '29.17': 1, '34.50': 1, '36.58': 1, '41.50': 1, '17.33': 1, '59.50': 1, '53.92': 1, '18.33': 1, '17.83': 1, '30.00': 1, '69.50': 1, '76.75': 1, '26.08': 1, '40.00': 1, '30.75': 1, '41.75': 1, '32.92': 1, '18.75': 1, '71.58': 1, '42.25': 1, '33.00': 1, '33.92': 1, '46.08': 1, '39.33': 1, '36.42': 1, '30.33': 1, '36.00': 1, '67.75': 1, '37.42': 1, '51.42': 1, '28.42': 1, '56.00': 1, '40.25': 1, '62.50': 1, '38.33': 1, '58.67': 1, '47.25': 1, '74.83': 1, '26.33': 1, '44.83': 1, '39.25': 1, '38.42': 1, '36.25': 1, '32.17': 1, '26.58': 1, '45.33': 1, '18.00': 1, '34.58': 1, '55.75': 1, '53.33': 1, '48.50': 1, '17.50': 1, '56.50': 1, '54.42': 1, '19.75': 1, '57.42': 1, '39.00': 1, '15.17': 1, '21.42': 1, '47.83': 1, '31.00': 1, '25.92': 1, '52.17': 1, '42.50': 1, '51.33': 1, '31.58': 1, '38.17': 1, '50.08': 1, '41.42': 1, '17.42': 1, '27.33': 1, '37.58': 1, '31.75': 1, '47.33': 1, '49.50': 1, '20.33': 1, '32.83': 1, '25.50': 1, '38.67': 1, '38.75': 1, '49.83': 1, '52.33': 1, '68.67': 1, '42.17': 1, '48.33': 1, '15.92': 1, '27.17': 1, '56.58': 1, '65.42': 1, '51.58': 1, '60.08': 1, '54.33': 1, '22.33': 1, '50.75': 1, '39.42': 1, '26.25': 1, '80.25': 1, '16.17': 1, '44.17': 1, '30.83': 1, '35.42': 1, '58.42': 1, '30.50': 1, '26.50': 1, '33.50': 1, '73.42': 1, '36.50': 1, '35.58': 1, '52.42': 1, '36.08': 1, '39.83': 1, '52.83': 1, '57.58': 1, '30.42': 1, '29.75': 1, '26.00': 1, '54.58': 1, '43.08': 1, '62.75': 1, '46.67': 1, '17.25': 1, '46.00': 1, '54.83': 1, '18.67': 1, '58.33': 1, '13.75': 1, '28.33': 1, '48.25': 1, '65.17': 1, '41.92': 1, '24.17': 1, '55.92': 1, '30.25': 1, '57.83': 1, '42.08': 1, '25.83': 1, '43.00': 1, '29.92': 1, '45.83': 1, '45.17': 1, '47.00': 1, '31.33': 1, '49.00': 1}\n",
            "A3 {1.5: 21, 0.0: 19, 3.0: 19, 2.5: 19, 1.25: 16, 0.75: 16, 0.5: 15, 5.0: 14, 4.0: 12, 1.75: 12, 6.5: 12, 2.0: 10, 10.0: 10, 1.0: 10, 0.585: 10, 0.375: 9, 11.0: 9, 3.5: 8, 0.54: 8, 7.0: 8, 12.5: 8, 0.835: 8, 0.165: 8, 11.5: 8, 5.5: 8, 9.0: 7, 2.75: 7, 4.25: 6, 15.0: 6, 1.54: 6, 6.0: 6, 0.335: 6, 0.875: 6, 0.29: 6, 0.25: 6, 1.04: 6, 2.04: 6, 4.5: 5, 10.5: 5, 12.0: 5, 0.125: 5, 8.5: 5, 9.5: 5, 0.04: 5, 3.75: 5, 2.25: 5, 2.54: 4, 1.125: 4, 1.835: 4, 0.415: 4, 0.46: 4, 0.79: 4, 1.665: 4, 0.665: 4, 3.165: 4, 7.5: 4, 2.71: 4, 1.585: 4, 3.25: 3, 4.46: 3, 4.415: 3, 1.335: 3, 0.205: 3, 14.5: 3, 1.085: 3, 2.335: 3, 9.25: 3, 13.0: 3, 2.415: 3, 1.625: 3, 13.5: 3, 11.25: 3, 0.625: 3, 1.71: 3, 0.83: 3, 0.21: 3, 8.0: 2, 5.085: 2, 0.42: 2, 5.875: 2, 14.0: 2, 2.165: 2, 7.625: 2, 2.875: 2, 3.125: 2, 10.125: 2, 10.25: 2, 5.125: 2, 1.165: 2, 4.625: 2, 19.5: 2, 11.75: 2, 6.75: 2, 19.0: 2, 12.75: 2, 15.5: 2, 1.375: 2, 16.5: 2, 9.54: 2, 2.29: 2, 5.29: 2, 2.085: 2, 5.04: 2, 3.29: 2, 4.085: 2, 3.54: 2, 0.58: 2, 3.04: 2, 4.04: 2, 6.21: 1, 4.71: 1, 12.54: 1, 16.165: 1, 4.79: 1, 1.21: 1, 9.75: 1, 6.04: 1, 25.085: 1, 0.17: 1, 2.46: 1, 4.165: 1, 13.665: 1, 14.79: 1, 12.25: 1, 0.67: 1, 8.585: 1, 6.665: 1, 11.585: 1, 11.665: 1, 2.835: 1, 26.335: 1, 25.21: 1, 9.96: 1, 11.045: 1, 5.625: 1, 9.335: 1, 3.085: 1, 22.29: 1, 11.46: 1, 0.705: 1, 7.04: 1, 9.415: 1, 13.335: 1, 1.46: 1, 4.585: 1, 10.335: 1, 9.585: 1, 18.5: 1, 10.415: 1, 5.665: 1, 10.75: 1, 10.085: 1, 8.665: 1, 8.17: 1, 28.0: 1, 7.08: 1, 1.79: 1, 11.625: 1, 5.835: 1, 18.125: 1, 0.08: 1, 4.125: 1, 17.75: 1, 20.0: 1, 5.25: 1, 4.75: 1, 6.165: 1, 10.29: 1, 3.625: 1, 7.25: 1, 3.375: 1, 3.79: 1, 10.21: 1, 0.085: 1, 7.835: 1, 5.71: 1, 10.665: 1, 1.08: 1, 2.21: 1, 0.915: 1, 10.04: 1, 3.335: 1, 1.29: 1, 7.54: 1, 7.585: 1, 0.96: 1, 8.125: 1, 12.33: 1, 9.17: 1, 6.625: 1, 16.0: 1, 25.125: 1, 13.585: 1, 9.79: 1, 1.415: 1, 8.46: 1, 0.71: 1, 14.585: 1, 5.415: 1, 11.835: 1, 2.125: 1, 9.625: 1, 4.915: 1, 13.75: 1, 21.0: 1, 12.335: 1, 21.5: 1, 11.125: 1, 12.625: 1, 2.665: 1, 12.125: 1, 13.915: 1, 22.0: 1, 12.835: 1, 10.915: 1}\n",
            "A4 {'u': 519, 'y': 163, '?': 6, 'l': 2}\n",
            "A5 {'g': 519, 'p': 163, '?': 6, 'gg': 2}\n",
            "A6 {'c': 137, 'q': 78, 'w': 64, 'i': 59, 'aa': 54, 'ff': 53, 'k': 51, 'cc': 41, 'm': 38, 'x': 38, 'd': 30, 'e': 25, 'j': 10, '?': 9, 'r': 3}\n",
            "A7 {'v': 399, 'h': 138, 'bb': 59, 'ff': 57, '?': 9, 'j': 8, 'z': 8, 'dd': 6, 'n': 4, 'o': 2}\n",
            "A8 {0.0: 70, 0.25: 35, 0.04: 33, 1.0: 31, 0.125: 30, 0.5: 28, 0.085: 26, 1.5: 25, 0.165: 22, 2.5: 17, 2.0: 16, 1.75: 15, 5.0: 13, 3.5: 12, 0.29: 12, 0.75: 12, 3.0: 11, 2.25: 10, 1.25: 10, 0.415: 8, 4.0: 8, 5.5: 7, 0.375: 7, 0.665: 6, 1.085: 6, 0.54: 6, 4.5: 6, 6.5: 6, 0.21: 6, 0.585: 6, 1.585: 5, 0.335: 5, 0.835: 5, 8.5: 5, 10.0: 5, 0.875: 5, 1.625: 5, 7.0: 5, 5.75: 4, 4.25: 4, 1.165: 4, 15.0: 3, 3.25: 3, 7.5: 3, 14.0: 3, 1.415: 3, 2.29: 3, 3.75: 3, 6.0: 3, 2.75: 3, 1.29: 3, 3.085: 3, 1.665: 3, 20.0: 2, 0.625: 2, 1.21: 2, 4.75: 2, 13.875: 2, 5.25: 2, 1.835: 2, 0.96: 2, 2.625: 2, 2.085: 2, 11.0: 2, 8.0: 2, 2.375: 2, 2.585: 2, 12.75: 2, 3.165: 2, 1.375: 2, 2.415: 2, 5.085: 2, 1.335: 2, 12.5: 2, 1.46: 2, 3.04: 2, 11.5: 1, 13.5: 1, 7.875: 1, 14.415: 1, 10.75: 1, 13.0: 1, 7.375: 1, 28.5: 1, 8.625: 1, 0.79: 1, 9.46: 1, 0.46: 1, 7.415: 1, 1.71: 1, 1.54: 1, 2.54: 1, 6.04: 1, 7.585: 1, 8.665: 1, 5.335: 1, 6.29: 1, 0.455: 1, 9.0: 1, 2.71: 1, 5.04: 1, 2.165: 1, 2.79: 1, 5.665: 1, 3.17: 1, 4.58: 1, 8.29: 1, 4.29: 1, 0.795: 1, 2.335: 1, 0.71: 1, 7.96: 1, 5.125: 1, 15.5: 1, 18.0: 1, 4.625: 1, 6.75: 1, 1.875: 1, 16.0: 1, 3.335: 1, 2.46: 1, 2.125: 1, 17.5: 1, 3.125: 1, 4.335: 1, 5.165: 1, 1.96: 1, 3.96: 1, 2.04: 1, 1.04: 1, 4.165: 1, 5.375: 1}\n",
            "A9 {'t': 361, 'f': 329}\n",
            "A10 {'f': 395, 't': 295}\n",
            "A11 {0: 395, 1: 71, 2: 45, 3: 28, 6: 23, 11: 19, 5: 18, 7: 16, 4: 15, 8: 10, 9: 10, 14: 8, 12: 8, 10: 8, 15: 4, 16: 3, 17: 2, 20: 2, 40: 1, 13: 1, 19: 1, 23: 1, 67: 1}\n",
            "A12 {'f': 374, 't': 316}\n",
            "A13 {'g': 625, 's': 57, 'p': 8}\n",
            "A14 {'00000': 132, '00200': 35, '00120': 35, '00160': 34, '00080': 30, '00100': 30, '00280': 22, '00180': 18, '00140': 16, '00240': 14, '00320': 14, '?': 13, '00300': 13, '00260': 11, '00220': 9, '00060': 9, '00400': 9, '00340': 7, '00360': 7, '00380': 5, '00420': 4, '00144': 4, '00040': 4, '00440': 4, '00070': 4, '00520': 4, '00132': 4, '00232': 4, '00108': 4, '00096': 3, '00150': 3, '00272': 3, '00164': 3, '00176': 3, '00290': 3, '00480': 3, '00216': 3, '00460': 3, '00128': 3, '00181': 3, '00252': 2, '00168': 2, '00112': 2, '00092': 2, '00210': 2, '00720': 2, '00154': 2, '00088': 2, '00560': 2, '00110': 2, '00130': 2, '00228': 2, '00073': 2, '00399': 2, '00350': 2, '00136': 2, '00370': 2, '00020': 2, '00396': 2, '00225': 2, '00352': 2, '00145': 2, '00500': 2, '00312': 2, '00050': 2, '00129': 2, '00330': 2, '00288': 1, '00028': 1, '00640': 1, '00230': 1, '00465': 1, '00043': 1, '00170': 1, '00309': 1, '00174': 1, '00491': 1, '00062': 1, '00239': 1, '00256': 1, '00268': 1, '00094': 1, '00369': 1, '00167': 1, '00075': 1, '00470': 1, '00980': 1, '00254': 1, '00487': 1, '00333': 1, '00212': 1, '00311': 1, '00186': 1, '00432': 1, '00099': 1, '00371': 1, '00455': 1, '00021': 1, '00017': 1, '00680': 1, '00416': 1, '00211': 1, '00250': 1, '00443': 1, '00422': 1, '00024': 1, '02000': 1, '00711': 1, '00030': 1, '00045': 1, '00383': 1, '00434': 1, '00231': 1, '00510': 1, '00431': 1, '00052': 1, '00450': 1, '00117': 1, '00152': 1, '00171': 1, '00381': 1, '00840': 1, '00368': 1, '00454': 1, '00224': 1, '00263': 1, '00411': 1, '00188': 1, '00163': 1, '00056': 1, '00760': 1, '00550': 1, '00049': 1, '00156': 1, '00519': 1, '00274': 1, '00292': 1, '00086': 1, '00329': 1, '00195': 1, '00583': 1, '00303': 1, '00076': 1, '00348': 1, '00204': 1, '01160': 1, '00276': 1, '00208': 1, '00356': 1, '00178': 1, '00349': 1, '00395': 1, '00372': 1, '00410': 1, '00393': 1, '00523': 1, '00022': 1, '00600': 1, '00102': 1, '00032': 1, '00202': 1, '00375': 1, '00928': 1, '00029': 1, '00515': 1, '00221': 1, '00408': 1, '00093': 1, '00121': 1, '00253': 1, '00141': 1}\n",
            "A15 {0: 295, 1: 29, 1000: 10, 500: 10, 2: 9, 5: 8, 300: 8, 6: 8, 3: 6, 200: 6, 100: 6, 4: 5, 50: 5, 150: 4, 7: 4, 10: 4, 3000: 4, 20: 4, 400: 3, 560: 3, 18: 3, 600: 3, 2000: 3, 5000: 3, 4000: 3, 108: 2, 17: 2, 44: 2, 204: 2, 8: 2, 1210: 2, 67: 2, 284: 2, 68: 2, 350: 2, 351: 2, 1200: 2, 13: 2, 375: 2, 40: 2, 16: 2, 35: 2, 27: 2, 19: 2, 15: 2, 21: 2, 456: 2, 11: 2, 809: 2, 3065: 2, 99: 2, 28: 2, 444: 2, 540: 2, 158: 1, 154: 1, 147: 1, 2200: 1, 146: 1, 160: 1, 162: 1, 2197: 1, 1187: 1, 9: 1, 1208: 1, 168: 1, 210: 1, 234: 1, 2279: 1, 228: 1, 225: 1, 221: 1, 3290: 1, 1236: 1, 196: 1, 173: 1, 195: 1, 13212: 1, 1212: 1, 3257: 1, 140: 1, 179: 1, 5298: 1, 141: 1, 41: 1, 2184: 1, 134: 1, 1704: 1, 60: 1, 59: 1, 58: 1, 55: 1, 53: 1, 2100: 1, 14: 1, 42: 1, 1065: 1, 38: 1, 1058: 1, 33: 1, 32: 1, 2079: 1, 25: 1, 2072: 1, 23: 1, 22: 1, 4159: 1, 70: 1, 1097: 1, 4208: 1, 130: 1, 2206: 1, 126: 1, 122: 1, 120: 1, 117: 1, 12: 1, 113: 1, 109: 1, 5200: 1, 105: 1, 26726: 1, 1260: 1, 98: 1, 90: 1, 87: 1, 1110: 1, 246: 1, 2283: 1, 112: 1, 237: 1, 690: 1, 15108: 1, 769: 1, 768: 1, 2803: 1, 750: 1, 742: 1, 5860: 1, 80: 1, 730: 1, 722: 1, 713: 1, 687: 1, 10000: 1, 2732: 1, 5800: 1, 678: 1, 5124: 1, 100000: 1, 15000: 1, 8851: 1, 5777: 1, 184: 1, 2690: 1, 639: 1, 1004: 1, 790: 1, 245: 1, 51100: 1, 2028: 1, 4071: 1, 990: 1, 1062: 1, 2010: 1, 1400: 1, 11202: 1, 960: 1, 948: 1, 11177: 1, 1950: 1, 918: 1, 800: 1, 7059: 1, 2954: 1, 321: 1, 892: 1, 1249: 1, 857: 1, 50000: 1, 837: 1, 8000: 1, 827: 1, 824: 1, 1655: 1, 18027: 1, 610: 1, 1344: 1, 394: 1, 390: 1, 7544: 1, 367: 1, 364: 1, 347: 1, 340: 1, 2384: 1, 327: 1, 1349: 1, 10561: 1, 316: 1, 4700: 1, 314: 1, 1332: 1, 3376: 1, 286: 1, 278: 1, 1300: 1, 258: 1, 2300: 1, 251: 1, 247: 1, 1270: 1, 396: 1, 4500: 1, 1430: 1, 1442: 1, 591: 1, 587: 1, 9800: 1, 582: 1, 1391: 1, 1602: 1, 567: 1, 31285: 1, 1583: 1, 6700: 1, 551: 1, 537: 1, 4607: 1, 501: 1, 484: 1, 3552: 1, 475: 1, 2510: 1, 458: 1, 2503: 1, 6590: 1, 1465: 1, 5552: 1, 283: 1}\n",
            "A16 {'-': 383, '+': 307}\n"
          ],
          "name": "stdout"
        }
      ]
    },
    {
      "cell_type": "markdown",
      "metadata": {
        "id": "1siWuT9ROAeD"
      },
      "source": [
        "# Replacing Null Values"
      ]
    },
    {
      "cell_type": "code",
      "metadata": {
        "id": "fLdEkz7WLS8B"
      },
      "source": [
        "df['A1'] = df['A1'].replace({'?': None})\n",
        "df['A2'] = df['A2'].replace({'?': None})\n",
        "df['A4'] = df['A4'].replace({'?': None})\n",
        "df['A5'] = df['A5'].replace({'?': None})\n",
        "df['A6'] = df['A6'].replace({'?': None})\n",
        "df['A7'] = df['A7'].replace({'?': None})\n",
        "df['A14'] = df['A14'].replace({'?': None})"
      ],
      "execution_count": 4,
      "outputs": []
    },
    {
      "cell_type": "code",
      "metadata": {
        "id": "RLAD7eIJLod9",
        "outputId": "b877ca57-b3a6-4d92-ac36-1ace55e38829",
        "colab": {
          "base_uri": "https://localhost:8080/"
        }
      },
      "source": [
        "df.isna().sum()"
      ],
      "execution_count": 5,
      "outputs": [
        {
          "output_type": "execute_result",
          "data": {
            "text/plain": [
              "A1     12\n",
              "A2     12\n",
              "A3      0\n",
              "A4      6\n",
              "A5      6\n",
              "A6      9\n",
              "A7      9\n",
              "A8      0\n",
              "A9      0\n",
              "A10     0\n",
              "A11     0\n",
              "A12     0\n",
              "A13     0\n",
              "A14    13\n",
              "A15     0\n",
              "A16     0\n",
              "dtype: int64"
            ]
          },
          "metadata": {
            "tags": []
          },
          "execution_count": 5
        }
      ]
    },
    {
      "cell_type": "code",
      "metadata": {
        "id": "X0Anm0KzNCJh",
        "outputId": "b52031cd-5dc9-43fd-e42d-bfc590f290d4",
        "colab": {
          "base_uri": "https://localhost:8080/"
        }
      },
      "source": [
        "dict(df['A1'].value_counts())"
      ],
      "execution_count": 6,
      "outputs": [
        {
          "output_type": "execute_result",
          "data": {
            "text/plain": [
              "{'a': 210, 'b': 468}"
            ]
          },
          "metadata": {
            "tags": []
          },
          "execution_count": 6
        }
      ]
    },
    {
      "cell_type": "markdown",
      "metadata": {
        "id": "Slt9VWU-Ykxa"
      },
      "source": [
        "# Null Value Treatment"
      ]
    },
    {
      "cell_type": "code",
      "metadata": {
        "id": "K3T-MlWRNdIR",
        "outputId": "4f8c0393-ff7d-407e-9d62-dd30bf24fa06",
        "colab": {
          "base_uri": "https://localhost:8080/"
        }
      },
      "source": [
        "df_nt = df.dropna()\n",
        "df_nt.shape"
      ],
      "execution_count": 7,
      "outputs": [
        {
          "output_type": "execute_result",
          "data": {
            "text/plain": [
              "(653, 16)"
            ]
          },
          "metadata": {
            "tags": []
          },
          "execution_count": 7
        }
      ]
    },
    {
      "cell_type": "markdown",
      "metadata": {
        "id": "4bi7-Q8ATTpn"
      },
      "source": [
        "# Preparing and Analysing dataset for prediction"
      ]
    },
    {
      "cell_type": "code",
      "metadata": {
        "id": "qlFzaqu1NvnS",
        "outputId": "f54bf873-3a34-48af-9350-1151c8bf58a0",
        "colab": {
          "base_uri": "https://localhost:8080/"
        }
      },
      "source": [
        "    df_nt['A16'] = df_nt['A16'].replace({'-': 0, '+': 1})"
      ],
      "execution_count": 8,
      "outputs": [
        {
          "output_type": "stream",
          "text": [
            "/usr/local/lib/python3.6/dist-packages/ipykernel_launcher.py:1: SettingWithCopyWarning: \n",
            "A value is trying to be set on a copy of a slice from a DataFrame.\n",
            "Try using .loc[row_indexer,col_indexer] = value instead\n",
            "\n",
            "See the caveats in the documentation: https://pandas.pydata.org/pandas-docs/stable/user_guide/indexing.html#returning-a-view-versus-a-copy\n",
            "  \"\"\"Entry point for launching an IPython kernel.\n"
          ],
          "name": "stderr"
        }
      ]
    },
    {
      "cell_type": "code",
      "metadata": {
        "id": "hCQJgTmVdOaJ",
        "outputId": "6af8cd86-27fd-482d-8ed0-6457f76a24ad",
        "colab": {
          "base_uri": "https://localhost:8080/",
          "height": 286
        }
      },
      "source": [
        "df_nt_corr = df_nt.corr()\n",
        "sns.heatmap(df_nt_corr, annot=True)"
      ],
      "execution_count": 9,
      "outputs": [
        {
          "output_type": "execute_result",
          "data": {
            "text/plain": [
              "<matplotlib.axes._subplots.AxesSubplot at 0x7f6cf232deb8>"
            ]
          },
          "metadata": {
            "tags": []
          },
          "execution_count": 9
        },
        {
          "output_type": "display_data",
          "data": {
            "image/png": "[encoded data removed]",
            "text/plain": [
              "<Figure size 432x288 with 2 Axes>"
            ]
          },
          "metadata": {
            "tags": [],
            "needs_background": "light"
          }
        }
      ]
    },
    {
      "cell_type": "code",
      "metadata": {
        "id": "UEA-zoQgThcn",
        "outputId": "2ad31b20-21ac-451c-e319-7ade0ff295f6",
        "colab": {
          "base_uri": "https://localhost:8080/"
        }
      },
      "source": [
        "df_nt['A2'] = df_nt['A2'].astype(float)"
      ],
      "execution_count": 10,
      "outputs": [
        {
          "output_type": "stream",
          "text": [
            "/usr/local/lib/python3.6/dist-packages/ipykernel_launcher.py:1: SettingWithCopyWarning: \n",
            "A value is trying to be set on a copy of a slice from a DataFrame.\n",
            "Try using .loc[row_indexer,col_indexer] = value instead\n",
            "\n",
            "See the caveats in the documentation: https://pandas.pydata.org/pandas-docs/stable/user_guide/indexing.html#returning-a-view-versus-a-copy\n",
            "  \"\"\"Entry point for launching an IPython kernel.\n"
          ],
          "name": "stderr"
        }
      ]
    },
    {
      "cell_type": "code",
      "metadata": {
        "id": "TVFH_O_MWaNW",
        "outputId": "d40fff9e-4501-4e97-93fd-4125c4ac0bbc",
        "colab": {
          "base_uri": "https://localhost:8080/"
        }
      },
      "source": [
        "df_nt['A2'].describe()\n",
        "df_nt.dtypes"
      ],
      "execution_count": 11,
      "outputs": [
        {
          "output_type": "execute_result",
          "data": {
            "text/plain": [
              "A1      object\n",
              "A2     float64\n",
              "A3     float64\n",
              "A4      object\n",
              "A5      object\n",
              "A6      object\n",
              "A7      object\n",
              "A8     float64\n",
              "A9      object\n",
              "A10     object\n",
              "A11      int64\n",
              "A12     object\n",
              "A13     object\n",
              "A14     object\n",
              "A15      int64\n",
              "A16      int64\n",
              "dtype: object"
            ]
          },
          "metadata": {
            "tags": []
          },
          "execution_count": 11
        }
      ]
    },
    {
      "cell_type": "code",
      "metadata": {
        "id": "hCwusLdV0yLo",
        "outputId": "12ac685a-3f82-43e4-c41f-82ebd1723a52",
        "colab": {
          "base_uri": "https://localhost:8080/"
        }
      },
      "source": [
        "cont = []\n",
        "for columns in df.columns:\n",
        "  print(f\"{columns}: {len(pd.unique(df_nt[columns]))}\")\n",
        "  if df_nt[columns].dtype == \"object\":\n",
        "    cont.append(columns)\n",
        "cont"
      ],
      "execution_count": 12,
      "outputs": [
        {
          "output_type": "stream",
          "text": [
            "A1: 2\n",
            "A2: 340\n",
            "A3: 213\n",
            "A4: 3\n",
            "A5: 3\n",
            "A6: 14\n",
            "A7: 9\n",
            "A8: 131\n",
            "A9: 2\n",
            "A10: 2\n",
            "A11: 23\n",
            "A12: 2\n",
            "A13: 3\n",
            "A14: 164\n",
            "A15: 229\n",
            "A16: 2\n"
          ],
          "name": "stdout"
        },
        {
          "output_type": "execute_result",
          "data": {
            "text/plain": [
              "['A1', 'A4', 'A5', 'A6', 'A7', 'A9', 'A10', 'A12', 'A13', 'A14']"
            ]
          },
          "metadata": {
            "tags": []
          },
          "execution_count": 12
        }
      ]
    },
    {
      "cell_type": "code",
      "metadata": {
        "id": "Wc5aGzrS1Qi0",
        "outputId": "2e39127a-5da3-4346-c779-ad72fc5ada9b",
        "colab": {
          "base_uri": "https://localhost:8080/"
        }
      },
      "source": [
        "df[\"A2\"].dtype"
      ],
      "execution_count": 13,
      "outputs": [
        {
          "output_type": "execute_result",
          "data": {
            "text/plain": [
              "dtype('O')"
            ]
          },
          "metadata": {
            "tags": []
          },
          "execution_count": 13
        }
      ]
    },
    {
      "cell_type": "markdown",
      "metadata": {
        "id": "_reC0P9lUQjz"
      },
      "source": [
        "# Details of prediction\n",
        "\n",
        "Variable to be predicted: A16 :: Discrete variable with two values '-' and '+' (mapped to 0 and 1 resp. for prediction purposes). Supervised Learning Problem\n",
        "\n",
        "Accuracy will be used as a measure of performance\n",
        "\n",
        "All variables will be relevant for predicting since none of them are much correlated to each other"
      ]
    },
    {
      "cell_type": "markdown",
      "metadata": {
        "id": "8TL3pHcga8uX"
      },
      "source": [
        "# Normalising continuous Variables"
      ]
    },
    {
      "cell_type": "code",
      "metadata": {
        "id": "I661YJdca_jg",
        "outputId": "55164a62-42cc-4e62-dc11-4390c3ddab8d",
        "colab": {
          "base_uri": "https://localhost:8080/",
          "height": 509
        }
      },
      "source": [
        "# a = list(('A2', 'A3', 'A8', 'A14', 'A15'))\n",
        "# df_nt.iloc[:, [1, 2, 7, 13, 14]] = StandardScaler.fit_transform(df_nt.iloc[:, [1, 2, 7, 13, 14]])\n",
        "# df_nt\n",
        "\n",
        "scaler = StandardScaler()\n",
        "\n",
        "df_nt.loc[:, ['A2', 'A3', 'A8', 'A14', 'A15']] = scaler.fit_transform(df_nt.loc[:, ['A2', 'A3', 'A8', 'A14', 'A15']])\n",
        "df_nt"
      ],
      "execution_count": 14,
      "outputs": [
        {
          "output_type": "stream",
          "text": [
            "/usr/local/lib/python3.6/dist-packages/pandas/core/indexing.py:1734: SettingWithCopyWarning: \n",
            "A value is trying to be set on a copy of a slice from a DataFrame.\n",
            "Try using .loc[row_indexer,col_indexer] = value instead\n",
            "\n",
            "See the caveats in the documentation: https://pandas.pydata.org/pandas-docs/stable/user_guide/indexing.html#returning-a-view-versus-a-copy\n",
            "  isetter(loc, value[:, i].tolist())\n"
          ],
          "name": "stderr"
        },
        {
          "output_type": "execute_result",
          "data": {
            "text/html": [
              "<div>\n",
              "<style scoped>\n",
              "    .dataframe tbody tr th:only-of-type {\n",
              "        vertical-align: middle;\n",
              "    }\n",
              "\n",
              "    .dataframe tbody tr th {\n",
              "        vertical-align: top;\n",
              "    }\n",
              "\n",
              "    .dataframe thead th {\n",
              "        text-align: right;\n",
              "    }\n",
              "</style>\n",
              "<table border=\"1\" class=\"dataframe\">\n",
              "  <thead>\n",
              "    <tr style=\"text-align: right;\">\n",
              "      <th></th>\n",
              "      <th>A1</th>\n",
              "      <th>A2</th>\n",
              "      <th>A3</th>\n",
              "      <th>A4</th>\n",
              "      <th>A5</th>\n",
              "      <th>A6</th>\n",
              "      <th>A7</th>\n",
              "      <th>A8</th>\n",
              "      <th>A9</th>\n",
              "      <th>A10</th>\n",
              "      <th>A11</th>\n",
              "      <th>A12</th>\n",
              "      <th>A13</th>\n",
              "      <th>A14</th>\n",
              "      <th>A15</th>\n",
              "      <th>A16</th>\n",
              "    </tr>\n",
              "  </thead>\n",
              "  <tbody>\n",
              "    <tr>\n",
              "      <th>0</th>\n",
              "      <td>b</td>\n",
              "      <td>-0.056962</td>\n",
              "      <td>-0.961440</td>\n",
              "      <td>u</td>\n",
              "      <td>g</td>\n",
              "      <td>w</td>\n",
              "      <td>v</td>\n",
              "      <td>-0.295171</td>\n",
              "      <td>t</td>\n",
              "      <td>t</td>\n",
              "      <td>1</td>\n",
              "      <td>f</td>\n",
              "      <td>g</td>\n",
              "      <td>0.128682</td>\n",
              "      <td>-0.193125</td>\n",
              "      <td>1</td>\n",
              "    </tr>\n",
              "    <tr>\n",
              "      <th>1</th>\n",
              "      <td>a</td>\n",
              "      <td>2.296536</td>\n",
              "      <td>-0.073565</td>\n",
              "      <td>u</td>\n",
              "      <td>g</td>\n",
              "      <td>q</td>\n",
              "      <td>h</td>\n",
              "      <td>0.236217</td>\n",
              "      <td>t</td>\n",
              "      <td>t</td>\n",
              "      <td>6</td>\n",
              "      <td>f</td>\n",
              "      <td>g</td>\n",
              "      <td>-0.816802</td>\n",
              "      <td>-0.086443</td>\n",
              "      <td>1</td>\n",
              "    </tr>\n",
              "    <tr>\n",
              "      <th>2</th>\n",
              "      <td>a</td>\n",
              "      <td>-0.592078</td>\n",
              "      <td>-0.861903</td>\n",
              "      <td>u</td>\n",
              "      <td>g</td>\n",
              "      <td>q</td>\n",
              "      <td>h</td>\n",
              "      <td>-0.220955</td>\n",
              "      <td>t</td>\n",
              "      <td>f</td>\n",
              "      <td>0</td>\n",
              "      <td>f</td>\n",
              "      <td>g</td>\n",
              "      <td>0.592504</td>\n",
              "      <td>-0.036150</td>\n",
              "      <td>1</td>\n",
              "    </tr>\n",
              "    <tr>\n",
              "      <th>3</th>\n",
              "      <td>b</td>\n",
              "      <td>-0.310572</td>\n",
              "      <td>-0.654865</td>\n",
              "      <td>u</td>\n",
              "      <td>g</td>\n",
              "      <td>w</td>\n",
              "      <td>v</td>\n",
              "      <td>0.446990</td>\n",
              "      <td>t</td>\n",
              "      <td>t</td>\n",
              "      <td>5</td>\n",
              "      <td>t</td>\n",
              "      <td>g</td>\n",
              "      <td>-0.477855</td>\n",
              "      <td>-0.192553</td>\n",
              "      <td>1</td>\n",
              "    </tr>\n",
              "    <tr>\n",
              "      <th>4</th>\n",
              "      <td>b</td>\n",
              "      <td>-0.958122</td>\n",
              "      <td>0.158358</td>\n",
              "      <td>u</td>\n",
              "      <td>g</td>\n",
              "      <td>w</td>\n",
              "      <td>v</td>\n",
              "      <td>-0.158613</td>\n",
              "      <td>t</td>\n",
              "      <td>f</td>\n",
              "      <td>0</td>\n",
              "      <td>f</td>\n",
              "      <td>s</td>\n",
              "      <td>-0.358926</td>\n",
              "      <td>-0.193125</td>\n",
              "      <td>1</td>\n",
              "    </tr>\n",
              "    <tr>\n",
              "      <th>...</th>\n",
              "      <td>...</td>\n",
              "      <td>...</td>\n",
              "      <td>...</td>\n",
              "      <td>...</td>\n",
              "      <td>...</td>\n",
              "      <td>...</td>\n",
              "      <td>...</td>\n",
              "      <td>...</td>\n",
              "      <td>...</td>\n",
              "      <td>...</td>\n",
              "      <td>...</td>\n",
              "      <td>...</td>\n",
              "      <td>...</td>\n",
              "      <td>...</td>\n",
              "      <td>...</td>\n",
              "      <td>...</td>\n",
              "    </tr>\n",
              "    <tr>\n",
              "      <th>685</th>\n",
              "      <td>b</td>\n",
              "      <td>-0.881193</td>\n",
              "      <td>1.046233</td>\n",
              "      <td>y</td>\n",
              "      <td>p</td>\n",
              "      <td>e</td>\n",
              "      <td>h</td>\n",
              "      <td>-0.295171</td>\n",
              "      <td>f</td>\n",
              "      <td>f</td>\n",
              "      <td>0</td>\n",
              "      <td>f</td>\n",
              "      <td>g</td>\n",
              "      <td>0.473575</td>\n",
              "      <td>-0.193125</td>\n",
              "      <td>0</td>\n",
              "    </tr>\n",
              "    <tr>\n",
              "      <th>686</th>\n",
              "      <td>a</td>\n",
              "      <td>-0.746780</td>\n",
              "      <td>-0.812134</td>\n",
              "      <td>u</td>\n",
              "      <td>g</td>\n",
              "      <td>c</td>\n",
              "      <td>v</td>\n",
              "      <td>-0.072523</td>\n",
              "      <td>f</td>\n",
              "      <td>t</td>\n",
              "      <td>2</td>\n",
              "      <td>t</td>\n",
              "      <td>g</td>\n",
              "      <td>0.116789</td>\n",
              "      <td>-0.118066</td>\n",
              "      <td>0</td>\n",
              "    </tr>\n",
              "    <tr>\n",
              "      <th>687</th>\n",
              "      <td>a</td>\n",
              "      <td>-0.528676</td>\n",
              "      <td>1.726075</td>\n",
              "      <td>y</td>\n",
              "      <td>p</td>\n",
              "      <td>ff</td>\n",
              "      <td>ff</td>\n",
              "      <td>-0.072523</td>\n",
              "      <td>f</td>\n",
              "      <td>t</td>\n",
              "      <td>1</td>\n",
              "      <td>t</td>\n",
              "      <td>g</td>\n",
              "      <td>0.116789</td>\n",
              "      <td>-0.192934</td>\n",
              "      <td>0</td>\n",
              "    </tr>\n",
              "    <tr>\n",
              "      <th>688</th>\n",
              "      <td>b</td>\n",
              "      <td>-1.148329</td>\n",
              "      <td>-0.920630</td>\n",
              "      <td>u</td>\n",
              "      <td>g</td>\n",
              "      <td>aa</td>\n",
              "      <td>v</td>\n",
              "      <td>-0.654378</td>\n",
              "      <td>f</td>\n",
              "      <td>f</td>\n",
              "      <td>0</td>\n",
              "      <td>f</td>\n",
              "      <td>g</td>\n",
              "      <td>0.592504</td>\n",
              "      <td>-0.050247</td>\n",
              "      <td>0</td>\n",
              "    </tr>\n",
              "    <tr>\n",
              "      <th>689</th>\n",
              "      <td>b</td>\n",
              "      <td>0.295556</td>\n",
              "      <td>-0.289561</td>\n",
              "      <td>u</td>\n",
              "      <td>g</td>\n",
              "      <td>c</td>\n",
              "      <td>h</td>\n",
              "      <td>1.794756</td>\n",
              "      <td>f</td>\n",
              "      <td>f</td>\n",
              "      <td>0</td>\n",
              "      <td>t</td>\n",
              "      <td>g</td>\n",
              "      <td>-1.072499</td>\n",
              "      <td>-0.193125</td>\n",
              "      <td>0</td>\n",
              "    </tr>\n",
              "  </tbody>\n",
              "</table>\n",
              "<p>653 rows × 16 columns</p>\n",
              "</div>"
            ],
            "text/plain": [
              "    A1        A2        A3 A4 A5  A6  ... A11  A12 A13       A14       A15 A16\n",
              "0    b -0.056962 -0.961440  u  g   w  ...   1    f   g  0.128682 -0.193125   1\n",
              "1    a  2.296536 -0.073565  u  g   q  ...   6    f   g -0.816802 -0.086443   1\n",
              "2    a -0.592078 -0.861903  u  g   q  ...   0    f   g  0.592504 -0.036150   1\n",
              "3    b -0.310572 -0.654865  u  g   w  ...   5    t   g -0.477855 -0.192553   1\n",
              "4    b -0.958122  0.158358  u  g   w  ...   0    f   s -0.358926 -0.193125   1\n",
              "..  ..       ...       ... .. ..  ..  ...  ..  ...  ..       ...       ...  ..\n",
              "685  b -0.881193  1.046233  y  p   e  ...   0    f   g  0.473575 -0.193125   0\n",
              "686  a -0.746780 -0.812134  u  g   c  ...   2    t   g  0.116789 -0.118066   0\n",
              "687  a -0.528676  1.726075  y  p  ff  ...   1    t   g  0.116789 -0.192934   0\n",
              "688  b -1.148329 -0.920630  u  g  aa  ...   0    f   g  0.592504 -0.050247   0\n",
              "689  b  0.295556 -0.289561  u  g   c  ...   0    t   g -1.072499 -0.193125   0\n",
              "\n",
              "[653 rows x 16 columns]"
            ]
          },
          "metadata": {
            "tags": []
          },
          "execution_count": 14
        }
      ]
    },
    {
      "cell_type": "markdown",
      "metadata": {
        "id": "eBLHFvi_auWb"
      },
      "source": [
        "# One hot Encoding "
      ]
    },
    {
      "cell_type": "code",
      "metadata": {
        "id": "JLrABdLAWfyd",
        "outputId": "3b8ea498-e0ed-47ac-d427-9183dbfc7c9f",
        "colab": {
          "base_uri": "https://localhost:8080/"
        }
      },
      "source": [
        "df_nt_ohe = pd.get_dummies(df_nt)\n",
        "df_nt_ohe.shape"
      ],
      "execution_count": 15,
      "outputs": [
        {
          "output_type": "execute_result",
          "data": {
            "text/plain": [
              "(653, 47)"
            ]
          },
          "metadata": {
            "tags": []
          },
          "execution_count": 15
        }
      ]
    },
    {
      "cell_type": "code",
      "metadata": {
        "id": "O6ouz2TElydf",
        "outputId": "0cedf6c6-de60-4a48-a2c9-f7572d0341f2",
        "colab": {
          "base_uri": "https://localhost:8080/",
          "height": 424
        }
      },
      "source": [
        "df_nt_ohe"
      ],
      "execution_count": 16,
      "outputs": [
        {
          "output_type": "execute_result",
          "data": {
            "text/html": [
              "<div>\n",
              "<style scoped>\n",
              "    .dataframe tbody tr th:only-of-type {\n",
              "        vertical-align: middle;\n",
              "    }\n",
              "\n",
              "    .dataframe tbody tr th {\n",
              "        vertical-align: top;\n",
              "    }\n",
              "\n",
              "    .dataframe thead th {\n",
              "        text-align: right;\n",
              "    }\n",
              "</style>\n",
              "<table border=\"1\" class=\"dataframe\">\n",
              "  <thead>\n",
              "    <tr style=\"text-align: right;\">\n",
              "      <th></th>\n",
              "      <th>A2</th>\n",
              "      <th>A3</th>\n",
              "      <th>A8</th>\n",
              "      <th>A11</th>\n",
              "      <th>A14</th>\n",
              "      <th>A15</th>\n",
              "      <th>A16</th>\n",
              "      <th>A1_a</th>\n",
              "      <th>A1_b</th>\n",
              "      <th>A4_l</th>\n",
              "      <th>A4_u</th>\n",
              "      <th>A4_y</th>\n",
              "      <th>A5_g</th>\n",
              "      <th>A5_gg</th>\n",
              "      <th>A5_p</th>\n",
              "      <th>A6_aa</th>\n",
              "      <th>A6_c</th>\n",
              "      <th>A6_cc</th>\n",
              "      <th>A6_d</th>\n",
              "      <th>A6_e</th>\n",
              "      <th>A6_ff</th>\n",
              "      <th>A6_i</th>\n",
              "      <th>A6_j</th>\n",
              "      <th>A6_k</th>\n",
              "      <th>A6_m</th>\n",
              "      <th>A6_q</th>\n",
              "      <th>A6_r</th>\n",
              "      <th>A6_w</th>\n",
              "      <th>A6_x</th>\n",
              "      <th>A7_bb</th>\n",
              "      <th>A7_dd</th>\n",
              "      <th>A7_ff</th>\n",
              "      <th>A7_h</th>\n",
              "      <th>A7_j</th>\n",
              "      <th>A7_n</th>\n",
              "      <th>A7_o</th>\n",
              "      <th>A7_v</th>\n",
              "      <th>A7_z</th>\n",
              "      <th>A9_f</th>\n",
              "      <th>A9_t</th>\n",
              "      <th>A10_f</th>\n",
              "      <th>A10_t</th>\n",
              "      <th>A12_f</th>\n",
              "      <th>A12_t</th>\n",
              "      <th>A13_g</th>\n",
              "      <th>A13_p</th>\n",
              "      <th>A13_s</th>\n",
              "    </tr>\n",
              "  </thead>\n",
              "  <tbody>\n",
              "    <tr>\n",
              "      <th>0</th>\n",
              "      <td>-0.056962</td>\n",
              "      <td>-0.961440</td>\n",
              "      <td>-0.295171</td>\n",
              "      <td>1</td>\n",
              "      <td>0.128682</td>\n",
              "      <td>-0.193125</td>\n",
              "      <td>1</td>\n",
              "      <td>0</td>\n",
              "      <td>1</td>\n",
              "      <td>0</td>\n",
              "      <td>1</td>\n",
              "      <td>0</td>\n",
              "      <td>1</td>\n",
              "      <td>0</td>\n",
              "      <td>0</td>\n",
              "      <td>0</td>\n",
              "      <td>0</td>\n",
              "      <td>0</td>\n",
              "      <td>0</td>\n",
              "      <td>0</td>\n",
              "      <td>0</td>\n",
              "      <td>0</td>\n",
              "      <td>0</td>\n",
              "      <td>0</td>\n",
              "      <td>0</td>\n",
              "      <td>0</td>\n",
              "      <td>0</td>\n",
              "      <td>1</td>\n",
              "      <td>0</td>\n",
              "      <td>0</td>\n",
              "      <td>0</td>\n",
              "      <td>0</td>\n",
              "      <td>0</td>\n",
              "      <td>0</td>\n",
              "      <td>0</td>\n",
              "      <td>0</td>\n",
              "      <td>1</td>\n",
              "      <td>0</td>\n",
              "      <td>0</td>\n",
              "      <td>1</td>\n",
              "      <td>0</td>\n",
              "      <td>1</td>\n",
              "      <td>1</td>\n",
              "      <td>0</td>\n",
              "      <td>1</td>\n",
              "      <td>0</td>\n",
              "      <td>0</td>\n",
              "    </tr>\n",
              "    <tr>\n",
              "      <th>1</th>\n",
              "      <td>2.296536</td>\n",
              "      <td>-0.073565</td>\n",
              "      <td>0.236217</td>\n",
              "      <td>6</td>\n",
              "      <td>-0.816802</td>\n",
              "      <td>-0.086443</td>\n",
              "      <td>1</td>\n",
              "      <td>1</td>\n",
              "      <td>0</td>\n",
              "      <td>0</td>\n",
              "      <td>1</td>\n",
              "      <td>0</td>\n",
              "      <td>1</td>\n",
              "      <td>0</td>\n",
              "      <td>0</td>\n",
              "      <td>0</td>\n",
              "      <td>0</td>\n",
              "      <td>0</td>\n",
              "      <td>0</td>\n",
              "      <td>0</td>\n",
              "      <td>0</td>\n",
              "      <td>0</td>\n",
              "      <td>0</td>\n",
              "      <td>0</td>\n",
              "      <td>0</td>\n",
              "      <td>1</td>\n",
              "      <td>0</td>\n",
              "      <td>0</td>\n",
              "      <td>0</td>\n",
              "      <td>0</td>\n",
              "      <td>0</td>\n",
              "      <td>0</td>\n",
              "      <td>1</td>\n",
              "      <td>0</td>\n",
              "      <td>0</td>\n",
              "      <td>0</td>\n",
              "      <td>0</td>\n",
              "      <td>0</td>\n",
              "      <td>0</td>\n",
              "      <td>1</td>\n",
              "      <td>0</td>\n",
              "      <td>1</td>\n",
              "      <td>1</td>\n",
              "      <td>0</td>\n",
              "      <td>1</td>\n",
              "      <td>0</td>\n",
              "      <td>0</td>\n",
              "    </tr>\n",
              "    <tr>\n",
              "      <th>2</th>\n",
              "      <td>-0.592078</td>\n",
              "      <td>-0.861903</td>\n",
              "      <td>-0.220955</td>\n",
              "      <td>0</td>\n",
              "      <td>0.592504</td>\n",
              "      <td>-0.036150</td>\n",
              "      <td>1</td>\n",
              "      <td>1</td>\n",
              "      <td>0</td>\n",
              "      <td>0</td>\n",
              "      <td>1</td>\n",
              "      <td>0</td>\n",
              "      <td>1</td>\n",
              "      <td>0</td>\n",
              "      <td>0</td>\n",
              "      <td>0</td>\n",
              "      <td>0</td>\n",
              "      <td>0</td>\n",
              "      <td>0</td>\n",
              "      <td>0</td>\n",
              "      <td>0</td>\n",
              "      <td>0</td>\n",
              "      <td>0</td>\n",
              "      <td>0</td>\n",
              "      <td>0</td>\n",
              "      <td>1</td>\n",
              "      <td>0</td>\n",
              "      <td>0</td>\n",
              "      <td>0</td>\n",
              "      <td>0</td>\n",
              "      <td>0</td>\n",
              "      <td>0</td>\n",
              "      <td>1</td>\n",
              "      <td>0</td>\n",
              "      <td>0</td>\n",
              "      <td>0</td>\n",
              "      <td>0</td>\n",
              "      <td>0</td>\n",
              "      <td>0</td>\n",
              "      <td>1</td>\n",
              "      <td>1</td>\n",
              "      <td>0</td>\n",
              "      <td>1</td>\n",
              "      <td>0</td>\n",
              "      <td>1</td>\n",
              "      <td>0</td>\n",
              "      <td>0</td>\n",
              "    </tr>\n",
              "    <tr>\n",
              "      <th>3</th>\n",
              "      <td>-0.310572</td>\n",
              "      <td>-0.654865</td>\n",
              "      <td>0.446990</td>\n",
              "      <td>5</td>\n",
              "      <td>-0.477855</td>\n",
              "      <td>-0.192553</td>\n",
              "      <td>1</td>\n",
              "      <td>0</td>\n",
              "      <td>1</td>\n",
              "      <td>0</td>\n",
              "      <td>1</td>\n",
              "      <td>0</td>\n",
              "      <td>1</td>\n",
              "      <td>0</td>\n",
              "      <td>0</td>\n",
              "      <td>0</td>\n",
              "      <td>0</td>\n",
              "      <td>0</td>\n",
              "      <td>0</td>\n",
              "      <td>0</td>\n",
              "      <td>0</td>\n",
              "      <td>0</td>\n",
              "      <td>0</td>\n",
              "      <td>0</td>\n",
              "      <td>0</td>\n",
              "      <td>0</td>\n",
              "      <td>0</td>\n",
              "      <td>1</td>\n",
              "      <td>0</td>\n",
              "      <td>0</td>\n",
              "      <td>0</td>\n",
              "      <td>0</td>\n",
              "      <td>0</td>\n",
              "      <td>0</td>\n",
              "      <td>0</td>\n",
              "      <td>0</td>\n",
              "      <td>1</td>\n",
              "      <td>0</td>\n",
              "      <td>0</td>\n",
              "      <td>1</td>\n",
              "      <td>0</td>\n",
              "      <td>1</td>\n",
              "      <td>0</td>\n",
              "      <td>1</td>\n",
              "      <td>1</td>\n",
              "      <td>0</td>\n",
              "      <td>0</td>\n",
              "    </tr>\n",
              "    <tr>\n",
              "      <th>4</th>\n",
              "      <td>-0.958122</td>\n",
              "      <td>0.158358</td>\n",
              "      <td>-0.158613</td>\n",
              "      <td>0</td>\n",
              "      <td>-0.358926</td>\n",
              "      <td>-0.193125</td>\n",
              "      <td>1</td>\n",
              "      <td>0</td>\n",
              "      <td>1</td>\n",
              "      <td>0</td>\n",
              "      <td>1</td>\n",
              "      <td>0</td>\n",
              "      <td>1</td>\n",
              "      <td>0</td>\n",
              "      <td>0</td>\n",
              "      <td>0</td>\n",
              "      <td>0</td>\n",
              "      <td>0</td>\n",
              "      <td>0</td>\n",
              "      <td>0</td>\n",
              "      <td>0</td>\n",
              "      <td>0</td>\n",
              "      <td>0</td>\n",
              "      <td>0</td>\n",
              "      <td>0</td>\n",
              "      <td>0</td>\n",
              "      <td>0</td>\n",
              "      <td>1</td>\n",
              "      <td>0</td>\n",
              "      <td>0</td>\n",
              "      <td>0</td>\n",
              "      <td>0</td>\n",
              "      <td>0</td>\n",
              "      <td>0</td>\n",
              "      <td>0</td>\n",
              "      <td>0</td>\n",
              "      <td>1</td>\n",
              "      <td>0</td>\n",
              "      <td>0</td>\n",
              "      <td>1</td>\n",
              "      <td>1</td>\n",
              "      <td>0</td>\n",
              "      <td>1</td>\n",
              "      <td>0</td>\n",
              "      <td>0</td>\n",
              "      <td>0</td>\n",
              "      <td>1</td>\n",
              "    </tr>\n",
              "    <tr>\n",
              "      <th>...</th>\n",
              "      <td>...</td>\n",
              "      <td>...</td>\n",
              "      <td>...</td>\n",
              "      <td>...</td>\n",
              "      <td>...</td>\n",
              "      <td>...</td>\n",
              "      <td>...</td>\n",
              "      <td>...</td>\n",
              "      <td>...</td>\n",
              "      <td>...</td>\n",
              "      <td>...</td>\n",
              "      <td>...</td>\n",
              "      <td>...</td>\n",
              "      <td>...</td>\n",
              "      <td>...</td>\n",
              "      <td>...</td>\n",
              "      <td>...</td>\n",
              "      <td>...</td>\n",
              "      <td>...</td>\n",
              "      <td>...</td>\n",
              "      <td>...</td>\n",
              "      <td>...</td>\n",
              "      <td>...</td>\n",
              "      <td>...</td>\n",
              "      <td>...</td>\n",
              "      <td>...</td>\n",
              "      <td>...</td>\n",
              "      <td>...</td>\n",
              "      <td>...</td>\n",
              "      <td>...</td>\n",
              "      <td>...</td>\n",
              "      <td>...</td>\n",
              "      <td>...</td>\n",
              "      <td>...</td>\n",
              "      <td>...</td>\n",
              "      <td>...</td>\n",
              "      <td>...</td>\n",
              "      <td>...</td>\n",
              "      <td>...</td>\n",
              "      <td>...</td>\n",
              "      <td>...</td>\n",
              "      <td>...</td>\n",
              "      <td>...</td>\n",
              "      <td>...</td>\n",
              "      <td>...</td>\n",
              "      <td>...</td>\n",
              "      <td>...</td>\n",
              "    </tr>\n",
              "    <tr>\n",
              "      <th>685</th>\n",
              "      <td>-0.881193</td>\n",
              "      <td>1.046233</td>\n",
              "      <td>-0.295171</td>\n",
              "      <td>0</td>\n",
              "      <td>0.473575</td>\n",
              "      <td>-0.193125</td>\n",
              "      <td>0</td>\n",
              "      <td>0</td>\n",
              "      <td>1</td>\n",
              "      <td>0</td>\n",
              "      <td>0</td>\n",
              "      <td>1</td>\n",
              "      <td>0</td>\n",
              "      <td>0</td>\n",
              "      <td>1</td>\n",
              "      <td>0</td>\n",
              "      <td>0</td>\n",
              "      <td>0</td>\n",
              "      <td>0</td>\n",
              "      <td>1</td>\n",
              "      <td>0</td>\n",
              "      <td>0</td>\n",
              "      <td>0</td>\n",
              "      <td>0</td>\n",
              "      <td>0</td>\n",
              "      <td>0</td>\n",
              "      <td>0</td>\n",
              "      <td>0</td>\n",
              "      <td>0</td>\n",
              "      <td>0</td>\n",
              "      <td>0</td>\n",
              "      <td>0</td>\n",
              "      <td>1</td>\n",
              "      <td>0</td>\n",
              "      <td>0</td>\n",
              "      <td>0</td>\n",
              "      <td>0</td>\n",
              "      <td>0</td>\n",
              "      <td>1</td>\n",
              "      <td>0</td>\n",
              "      <td>1</td>\n",
              "      <td>0</td>\n",
              "      <td>1</td>\n",
              "      <td>0</td>\n",
              "      <td>1</td>\n",
              "      <td>0</td>\n",
              "      <td>0</td>\n",
              "    </tr>\n",
              "    <tr>\n",
              "      <th>686</th>\n",
              "      <td>-0.746780</td>\n",
              "      <td>-0.812134</td>\n",
              "      <td>-0.072523</td>\n",
              "      <td>2</td>\n",
              "      <td>0.116789</td>\n",
              "      <td>-0.118066</td>\n",
              "      <td>0</td>\n",
              "      <td>1</td>\n",
              "      <td>0</td>\n",
              "      <td>0</td>\n",
              "      <td>1</td>\n",
              "      <td>0</td>\n",
              "      <td>1</td>\n",
              "      <td>0</td>\n",
              "      <td>0</td>\n",
              "      <td>0</td>\n",
              "      <td>1</td>\n",
              "      <td>0</td>\n",
              "      <td>0</td>\n",
              "      <td>0</td>\n",
              "      <td>0</td>\n",
              "      <td>0</td>\n",
              "      <td>0</td>\n",
              "      <td>0</td>\n",
              "      <td>0</td>\n",
              "      <td>0</td>\n",
              "      <td>0</td>\n",
              "      <td>0</td>\n",
              "      <td>0</td>\n",
              "      <td>0</td>\n",
              "      <td>0</td>\n",
              "      <td>0</td>\n",
              "      <td>0</td>\n",
              "      <td>0</td>\n",
              "      <td>0</td>\n",
              "      <td>0</td>\n",
              "      <td>1</td>\n",
              "      <td>0</td>\n",
              "      <td>1</td>\n",
              "      <td>0</td>\n",
              "      <td>0</td>\n",
              "      <td>1</td>\n",
              "      <td>0</td>\n",
              "      <td>1</td>\n",
              "      <td>1</td>\n",
              "      <td>0</td>\n",
              "      <td>0</td>\n",
              "    </tr>\n",
              "    <tr>\n",
              "      <th>687</th>\n",
              "      <td>-0.528676</td>\n",
              "      <td>1.726075</td>\n",
              "      <td>-0.072523</td>\n",
              "      <td>1</td>\n",
              "      <td>0.116789</td>\n",
              "      <td>-0.192934</td>\n",
              "      <td>0</td>\n",
              "      <td>1</td>\n",
              "      <td>0</td>\n",
              "      <td>0</td>\n",
              "      <td>0</td>\n",
              "      <td>1</td>\n",
              "      <td>0</td>\n",
              "      <td>0</td>\n",
              "      <td>1</td>\n",
              "      <td>0</td>\n",
              "      <td>0</td>\n",
              "      <td>0</td>\n",
              "      <td>0</td>\n",
              "      <td>0</td>\n",
              "      <td>1</td>\n",
              "      <td>0</td>\n",
              "      <td>0</td>\n",
              "      <td>0</td>\n",
              "      <td>0</td>\n",
              "      <td>0</td>\n",
              "      <td>0</td>\n",
              "      <td>0</td>\n",
              "      <td>0</td>\n",
              "      <td>0</td>\n",
              "      <td>0</td>\n",
              "      <td>1</td>\n",
              "      <td>0</td>\n",
              "      <td>0</td>\n",
              "      <td>0</td>\n",
              "      <td>0</td>\n",
              "      <td>0</td>\n",
              "      <td>0</td>\n",
              "      <td>1</td>\n",
              "      <td>0</td>\n",
              "      <td>0</td>\n",
              "      <td>1</td>\n",
              "      <td>0</td>\n",
              "      <td>1</td>\n",
              "      <td>1</td>\n",
              "      <td>0</td>\n",
              "      <td>0</td>\n",
              "    </tr>\n",
              "    <tr>\n",
              "      <th>688</th>\n",
              "      <td>-1.148329</td>\n",
              "      <td>-0.920630</td>\n",
              "      <td>-0.654378</td>\n",
              "      <td>0</td>\n",
              "      <td>0.592504</td>\n",
              "      <td>-0.050247</td>\n",
              "      <td>0</td>\n",
              "      <td>0</td>\n",
              "      <td>1</td>\n",
              "      <td>0</td>\n",
              "      <td>1</td>\n",
              "      <td>0</td>\n",
              "      <td>1</td>\n",
              "      <td>0</td>\n",
              "      <td>0</td>\n",
              "      <td>1</td>\n",
              "      <td>0</td>\n",
              "      <td>0</td>\n",
              "      <td>0</td>\n",
              "      <td>0</td>\n",
              "      <td>0</td>\n",
              "      <td>0</td>\n",
              "      <td>0</td>\n",
              "      <td>0</td>\n",
              "      <td>0</td>\n",
              "      <td>0</td>\n",
              "      <td>0</td>\n",
              "      <td>0</td>\n",
              "      <td>0</td>\n",
              "      <td>0</td>\n",
              "      <td>0</td>\n",
              "      <td>0</td>\n",
              "      <td>0</td>\n",
              "      <td>0</td>\n",
              "      <td>0</td>\n",
              "      <td>0</td>\n",
              "      <td>1</td>\n",
              "      <td>0</td>\n",
              "      <td>1</td>\n",
              "      <td>0</td>\n",
              "      <td>1</td>\n",
              "      <td>0</td>\n",
              "      <td>1</td>\n",
              "      <td>0</td>\n",
              "      <td>1</td>\n",
              "      <td>0</td>\n",
              "      <td>0</td>\n",
              "    </tr>\n",
              "    <tr>\n",
              "      <th>689</th>\n",
              "      <td>0.295556</td>\n",
              "      <td>-0.289561</td>\n",
              "      <td>1.794756</td>\n",
              "      <td>0</td>\n",
              "      <td>-1.072499</td>\n",
              "      <td>-0.193125</td>\n",
              "      <td>0</td>\n",
              "      <td>0</td>\n",
              "      <td>1</td>\n",
              "      <td>0</td>\n",
              "      <td>1</td>\n",
              "      <td>0</td>\n",
              "      <td>1</td>\n",
              "      <td>0</td>\n",
              "      <td>0</td>\n",
              "      <td>0</td>\n",
              "      <td>1</td>\n",
              "      <td>0</td>\n",
              "      <td>0</td>\n",
              "      <td>0</td>\n",
              "      <td>0</td>\n",
              "      <td>0</td>\n",
              "      <td>0</td>\n",
              "      <td>0</td>\n",
              "      <td>0</td>\n",
              "      <td>0</td>\n",
              "      <td>0</td>\n",
              "      <td>0</td>\n",
              "      <td>0</td>\n",
              "      <td>0</td>\n",
              "      <td>0</td>\n",
              "      <td>0</td>\n",
              "      <td>1</td>\n",
              "      <td>0</td>\n",
              "      <td>0</td>\n",
              "      <td>0</td>\n",
              "      <td>0</td>\n",
              "      <td>0</td>\n",
              "      <td>1</td>\n",
              "      <td>0</td>\n",
              "      <td>1</td>\n",
              "      <td>0</td>\n",
              "      <td>0</td>\n",
              "      <td>1</td>\n",
              "      <td>1</td>\n",
              "      <td>0</td>\n",
              "      <td>0</td>\n",
              "    </tr>\n",
              "  </tbody>\n",
              "</table>\n",
              "<p>653 rows × 47 columns</p>\n",
              "</div>"
            ],
            "text/plain": [
              "           A2        A3        A8  A11  ...  A12_t  A13_g  A13_p  A13_s\n",
              "0   -0.056962 -0.961440 -0.295171    1  ...      0      1      0      0\n",
              "1    2.296536 -0.073565  0.236217    6  ...      0      1      0      0\n",
              "2   -0.592078 -0.861903 -0.220955    0  ...      0      1      0      0\n",
              "3   -0.310572 -0.654865  0.446990    5  ...      1      1      0      0\n",
              "4   -0.958122  0.158358 -0.158613    0  ...      0      0      0      1\n",
              "..        ...       ...       ...  ...  ...    ...    ...    ...    ...\n",
              "685 -0.881193  1.046233 -0.295171    0  ...      0      1      0      0\n",
              "686 -0.746780 -0.812134 -0.072523    2  ...      1      1      0      0\n",
              "687 -0.528676  1.726075 -0.072523    1  ...      1      1      0      0\n",
              "688 -1.148329 -0.920630 -0.654378    0  ...      0      1      0      0\n",
              "689  0.295556 -0.289561  1.794756    0  ...      1      1      0      0\n",
              "\n",
              "[653 rows x 47 columns]"
            ]
          },
          "metadata": {
            "tags": []
          },
          "execution_count": 16
        }
      ]
    },
    {
      "cell_type": "code",
      "metadata": {
        "id": "B1c87_EXmuWc"
      },
      "source": [
        "Y = df_nt_ohe['A16']\n",
        "X = df_nt_ohe.drop(columns='A16')"
      ],
      "execution_count": 17,
      "outputs": []
    },
    {
      "cell_type": "code",
      "metadata": {
        "id": "PNq_Ge40pD8u",
        "outputId": "6f68e063-3675-4bc7-8b72-841945312073",
        "colab": {
          "base_uri": "https://localhost:8080/"
        }
      },
      "source": [
        "print(X.shape)\n",
        "print(Y.shape)"
      ],
      "execution_count": 18,
      "outputs": [
        {
          "output_type": "stream",
          "text": [
            "(653, 46)\n",
            "(653,)\n"
          ],
          "name": "stdout"
        }
      ]
    },
    {
      "cell_type": "markdown",
      "metadata": {
        "id": "yQqzH-qapJqD"
      },
      "source": [
        "# Ridge Classifier Model"
      ]
    },
    {
      "cell_type": "code",
      "metadata": {
        "id": "2wF3it9BrM8J"
      },
      "source": [
        "def rdg_class(X,Y):\n",
        "  \n",
        "\n",
        "  cv = RepeatedKFold(n_splits=5, n_repeats=1, random_state=265)\n",
        "  x_train, x_test, y_train, y_test = train_test_split(X, Y, test_size=0.15, random_state=1)\n",
        "  grid = RandomizedSearchCV(estimator=RidgeClassifier(), \n",
        "              param_distributions={\n",
        "            'alpha': (0.005,0.01,0.02, 0.1 ,0.2,0.25,0.3,0.4,0.5, 1, 2, 5,10,20,21,22,23,50),\n",
        "            \"max_iter\": np.arange(1000,2001,50),\n",
        "            \"fit_intercept\":(True, False)\n",
        "        }, scoring='accuracy', cv = cv,n_iter = 500, verbose=0,n_jobs=-1)\n",
        "  grid_result = grid.fit(x_train, y_train)\n",
        "  best_params = grid_result.best_params_\n",
        "  \n",
        "  # Print the best score and params\n",
        "  print('Best Score Achieved: ', grid_result.best_score_)\n",
        "  print('Best set of parameters: ', grid_result.best_params_)\n",
        "\n",
        "  # Train the model\n",
        "  rdg = RidgeClassifier(alpha=best_params[\"alpha\"], fit_intercept= best_params[\"fit_intercept\"],max_iter = best_params[\"max_iter\"])\n",
        "  rdg.fit(x_train,y_train)\n",
        "\n",
        "  #Make predictions\n",
        "  pred = rdg.predict(x_test)\n",
        "  scr = metrics.accuracy_score(y_test, pred)\n",
        "\n",
        "  return scr\n"
      ],
      "execution_count": 19,
      "outputs": []
    },
    {
      "cell_type": "code",
      "metadata": {
        "id": "Vb-DZUUp2Ez9",
        "outputId": "d06df025-109d-45e7-e3c4-c84c09a0f4f7",
        "colab": {
          "base_uri": "https://localhost:8080/"
        }
      },
      "source": [
        "rdg_class(X,Y)"
      ],
      "execution_count": 20,
      "outputs": [
        {
          "output_type": "stream",
          "text": [
            "Best Score Achieved:  0.8684684684684685\n",
            "Best set of parameters:  {'max_iter': 1650, 'fit_intercept': False, 'alpha': 21}\n"
          ],
          "name": "stdout"
        },
        {
          "output_type": "execute_result",
          "data": {
            "text/plain": [
              "0.8571428571428571"
            ]
          },
          "metadata": {
            "tags": []
          },
          "execution_count": 20
        }
      ]
    },
    {
      "cell_type": "markdown",
      "metadata": {
        "id": "GPKDn0bNu88p"
      },
      "source": [
        "# Random Forest Classifier"
      ]
    },
    {
      "cell_type": "code",
      "metadata": {
        "id": "JANwJnca3mzv"
      },
      "source": [
        "def rfr_class(X, Y):\n",
        "# Perform RandomizedSearch\n",
        "    x_train, x_test, y_train, y_test = train_test_split(X, Y, test_size=0.15, random_state=1)\n",
        "    cv = RepeatedKFold(n_splits=5, n_repeats=1)\n",
        "    gsc = RandomizedSearchCV(\n",
        "        estimator=RandomForestClassifier(),\n",
        "        param_distributions={\n",
        "            'max_depth': range(3,7),\n",
        "            'n_estimators': (10, 50, 100, 500,1000),\n",
        "            'min_samples_leaf': (1, 2, 4),\n",
        "        },\n",
        "        cv=cv, scoring='accuracy', n_iter = 15, verbose=0,n_jobs=-1)\n",
        "    \n",
        "    # Chose the best parameters\n",
        "    grid_result = gsc.fit(x_train, y_train)\n",
        "    print(grid_result)\n",
        "    best_params = grid_result.best_params_\n",
        "    \n",
        "    rfc = RandomForestClassifier(max_depth=best_params[\"max_depth\"], n_estimators=best_params[\"n_estimators\"],min_samples_leaf = best_params[\"min_samples_leaf\"], random_state=False, verbose=False)\n",
        "    # Train the model\n",
        "    rfc.fit(x_train, y_train)\n",
        "\n",
        "    #Make predictions on Test Set\n",
        "    pred = rfc.predict(x_test)\n",
        "    scr = metrics.accuracy_score(y_test, pred)\n",
        "\n",
        "\n",
        "    return scr"
      ],
      "execution_count": 21,
      "outputs": []
    },
    {
      "cell_type": "code",
      "metadata": {
        "id": "HTMcyhde3txU",
        "outputId": "4da92e4c-45af-46d7-a0f5-7839acb26065",
        "colab": {
          "base_uri": "https://localhost:8080/"
        }
      },
      "source": [
        "rfr_class(X,Y)"
      ],
      "execution_count": 22,
      "outputs": [
        {
          "output_type": "stream",
          "text": [
            "RandomizedSearchCV(cv=RepeatedKFold(n_repeats=1, n_splits=5, random_state=None),\n",
            "                   error_score=nan,\n",
            "                   estimator=RandomForestClassifier(bootstrap=True,\n",
            "                                                    ccp_alpha=0.0,\n",
            "                                                    class_weight=None,\n",
            "                                                    criterion='gini',\n",
            "                                                    max_depth=None,\n",
            "                                                    max_features='auto',\n",
            "                                                    max_leaf_nodes=None,\n",
            "                                                    max_samples=None,\n",
            "                                                    min_impurity_decrease=0.0,\n",
            "                                                    min_impurity_split=None,\n",
            "                                                    min_samples_leaf=1,\n",
            "                                                    min_samples_split=2,\n",
            "                                                    min_weight_fraction_leaf=0.0,\n",
            "                                                    n_estimators=100,\n",
            "                                                    n_jobs=None,\n",
            "                                                    oob_score=False,\n",
            "                                                    random_state=None,\n",
            "                                                    verbose=0,\n",
            "                                                    warm_start=False),\n",
            "                   iid='deprecated', n_iter=15, n_jobs=-1,\n",
            "                   param_distributions={'max_depth': range(3, 7),\n",
            "                                        'min_samples_leaf': (1, 2, 4),\n",
            "                                        'n_estimators': (10, 50, 100, 500,\n",
            "                                                         1000)},\n",
            "                   pre_dispatch='2*n_jobs', random_state=None, refit=True,\n",
            "                   return_train_score=False, scoring='accuracy', verbose=0)\n"
          ],
          "name": "stdout"
        },
        {
          "output_type": "execute_result",
          "data": {
            "text/plain": [
              "0.8775510204081632"
            ]
          },
          "metadata": {
            "tags": []
          },
          "execution_count": 22
        }
      ]
    },
    {
      "cell_type": "markdown",
      "metadata": {
        "id": "imoS_lVZUn0h"
      },
      "source": [
        "# Conclusion\n",
        "\n",
        "#### From the above models we see that good scores are obtained in both Random Forest and Ridge Classifier. Hence both of these models can be used for prediction purposes."
      ]
    }
  ]
}